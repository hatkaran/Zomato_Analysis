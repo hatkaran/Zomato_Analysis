{
  "cells": [
    {
      "cell_type": "markdown",
      "metadata": {
        "id": "view-in-github",
        "colab_type": "text"
      },
      "source": [
        "<a href=\"https://colab.research.google.com/github/hatkaran/Zomato_Analysis/blob/main/Zomato_Analysis.ipynb\" target=\"_parent\"><img src=\"https://colab.research.google.com/assets/colab-badge.svg\" alt=\"Open In Colab\"/></a>"
      ]
    },
    {
      "cell_type": "markdown",
      "id": "b4586bbb",
      "metadata": {
        "id": "b4586bbb"
      },
      "source": [
        "### How to read data from databse !"
      ]
    },
    {
      "cell_type": "code",
      "execution_count": 1,
      "id": "dae4c2bc",
      "metadata": {
        "id": "dae4c2bc"
      },
      "outputs": [],
      "source": [
        "import pandas as pd\n",
        "import numpy as np\n",
        "import matplotlib.pyplot as plt\n",
        "import seaborn as sns"
      ]
    },
    {
      "cell_type": "code",
      "execution_count": 2,
      "id": "a1db3fc4",
      "metadata": {
        "id": "a1db3fc4"
      },
      "outputs": [],
      "source": [
        "import sqlite3"
      ]
    },
    {
      "cell_type": "code",
      "source": [
        "from google.colab import drive\n",
        "drive.mount(\"/content/drive\")"
      ],
      "metadata": {
        "colab": {
          "base_uri": "https://localhost:8080/"
        },
        "id": "12WeGDYgk5Pf",
        "outputId": "c18312cf-bce3-4a03-9cb7-da60f6b9425f"
      },
      "id": "12WeGDYgk5Pf",
      "execution_count": 3,
      "outputs": [
        {
          "output_type": "stream",
          "name": "stdout",
          "text": [
            "Mounted at /content/drive\n"
          ]
        }
      ]
    },
    {
      "cell_type": "code",
      "execution_count": 6,
      "id": "b470c3cb",
      "metadata": {
        "id": "b470c3cb"
      },
      "outputs": [],
      "source": [
        "con = sqlite3.connect(r\"/content/drive/MyDrive/Req. Zomato Data/zomato_rawdata.sqlite\")\n",
        "# con is connection to my sql database"
      ]
    },
    {
      "cell_type": "code",
      "execution_count": 7,
      "id": "e35c7449",
      "metadata": {
        "colab": {
          "base_uri": "https://localhost:8080/",
          "height": 340
        },
        "id": "e35c7449",
        "outputId": "d02fc383-a6dd-4d41-8bae-8378836e4609"
      },
      "outputs": [
        {
          "output_type": "execute_result",
          "data": {
            "text/plain": [
              "   index                                                url  \\\n",
              "0      0  https://www.zomato.com/bangalore/jalsa-banasha...   \n",
              "1      1  https://www.zomato.com/bangalore/spice-elephan...   \n",
              "\n",
              "                                             address            name  \\\n",
              "0  942, 21st Main Road, 2nd Stage, Banashankari, ...           Jalsa   \n",
              "1  2nd Floor, 80 Feet Road, Near Big Bazaar, 6th ...  Spice Elephant   \n",
              "\n",
              "  online_order book_table   rate  votes                           phone  \\\n",
              "0          Yes        Yes  4.1/5    775  080 42297555\\r\\n+91 9743772233   \n",
              "1          Yes         No  4.1/5    787                    080 41714161   \n",
              "\n",
              "       location      rest_type  \\\n",
              "0  Banashankari  Casual Dining   \n",
              "1  Banashankari  Casual Dining   \n",
              "\n",
              "                                          dish_liked  \\\n",
              "0  Pasta, Lunch Buffet, Masala Papad, Paneer Laja...   \n",
              "1  Momos, Lunch Buffet, Chocolate Nirvana, Thai G...   \n",
              "\n",
              "                         cuisines approx_cost(for two people)  \\\n",
              "0  North Indian, Mughlai, Chinese                         800   \n",
              "1     Chinese, North Indian, Thai                         800   \n",
              "\n",
              "                                        reviews_list menu_item  \\\n",
              "0  [('Rated 4.0', 'RATED\\n  A beautiful place to ...        []   \n",
              "1  [('Rated 4.0', 'RATED\\n  Had been here for din...        []   \n",
              "\n",
              "  listed_in(type) listed_in(city)  \n",
              "0          Buffet    Banashankari  \n",
              "1          Buffet    Banashankari  "
            ],
            "text/html": [
              "\n",
              "  <div id=\"df-799413d4-b78d-45c5-afa4-0dd30f8c6e5c\" class=\"colab-df-container\">\n",
              "    <div>\n",
              "<style scoped>\n",
              "    .dataframe tbody tr th:only-of-type {\n",
              "        vertical-align: middle;\n",
              "    }\n",
              "\n",
              "    .dataframe tbody tr th {\n",
              "        vertical-align: top;\n",
              "    }\n",
              "\n",
              "    .dataframe thead th {\n",
              "        text-align: right;\n",
              "    }\n",
              "</style>\n",
              "<table border=\"1\" class=\"dataframe\">\n",
              "  <thead>\n",
              "    <tr style=\"text-align: right;\">\n",
              "      <th></th>\n",
              "      <th>index</th>\n",
              "      <th>url</th>\n",
              "      <th>address</th>\n",
              "      <th>name</th>\n",
              "      <th>online_order</th>\n",
              "      <th>book_table</th>\n",
              "      <th>rate</th>\n",
              "      <th>votes</th>\n",
              "      <th>phone</th>\n",
              "      <th>location</th>\n",
              "      <th>rest_type</th>\n",
              "      <th>dish_liked</th>\n",
              "      <th>cuisines</th>\n",
              "      <th>approx_cost(for two people)</th>\n",
              "      <th>reviews_list</th>\n",
              "      <th>menu_item</th>\n",
              "      <th>listed_in(type)</th>\n",
              "      <th>listed_in(city)</th>\n",
              "    </tr>\n",
              "  </thead>\n",
              "  <tbody>\n",
              "    <tr>\n",
              "      <th>0</th>\n",
              "      <td>0</td>\n",
              "      <td>https://www.zomato.com/bangalore/jalsa-banasha...</td>\n",
              "      <td>942, 21st Main Road, 2nd Stage, Banashankari, ...</td>\n",
              "      <td>Jalsa</td>\n",
              "      <td>Yes</td>\n",
              "      <td>Yes</td>\n",
              "      <td>4.1/5</td>\n",
              "      <td>775</td>\n",
              "      <td>080 42297555\\r\\n+91 9743772233</td>\n",
              "      <td>Banashankari</td>\n",
              "      <td>Casual Dining</td>\n",
              "      <td>Pasta, Lunch Buffet, Masala Papad, Paneer Laja...</td>\n",
              "      <td>North Indian, Mughlai, Chinese</td>\n",
              "      <td>800</td>\n",
              "      <td>[('Rated 4.0', 'RATED\\n  A beautiful place to ...</td>\n",
              "      <td>[]</td>\n",
              "      <td>Buffet</td>\n",
              "      <td>Banashankari</td>\n",
              "    </tr>\n",
              "    <tr>\n",
              "      <th>1</th>\n",
              "      <td>1</td>\n",
              "      <td>https://www.zomato.com/bangalore/spice-elephan...</td>\n",
              "      <td>2nd Floor, 80 Feet Road, Near Big Bazaar, 6th ...</td>\n",
              "      <td>Spice Elephant</td>\n",
              "      <td>Yes</td>\n",
              "      <td>No</td>\n",
              "      <td>4.1/5</td>\n",
              "      <td>787</td>\n",
              "      <td>080 41714161</td>\n",
              "      <td>Banashankari</td>\n",
              "      <td>Casual Dining</td>\n",
              "      <td>Momos, Lunch Buffet, Chocolate Nirvana, Thai G...</td>\n",
              "      <td>Chinese, North Indian, Thai</td>\n",
              "      <td>800</td>\n",
              "      <td>[('Rated 4.0', 'RATED\\n  Had been here for din...</td>\n",
              "      <td>[]</td>\n",
              "      <td>Buffet</td>\n",
              "      <td>Banashankari</td>\n",
              "    </tr>\n",
              "  </tbody>\n",
              "</table>\n",
              "</div>\n",
              "    <div class=\"colab-df-buttons\">\n",
              "\n",
              "  <div class=\"colab-df-container\">\n",
              "    <button class=\"colab-df-convert\" onclick=\"convertToInteractive('df-799413d4-b78d-45c5-afa4-0dd30f8c6e5c')\"\n",
              "            title=\"Convert this dataframe to an interactive table.\"\n",
              "            style=\"display:none;\">\n",
              "\n",
              "  <svg xmlns=\"http://www.w3.org/2000/svg\" height=\"24px\" viewBox=\"0 -960 960 960\">\n",
              "    <path d=\"M120-120v-720h720v720H120Zm60-500h600v-160H180v160Zm220 220h160v-160H400v160Zm0 220h160v-160H400v160ZM180-400h160v-160H180v160Zm440 0h160v-160H620v160ZM180-180h160v-160H180v160Zm440 0h160v-160H620v160Z\"/>\n",
              "  </svg>\n",
              "    </button>\n",
              "\n",
              "  <style>\n",
              "    .colab-df-container {\n",
              "      display:flex;\n",
              "      gap: 12px;\n",
              "    }\n",
              "\n",
              "    .colab-df-convert {\n",
              "      background-color: #E8F0FE;\n",
              "      border: none;\n",
              "      border-radius: 50%;\n",
              "      cursor: pointer;\n",
              "      display: none;\n",
              "      fill: #1967D2;\n",
              "      height: 32px;\n",
              "      padding: 0 0 0 0;\n",
              "      width: 32px;\n",
              "    }\n",
              "\n",
              "    .colab-df-convert:hover {\n",
              "      background-color: #E2EBFA;\n",
              "      box-shadow: 0px 1px 2px rgba(60, 64, 67, 0.3), 0px 1px 3px 1px rgba(60, 64, 67, 0.15);\n",
              "      fill: #174EA6;\n",
              "    }\n",
              "\n",
              "    .colab-df-buttons div {\n",
              "      margin-bottom: 4px;\n",
              "    }\n",
              "\n",
              "    [theme=dark] .colab-df-convert {\n",
              "      background-color: #3B4455;\n",
              "      fill: #D2E3FC;\n",
              "    }\n",
              "\n",
              "    [theme=dark] .colab-df-convert:hover {\n",
              "      background-color: #434B5C;\n",
              "      box-shadow: 0px 1px 3px 1px rgba(0, 0, 0, 0.15);\n",
              "      filter: drop-shadow(0px 1px 2px rgba(0, 0, 0, 0.3));\n",
              "      fill: #FFFFFF;\n",
              "    }\n",
              "  </style>\n",
              "\n",
              "    <script>\n",
              "      const buttonEl =\n",
              "        document.querySelector('#df-799413d4-b78d-45c5-afa4-0dd30f8c6e5c button.colab-df-convert');\n",
              "      buttonEl.style.display =\n",
              "        google.colab.kernel.accessAllowed ? 'block' : 'none';\n",
              "\n",
              "      async function convertToInteractive(key) {\n",
              "        const element = document.querySelector('#df-799413d4-b78d-45c5-afa4-0dd30f8c6e5c');\n",
              "        const dataTable =\n",
              "          await google.colab.kernel.invokeFunction('convertToInteractive',\n",
              "                                                    [key], {});\n",
              "        if (!dataTable) return;\n",
              "\n",
              "        const docLinkHtml = 'Like what you see? Visit the ' +\n",
              "          '<a target=\"_blank\" href=https://colab.research.google.com/notebooks/data_table.ipynb>data table notebook</a>'\n",
              "          + ' to learn more about interactive tables.';\n",
              "        element.innerHTML = '';\n",
              "        dataTable['output_type'] = 'display_data';\n",
              "        await google.colab.output.renderOutput(dataTable, element);\n",
              "        const docLink = document.createElement('div');\n",
              "        docLink.innerHTML = docLinkHtml;\n",
              "        element.appendChild(docLink);\n",
              "      }\n",
              "    </script>\n",
              "  </div>\n",
              "\n",
              "    </div>\n",
              "  </div>\n"
            ]
          },
          "metadata": {},
          "execution_count": 7
        }
      ],
      "source": [
        "query = \"SELECT * FROM Users\"\n",
        "\n",
        "pd.read_sql_query(query, con).head(2)"
      ]
    },
    {
      "cell_type": "code",
      "execution_count": 8,
      "id": "14d10f06",
      "metadata": {
        "id": "14d10f06"
      },
      "outputs": [],
      "source": [
        "df = pd.read_sql_query(query, con)"
      ]
    },
    {
      "cell_type": "code",
      "execution_count": 9,
      "id": "34124391",
      "metadata": {
        "colab": {
          "base_uri": "https://localhost:8080/"
        },
        "id": "34124391",
        "outputId": "2ee9aea5-5f72-4137-ba22-0b6903151f0f"
      },
      "outputs": [
        {
          "output_type": "execute_result",
          "data": {
            "text/plain": [
              "(51717, 18)"
            ]
          },
          "metadata": {},
          "execution_count": 9
        }
      ],
      "source": [
        "df.shape"
      ]
    },
    {
      "cell_type": "code",
      "execution_count": 10,
      "id": "d53897da",
      "metadata": {
        "colab": {
          "base_uri": "https://localhost:8080/"
        },
        "id": "d53897da",
        "outputId": "f661ba01-0456-4fd3-b767-0cefa6514994"
      },
      "outputs": [
        {
          "output_type": "execute_result",
          "data": {
            "text/plain": [
              "Index(['index', 'url', 'address', 'name', 'online_order', 'book_table', 'rate',\n",
              "       'votes', 'phone', 'location', 'rest_type', 'dish_liked', 'cuisines',\n",
              "       'approx_cost(for two people)', 'reviews_list', 'menu_item',\n",
              "       'listed_in(type)', 'listed_in(city)'],\n",
              "      dtype='object')"
            ]
          },
          "metadata": {},
          "execution_count": 10
        }
      ],
      "source": [
        "df.columns"
      ]
    },
    {
      "cell_type": "code",
      "execution_count": 10,
      "id": "3cc199bb",
      "metadata": {
        "id": "3cc199bb"
      },
      "outputs": [],
      "source": []
    },
    {
      "cell_type": "code",
      "execution_count": 10,
      "id": "ff135716",
      "metadata": {
        "id": "ff135716"
      },
      "outputs": [],
      "source": []
    },
    {
      "cell_type": "code",
      "execution_count": 10,
      "id": "34611e59",
      "metadata": {
        "id": "34611e59"
      },
      "outputs": [],
      "source": []
    },
    {
      "cell_type": "code",
      "execution_count": 10,
      "id": "d57cb684",
      "metadata": {
        "id": "d57cb684"
      },
      "outputs": [],
      "source": []
    },
    {
      "cell_type": "markdown",
      "id": "4e58a4c1",
      "metadata": {
        "id": "4e58a4c1"
      },
      "source": [
        "### How to deal with missing values?"
      ]
    },
    {
      "cell_type": "code",
      "execution_count": 11,
      "id": "66ed4c0c",
      "metadata": {
        "scrolled": true,
        "colab": {
          "base_uri": "https://localhost:8080/",
          "height": 340
        },
        "id": "66ed4c0c",
        "outputId": "4c2f8a37-c3e6-4a17-f968-00a5a870d07d"
      },
      "outputs": [
        {
          "output_type": "execute_result",
          "data": {
            "text/plain": [
              "   index                                                url  \\\n",
              "0      0  https://www.zomato.com/bangalore/jalsa-banasha...   \n",
              "1      1  https://www.zomato.com/bangalore/spice-elephan...   \n",
              "\n",
              "                                             address            name  \\\n",
              "0  942, 21st Main Road, 2nd Stage, Banashankari, ...           Jalsa   \n",
              "1  2nd Floor, 80 Feet Road, Near Big Bazaar, 6th ...  Spice Elephant   \n",
              "\n",
              "  online_order book_table   rate  votes                           phone  \\\n",
              "0          Yes        Yes  4.1/5    775  080 42297555\\r\\n+91 9743772233   \n",
              "1          Yes         No  4.1/5    787                    080 41714161   \n",
              "\n",
              "       location      rest_type  \\\n",
              "0  Banashankari  Casual Dining   \n",
              "1  Banashankari  Casual Dining   \n",
              "\n",
              "                                          dish_liked  \\\n",
              "0  Pasta, Lunch Buffet, Masala Papad, Paneer Laja...   \n",
              "1  Momos, Lunch Buffet, Chocolate Nirvana, Thai G...   \n",
              "\n",
              "                         cuisines approx_cost(for two people)  \\\n",
              "0  North Indian, Mughlai, Chinese                         800   \n",
              "1     Chinese, North Indian, Thai                         800   \n",
              "\n",
              "                                        reviews_list menu_item  \\\n",
              "0  [('Rated 4.0', 'RATED\\n  A beautiful place to ...        []   \n",
              "1  [('Rated 4.0', 'RATED\\n  Had been here for din...        []   \n",
              "\n",
              "  listed_in(type) listed_in(city)  \n",
              "0          Buffet    Banashankari  \n",
              "1          Buffet    Banashankari  "
            ],
            "text/html": [
              "\n",
              "  <div id=\"df-0e66e745-8340-4b0a-929c-194ddf8a1a34\" class=\"colab-df-container\">\n",
              "    <div>\n",
              "<style scoped>\n",
              "    .dataframe tbody tr th:only-of-type {\n",
              "        vertical-align: middle;\n",
              "    }\n",
              "\n",
              "    .dataframe tbody tr th {\n",
              "        vertical-align: top;\n",
              "    }\n",
              "\n",
              "    .dataframe thead th {\n",
              "        text-align: right;\n",
              "    }\n",
              "</style>\n",
              "<table border=\"1\" class=\"dataframe\">\n",
              "  <thead>\n",
              "    <tr style=\"text-align: right;\">\n",
              "      <th></th>\n",
              "      <th>index</th>\n",
              "      <th>url</th>\n",
              "      <th>address</th>\n",
              "      <th>name</th>\n",
              "      <th>online_order</th>\n",
              "      <th>book_table</th>\n",
              "      <th>rate</th>\n",
              "      <th>votes</th>\n",
              "      <th>phone</th>\n",
              "      <th>location</th>\n",
              "      <th>rest_type</th>\n",
              "      <th>dish_liked</th>\n",
              "      <th>cuisines</th>\n",
              "      <th>approx_cost(for two people)</th>\n",
              "      <th>reviews_list</th>\n",
              "      <th>menu_item</th>\n",
              "      <th>listed_in(type)</th>\n",
              "      <th>listed_in(city)</th>\n",
              "    </tr>\n",
              "  </thead>\n",
              "  <tbody>\n",
              "    <tr>\n",
              "      <th>0</th>\n",
              "      <td>0</td>\n",
              "      <td>https://www.zomato.com/bangalore/jalsa-banasha...</td>\n",
              "      <td>942, 21st Main Road, 2nd Stage, Banashankari, ...</td>\n",
              "      <td>Jalsa</td>\n",
              "      <td>Yes</td>\n",
              "      <td>Yes</td>\n",
              "      <td>4.1/5</td>\n",
              "      <td>775</td>\n",
              "      <td>080 42297555\\r\\n+91 9743772233</td>\n",
              "      <td>Banashankari</td>\n",
              "      <td>Casual Dining</td>\n",
              "      <td>Pasta, Lunch Buffet, Masala Papad, Paneer Laja...</td>\n",
              "      <td>North Indian, Mughlai, Chinese</td>\n",
              "      <td>800</td>\n",
              "      <td>[('Rated 4.0', 'RATED\\n  A beautiful place to ...</td>\n",
              "      <td>[]</td>\n",
              "      <td>Buffet</td>\n",
              "      <td>Banashankari</td>\n",
              "    </tr>\n",
              "    <tr>\n",
              "      <th>1</th>\n",
              "      <td>1</td>\n",
              "      <td>https://www.zomato.com/bangalore/spice-elephan...</td>\n",
              "      <td>2nd Floor, 80 Feet Road, Near Big Bazaar, 6th ...</td>\n",
              "      <td>Spice Elephant</td>\n",
              "      <td>Yes</td>\n",
              "      <td>No</td>\n",
              "      <td>4.1/5</td>\n",
              "      <td>787</td>\n",
              "      <td>080 41714161</td>\n",
              "      <td>Banashankari</td>\n",
              "      <td>Casual Dining</td>\n",
              "      <td>Momos, Lunch Buffet, Chocolate Nirvana, Thai G...</td>\n",
              "      <td>Chinese, North Indian, Thai</td>\n",
              "      <td>800</td>\n",
              "      <td>[('Rated 4.0', 'RATED\\n  Had been here for din...</td>\n",
              "      <td>[]</td>\n",
              "      <td>Buffet</td>\n",
              "      <td>Banashankari</td>\n",
              "    </tr>\n",
              "  </tbody>\n",
              "</table>\n",
              "</div>\n",
              "    <div class=\"colab-df-buttons\">\n",
              "\n",
              "  <div class=\"colab-df-container\">\n",
              "    <button class=\"colab-df-convert\" onclick=\"convertToInteractive('df-0e66e745-8340-4b0a-929c-194ddf8a1a34')\"\n",
              "            title=\"Convert this dataframe to an interactive table.\"\n",
              "            style=\"display:none;\">\n",
              "\n",
              "  <svg xmlns=\"http://www.w3.org/2000/svg\" height=\"24px\" viewBox=\"0 -960 960 960\">\n",
              "    <path d=\"M120-120v-720h720v720H120Zm60-500h600v-160H180v160Zm220 220h160v-160H400v160Zm0 220h160v-160H400v160ZM180-400h160v-160H180v160Zm440 0h160v-160H620v160ZM180-180h160v-160H180v160Zm440 0h160v-160H620v160Z\"/>\n",
              "  </svg>\n",
              "    </button>\n",
              "\n",
              "  <style>\n",
              "    .colab-df-container {\n",
              "      display:flex;\n",
              "      gap: 12px;\n",
              "    }\n",
              "\n",
              "    .colab-df-convert {\n",
              "      background-color: #E8F0FE;\n",
              "      border: none;\n",
              "      border-radius: 50%;\n",
              "      cursor: pointer;\n",
              "      display: none;\n",
              "      fill: #1967D2;\n",
              "      height: 32px;\n",
              "      padding: 0 0 0 0;\n",
              "      width: 32px;\n",
              "    }\n",
              "\n",
              "    .colab-df-convert:hover {\n",
              "      background-color: #E2EBFA;\n",
              "      box-shadow: 0px 1px 2px rgba(60, 64, 67, 0.3), 0px 1px 3px 1px rgba(60, 64, 67, 0.15);\n",
              "      fill: #174EA6;\n",
              "    }\n",
              "\n",
              "    .colab-df-buttons div {\n",
              "      margin-bottom: 4px;\n",
              "    }\n",
              "\n",
              "    [theme=dark] .colab-df-convert {\n",
              "      background-color: #3B4455;\n",
              "      fill: #D2E3FC;\n",
              "    }\n",
              "\n",
              "    [theme=dark] .colab-df-convert:hover {\n",
              "      background-color: #434B5C;\n",
              "      box-shadow: 0px 1px 3px 1px rgba(0, 0, 0, 0.15);\n",
              "      filter: drop-shadow(0px 1px 2px rgba(0, 0, 0, 0.3));\n",
              "      fill: #FFFFFF;\n",
              "    }\n",
              "  </style>\n",
              "\n",
              "    <script>\n",
              "      const buttonEl =\n",
              "        document.querySelector('#df-0e66e745-8340-4b0a-929c-194ddf8a1a34 button.colab-df-convert');\n",
              "      buttonEl.style.display =\n",
              "        google.colab.kernel.accessAllowed ? 'block' : 'none';\n",
              "\n",
              "      async function convertToInteractive(key) {\n",
              "        const element = document.querySelector('#df-0e66e745-8340-4b0a-929c-194ddf8a1a34');\n",
              "        const dataTable =\n",
              "          await google.colab.kernel.invokeFunction('convertToInteractive',\n",
              "                                                    [key], {});\n",
              "        if (!dataTable) return;\n",
              "\n",
              "        const docLinkHtml = 'Like what you see? Visit the ' +\n",
              "          '<a target=\"_blank\" href=https://colab.research.google.com/notebooks/data_table.ipynb>data table notebook</a>'\n",
              "          + ' to learn more about interactive tables.';\n",
              "        element.innerHTML = '';\n",
              "        dataTable['output_type'] = 'display_data';\n",
              "        await google.colab.output.renderOutput(dataTable, element);\n",
              "        const docLink = document.createElement('div');\n",
              "        docLink.innerHTML = docLinkHtml;\n",
              "        element.appendChild(docLink);\n",
              "      }\n",
              "    </script>\n",
              "  </div>\n",
              "\n",
              "    </div>\n",
              "  </div>\n"
            ]
          },
          "metadata": {},
          "execution_count": 11
        }
      ],
      "source": [
        "df.head(2)"
      ]
    },
    {
      "cell_type": "code",
      "execution_count": 12,
      "id": "7c5af89f",
      "metadata": {
        "colab": {
          "base_uri": "https://localhost:8080/"
        },
        "id": "7c5af89f",
        "outputId": "b79a11c9-0c9a-4def-ecd9-90254c96a812"
      },
      "outputs": [
        {
          "output_type": "execute_result",
          "data": {
            "text/plain": [
              "(51717, 18)"
            ]
          },
          "metadata": {},
          "execution_count": 12
        }
      ],
      "source": [
        "df.shape"
      ]
    },
    {
      "cell_type": "code",
      "execution_count": 12,
      "id": "620b8dd3",
      "metadata": {
        "id": "620b8dd3"
      },
      "outputs": [],
      "source": []
    },
    {
      "cell_type": "code",
      "execution_count": 13,
      "id": "6407dc47",
      "metadata": {
        "colab": {
          "base_uri": "https://localhost:8080/"
        },
        "id": "6407dc47",
        "outputId": "f3960a1e-f5d2-44dd-e4fd-f87818a13b35"
      },
      "outputs": [
        {
          "output_type": "execute_result",
          "data": {
            "text/plain": [
              "index                              0\n",
              "url                                0\n",
              "address                            0\n",
              "name                               0\n",
              "online_order                       0\n",
              "book_table                         0\n",
              "rate                            7775\n",
              "votes                              0\n",
              "phone                           1208\n",
              "location                          21\n",
              "rest_type                        227\n",
              "dish_liked                     28078\n",
              "cuisines                          45\n",
              "approx_cost(for two people)      346\n",
              "reviews_list                       0\n",
              "menu_item                          0\n",
              "listed_in(type)                    0\n",
              "listed_in(city)                    0\n",
              "dtype: int64"
            ]
          },
          "metadata": {},
          "execution_count": 13
        }
      ],
      "source": [
        "df.isnull().sum()"
      ]
    },
    {
      "cell_type": "code",
      "execution_count": 14,
      "id": "2cb29bdf",
      "metadata": {
        "colab": {
          "base_uri": "https://localhost:8080/"
        },
        "id": "2cb29bdf",
        "outputId": "f8797ecc-cd4e-4f04-8f2b-0d7510bd1acf"
      },
      "outputs": [
        {
          "output_type": "execute_result",
          "data": {
            "text/plain": [
              "index                           0.000000\n",
              "url                             0.000000\n",
              "address                         0.000000\n",
              "name                            0.000000\n",
              "online_order                    0.000000\n",
              "book_table                      0.000000\n",
              "rate                           15.033741\n",
              "votes                           0.000000\n",
              "phone                           2.335789\n",
              "location                        0.040606\n",
              "rest_type                       0.438927\n",
              "dish_liked                     54.291626\n",
              "cuisines                        0.087012\n",
              "approx_cost(for two people)     0.669026\n",
              "reviews_list                    0.000000\n",
              "menu_item                       0.000000\n",
              "listed_in(type)                 0.000000\n",
              "listed_in(city)                 0.000000\n",
              "dtype: float64"
            ]
          },
          "metadata": {},
          "execution_count": 14
        }
      ],
      "source": [
        "df.isnull().sum()/len(df) * 100"
      ]
    },
    {
      "cell_type": "code",
      "execution_count": 14,
      "id": "efc9e548",
      "metadata": {
        "id": "efc9e548"
      },
      "outputs": [],
      "source": []
    },
    {
      "cell_type": "code",
      "execution_count": 15,
      "id": "e3bb114d",
      "metadata": {
        "colab": {
          "base_uri": "https://localhost:8080/"
        },
        "id": "e3bb114d",
        "outputId": "f6641101-cee1-4484-eab1-662c7c740409"
      },
      "outputs": [
        {
          "output_type": "execute_result",
          "data": {
            "text/plain": [
              "array(['4.1/5', '3.8/5', '3.7/5', '3.6/5', '4.6/5', '4.0/5', '4.2/5',\n",
              "       '3.9/5', '3.1/5', '3.0/5', '3.2/5', '3.3/5', '2.8/5', '4.4/5',\n",
              "       '4.3/5', 'NEW', '2.9/5', '3.5/5', None, '2.6/5', '3.8 /5', '3.4/5',\n",
              "       '4.5/5', '2.5/5', '2.7/5', '4.7/5', '2.4/5', '2.2/5', '2.3/5',\n",
              "       '3.4 /5', '-', '3.6 /5', '4.8/5', '3.9 /5', '4.2 /5', '4.0 /5',\n",
              "       '4.1 /5', '3.7 /5', '3.1 /5', '2.9 /5', '3.3 /5', '2.8 /5',\n",
              "       '3.5 /5', '2.7 /5', '2.5 /5', '3.2 /5', '2.6 /5', '4.5 /5',\n",
              "       '4.3 /5', '4.4 /5', '4.9/5', '2.1/5', '2.0/5', '1.8/5', '4.6 /5',\n",
              "       '4.9 /5', '3.0 /5', '4.8 /5', '2.3 /5', '4.7 /5', '2.4 /5',\n",
              "       '2.1 /5', '2.2 /5', '2.0 /5', '1.8 /5'], dtype=object)"
            ]
          },
          "metadata": {},
          "execution_count": 15
        }
      ],
      "source": [
        "df[\"rate\"].unique()"
      ]
    },
    {
      "cell_type": "code",
      "execution_count": 15,
      "id": "7961a6ac",
      "metadata": {
        "id": "7961a6ac"
      },
      "outputs": [],
      "source": []
    },
    {
      "cell_type": "code",
      "execution_count": 16,
      "id": "7c12f7ba",
      "metadata": {
        "id": "7c12f7ba"
      },
      "outputs": [],
      "source": [
        "df[\"rate\"].replace((\"NEW\",\"-\"),np.nan,inplace = True)"
      ]
    },
    {
      "cell_type": "code",
      "execution_count": 17,
      "id": "e1f39177",
      "metadata": {
        "colab": {
          "base_uri": "https://localhost:8080/"
        },
        "id": "e1f39177",
        "outputId": "44bd6dd8-4bbb-4c73-9df9-ab747f21436d"
      },
      "outputs": [
        {
          "output_type": "execute_result",
          "data": {
            "text/plain": [
              "array(['4.1/5', '3.8/5', '3.7/5', '3.6/5', '4.6/5', '4.0/5', '4.2/5',\n",
              "       '3.9/5', '3.1/5', '3.0/5', '3.2/5', '3.3/5', '2.8/5', '4.4/5',\n",
              "       '4.3/5', nan, '2.9/5', '3.5/5', None, '2.6/5', '3.8 /5', '3.4/5',\n",
              "       '4.5/5', '2.5/5', '2.7/5', '4.7/5', '2.4/5', '2.2/5', '2.3/5',\n",
              "       '3.4 /5', '3.6 /5', '4.8/5', '3.9 /5', '4.2 /5', '4.0 /5',\n",
              "       '4.1 /5', '3.7 /5', '3.1 /5', '2.9 /5', '3.3 /5', '2.8 /5',\n",
              "       '3.5 /5', '2.7 /5', '2.5 /5', '3.2 /5', '2.6 /5', '4.5 /5',\n",
              "       '4.3 /5', '4.4 /5', '4.9/5', '2.1/5', '2.0/5', '1.8/5', '4.6 /5',\n",
              "       '4.9 /5', '3.0 /5', '4.8 /5', '2.3 /5', '4.7 /5', '2.4 /5',\n",
              "       '2.1 /5', '2.2 /5', '2.0 /5', '1.8 /5'], dtype=object)"
            ]
          },
          "metadata": {},
          "execution_count": 17
        }
      ],
      "source": [
        "df[\"rate\"].unique()"
      ]
    },
    {
      "cell_type": "code",
      "execution_count": 18,
      "id": "2c48c710",
      "metadata": {
        "colab": {
          "base_uri": "https://localhost:8080/",
          "height": 36
        },
        "id": "2c48c710",
        "outputId": "31d1195e-cf00-4e4d-9e81-5f7ad881b447"
      },
      "outputs": [
        {
          "output_type": "execute_result",
          "data": {
            "text/plain": [
              "'4.1'"
            ],
            "application/vnd.google.colaboratory.intrinsic+json": {
              "type": "string"
            }
          },
          "metadata": {},
          "execution_count": 18
        }
      ],
      "source": [
        "\"4.1/5\".split(\"/\")[0]"
      ]
    },
    {
      "cell_type": "code",
      "execution_count": 19,
      "id": "dc67f125",
      "metadata": {
        "colab": {
          "base_uri": "https://localhost:8080/"
        },
        "id": "dc67f125",
        "outputId": "9a4cb3b5-f34d-4a85-dd19-5a52b2b8e0f6"
      },
      "outputs": [
        {
          "output_type": "execute_result",
          "data": {
            "text/plain": [
              "str"
            ]
          },
          "metadata": {},
          "execution_count": 19
        }
      ],
      "source": [
        "type(\"4.1/5\".split(\"/\")[0])"
      ]
    },
    {
      "cell_type": "code",
      "execution_count": 20,
      "id": "e8b11d3d",
      "metadata": {
        "colab": {
          "base_uri": "https://localhost:8080/"
        },
        "id": "e8b11d3d",
        "outputId": "2d5e4a3e-8e90-4e14-8a0a-01907a30296f"
      },
      "outputs": [
        {
          "output_type": "execute_result",
          "data": {
            "text/plain": [
              "4.1"
            ]
          },
          "metadata": {},
          "execution_count": 20
        }
      ],
      "source": [
        "float(\"4.1/5\".split(\"/\")[0])"
      ]
    },
    {
      "cell_type": "code",
      "execution_count": 21,
      "id": "b9d66281",
      "metadata": {
        "colab": {
          "base_uri": "https://localhost:8080/"
        },
        "id": "b9d66281",
        "outputId": "06f7c9cf-9924-4e07-f1bc-d0669ffbbd44"
      },
      "outputs": [
        {
          "output_type": "execute_result",
          "data": {
            "text/plain": [
              "NoneType"
            ]
          },
          "metadata": {},
          "execution_count": 21
        }
      ],
      "source": [
        "type(df[\"rate\"][51713])"
      ]
    },
    {
      "cell_type": "code",
      "execution_count": 22,
      "id": "4f15f68c",
      "metadata": {
        "id": "4f15f68c"
      },
      "outputs": [],
      "source": [
        "df[\"rate\"] = df[\"rate\"].apply(lambda x: float(x.split(\"/\")[0]) if type(x)==str else x)\n",
        "\n",
        "# Missing Value is generally float in nature"
      ]
    },
    {
      "cell_type": "code",
      "execution_count": 23,
      "id": "5e141923",
      "metadata": {
        "colab": {
          "base_uri": "https://localhost:8080/"
        },
        "id": "5e141923",
        "outputId": "709af150-ed00-48f3-b1b3-1d5d34eebc25"
      },
      "outputs": [
        {
          "output_type": "execute_result",
          "data": {
            "text/plain": [
              "0        4.1\n",
              "1        4.1\n",
              "2        3.8\n",
              "3        3.7\n",
              "4        3.8\n",
              "        ... \n",
              "51712    3.6\n",
              "51713    NaN\n",
              "51714    NaN\n",
              "51715    4.3\n",
              "51716    3.4\n",
              "Name: rate, Length: 51717, dtype: float64"
            ]
          },
          "metadata": {},
          "execution_count": 23
        }
      ],
      "source": [
        "df[\"rate\"]"
      ]
    },
    {
      "cell_type": "code",
      "execution_count": 23,
      "id": "4c2d33d6",
      "metadata": {
        "id": "4c2d33d6"
      },
      "outputs": [],
      "source": []
    },
    {
      "cell_type": "code",
      "execution_count": 23,
      "id": "688ee572",
      "metadata": {
        "id": "688ee572"
      },
      "outputs": [],
      "source": []
    },
    {
      "cell_type": "code",
      "execution_count": 23,
      "id": "7a81e72a",
      "metadata": {
        "id": "7a81e72a"
      },
      "outputs": [],
      "source": []
    },
    {
      "cell_type": "code",
      "execution_count": 23,
      "id": "f9f6e6e1",
      "metadata": {
        "id": "f9f6e6e1"
      },
      "outputs": [],
      "source": []
    },
    {
      "cell_type": "markdown",
      "id": "12a1078e",
      "metadata": {
        "id": "12a1078e"
      },
      "source": [
        "### Is there a relation between online order option and rating of the restaurant?"
      ]
    },
    {
      "cell_type": "markdown",
      "id": "50c82946",
      "metadata": {
        "id": "50c82946"
      },
      "source": [
        "###### Below is my own method"
      ]
    },
    {
      "cell_type": "code",
      "execution_count": 24,
      "id": "0814793d",
      "metadata": {
        "id": "0814793d"
      },
      "outputs": [],
      "source": [
        "unique_val = df.rate.dropna().unique()"
      ]
    },
    {
      "cell_type": "code",
      "execution_count": 24,
      "id": "d7e97d67",
      "metadata": {
        "id": "d7e97d67"
      },
      "outputs": [],
      "source": []
    },
    {
      "cell_type": "code",
      "execution_count": 25,
      "id": "07d6dd97",
      "metadata": {
        "id": "07d6dd97"
      },
      "outputs": [],
      "source": [
        "kk = df[(df[\"online_order\"]==\"Yes\")].rate.value_counts().sort_values()\n",
        "a = pd.DataFrame(kk.values,index = kk.index, columns = [\"Yes\"]).sort_index()\n",
        "Y = a.reindex(unique_val,fill_value=0).sort_index()"
      ]
    },
    {
      "cell_type": "code",
      "execution_count": 26,
      "id": "015a327c",
      "metadata": {
        "colab": {
          "base_uri": "https://localhost:8080/",
          "height": 1000
        },
        "id": "015a327c",
        "outputId": "e65fb999-b64b-46bb-a45f-0c81fa41af7a"
      },
      "outputs": [
        {
          "output_type": "execute_result",
          "data": {
            "text/plain": [
              "      Yes\n",
              "1.8     0\n",
              "2.0     0\n",
              "2.1    15\n",
              "2.2    16\n",
              "2.3    22\n",
              "2.4    34\n",
              "2.5    63\n",
              "2.6   177\n",
              "2.7   166\n",
              "2.8   376\n",
              "2.9   488\n",
              "3.0   584\n",
              "3.1   974\n",
              "3.2  1044\n",
              "3.3  1173\n",
              "3.4  1452\n",
              "3.5  1694\n",
              "3.6  2226\n",
              "3.7  2649\n",
              "3.8  2726\n",
              "3.9  2955\n",
              "4.0  2309\n",
              "4.1  2105\n",
              "4.2  1536\n",
              "4.3  1001\n",
              "4.4   773\n",
              "4.5   359\n",
              "4.6   160\n",
              "4.7    54\n",
              "4.8    32\n",
              "4.9    43"
            ],
            "text/html": [
              "\n",
              "  <div id=\"df-6fc133f8-edd3-4839-bfb5-74afff0088a7\" class=\"colab-df-container\">\n",
              "    <div>\n",
              "<style scoped>\n",
              "    .dataframe tbody tr th:only-of-type {\n",
              "        vertical-align: middle;\n",
              "    }\n",
              "\n",
              "    .dataframe tbody tr th {\n",
              "        vertical-align: top;\n",
              "    }\n",
              "\n",
              "    .dataframe thead th {\n",
              "        text-align: right;\n",
              "    }\n",
              "</style>\n",
              "<table border=\"1\" class=\"dataframe\">\n",
              "  <thead>\n",
              "    <tr style=\"text-align: right;\">\n",
              "      <th></th>\n",
              "      <th>Yes</th>\n",
              "    </tr>\n",
              "  </thead>\n",
              "  <tbody>\n",
              "    <tr>\n",
              "      <th>1.8</th>\n",
              "      <td>0</td>\n",
              "    </tr>\n",
              "    <tr>\n",
              "      <th>2.0</th>\n",
              "      <td>0</td>\n",
              "    </tr>\n",
              "    <tr>\n",
              "      <th>2.1</th>\n",
              "      <td>15</td>\n",
              "    </tr>\n",
              "    <tr>\n",
              "      <th>2.2</th>\n",
              "      <td>16</td>\n",
              "    </tr>\n",
              "    <tr>\n",
              "      <th>2.3</th>\n",
              "      <td>22</td>\n",
              "    </tr>\n",
              "    <tr>\n",
              "      <th>2.4</th>\n",
              "      <td>34</td>\n",
              "    </tr>\n",
              "    <tr>\n",
              "      <th>2.5</th>\n",
              "      <td>63</td>\n",
              "    </tr>\n",
              "    <tr>\n",
              "      <th>2.6</th>\n",
              "      <td>177</td>\n",
              "    </tr>\n",
              "    <tr>\n",
              "      <th>2.7</th>\n",
              "      <td>166</td>\n",
              "    </tr>\n",
              "    <tr>\n",
              "      <th>2.8</th>\n",
              "      <td>376</td>\n",
              "    </tr>\n",
              "    <tr>\n",
              "      <th>2.9</th>\n",
              "      <td>488</td>\n",
              "    </tr>\n",
              "    <tr>\n",
              "      <th>3.0</th>\n",
              "      <td>584</td>\n",
              "    </tr>\n",
              "    <tr>\n",
              "      <th>3.1</th>\n",
              "      <td>974</td>\n",
              "    </tr>\n",
              "    <tr>\n",
              "      <th>3.2</th>\n",
              "      <td>1044</td>\n",
              "    </tr>\n",
              "    <tr>\n",
              "      <th>3.3</th>\n",
              "      <td>1173</td>\n",
              "    </tr>\n",
              "    <tr>\n",
              "      <th>3.4</th>\n",
              "      <td>1452</td>\n",
              "    </tr>\n",
              "    <tr>\n",
              "      <th>3.5</th>\n",
              "      <td>1694</td>\n",
              "    </tr>\n",
              "    <tr>\n",
              "      <th>3.6</th>\n",
              "      <td>2226</td>\n",
              "    </tr>\n",
              "    <tr>\n",
              "      <th>3.7</th>\n",
              "      <td>2649</td>\n",
              "    </tr>\n",
              "    <tr>\n",
              "      <th>3.8</th>\n",
              "      <td>2726</td>\n",
              "    </tr>\n",
              "    <tr>\n",
              "      <th>3.9</th>\n",
              "      <td>2955</td>\n",
              "    </tr>\n",
              "    <tr>\n",
              "      <th>4.0</th>\n",
              "      <td>2309</td>\n",
              "    </tr>\n",
              "    <tr>\n",
              "      <th>4.1</th>\n",
              "      <td>2105</td>\n",
              "    </tr>\n",
              "    <tr>\n",
              "      <th>4.2</th>\n",
              "      <td>1536</td>\n",
              "    </tr>\n",
              "    <tr>\n",
              "      <th>4.3</th>\n",
              "      <td>1001</td>\n",
              "    </tr>\n",
              "    <tr>\n",
              "      <th>4.4</th>\n",
              "      <td>773</td>\n",
              "    </tr>\n",
              "    <tr>\n",
              "      <th>4.5</th>\n",
              "      <td>359</td>\n",
              "    </tr>\n",
              "    <tr>\n",
              "      <th>4.6</th>\n",
              "      <td>160</td>\n",
              "    </tr>\n",
              "    <tr>\n",
              "      <th>4.7</th>\n",
              "      <td>54</td>\n",
              "    </tr>\n",
              "    <tr>\n",
              "      <th>4.8</th>\n",
              "      <td>32</td>\n",
              "    </tr>\n",
              "    <tr>\n",
              "      <th>4.9</th>\n",
              "      <td>43</td>\n",
              "    </tr>\n",
              "  </tbody>\n",
              "</table>\n",
              "</div>\n",
              "    <div class=\"colab-df-buttons\">\n",
              "\n",
              "  <div class=\"colab-df-container\">\n",
              "    <button class=\"colab-df-convert\" onclick=\"convertToInteractive('df-6fc133f8-edd3-4839-bfb5-74afff0088a7')\"\n",
              "            title=\"Convert this dataframe to an interactive table.\"\n",
              "            style=\"display:none;\">\n",
              "\n",
              "  <svg xmlns=\"http://www.w3.org/2000/svg\" height=\"24px\" viewBox=\"0 -960 960 960\">\n",
              "    <path d=\"M120-120v-720h720v720H120Zm60-500h600v-160H180v160Zm220 220h160v-160H400v160Zm0 220h160v-160H400v160ZM180-400h160v-160H180v160Zm440 0h160v-160H620v160ZM180-180h160v-160H180v160Zm440 0h160v-160H620v160Z\"/>\n",
              "  </svg>\n",
              "    </button>\n",
              "\n",
              "  <style>\n",
              "    .colab-df-container {\n",
              "      display:flex;\n",
              "      gap: 12px;\n",
              "    }\n",
              "\n",
              "    .colab-df-convert {\n",
              "      background-color: #E8F0FE;\n",
              "      border: none;\n",
              "      border-radius: 50%;\n",
              "      cursor: pointer;\n",
              "      display: none;\n",
              "      fill: #1967D2;\n",
              "      height: 32px;\n",
              "      padding: 0 0 0 0;\n",
              "      width: 32px;\n",
              "    }\n",
              "\n",
              "    .colab-df-convert:hover {\n",
              "      background-color: #E2EBFA;\n",
              "      box-shadow: 0px 1px 2px rgba(60, 64, 67, 0.3), 0px 1px 3px 1px rgba(60, 64, 67, 0.15);\n",
              "      fill: #174EA6;\n",
              "    }\n",
              "\n",
              "    .colab-df-buttons div {\n",
              "      margin-bottom: 4px;\n",
              "    }\n",
              "\n",
              "    [theme=dark] .colab-df-convert {\n",
              "      background-color: #3B4455;\n",
              "      fill: #D2E3FC;\n",
              "    }\n",
              "\n",
              "    [theme=dark] .colab-df-convert:hover {\n",
              "      background-color: #434B5C;\n",
              "      box-shadow: 0px 1px 3px 1px rgba(0, 0, 0, 0.15);\n",
              "      filter: drop-shadow(0px 1px 2px rgba(0, 0, 0, 0.3));\n",
              "      fill: #FFFFFF;\n",
              "    }\n",
              "  </style>\n",
              "\n",
              "    <script>\n",
              "      const buttonEl =\n",
              "        document.querySelector('#df-6fc133f8-edd3-4839-bfb5-74afff0088a7 button.colab-df-convert');\n",
              "      buttonEl.style.display =\n",
              "        google.colab.kernel.accessAllowed ? 'block' : 'none';\n",
              "\n",
              "      async function convertToInteractive(key) {\n",
              "        const element = document.querySelector('#df-6fc133f8-edd3-4839-bfb5-74afff0088a7');\n",
              "        const dataTable =\n",
              "          await google.colab.kernel.invokeFunction('convertToInteractive',\n",
              "                                                    [key], {});\n",
              "        if (!dataTable) return;\n",
              "\n",
              "        const docLinkHtml = 'Like what you see? Visit the ' +\n",
              "          '<a target=\"_blank\" href=https://colab.research.google.com/notebooks/data_table.ipynb>data table notebook</a>'\n",
              "          + ' to learn more about interactive tables.';\n",
              "        element.innerHTML = '';\n",
              "        dataTable['output_type'] = 'display_data';\n",
              "        await google.colab.output.renderOutput(dataTable, element);\n",
              "        const docLink = document.createElement('div');\n",
              "        docLink.innerHTML = docLinkHtml;\n",
              "        element.appendChild(docLink);\n",
              "      }\n",
              "    </script>\n",
              "  </div>\n",
              "\n",
              "\n",
              "<div id=\"df-61da68b9-9586-4059-89ea-05cffdde2cbc\">\n",
              "  <button class=\"colab-df-quickchart\" onclick=\"quickchart('df-61da68b9-9586-4059-89ea-05cffdde2cbc')\"\n",
              "            title=\"Suggest charts.\"\n",
              "            style=\"display:none;\">\n",
              "\n",
              "<svg xmlns=\"http://www.w3.org/2000/svg\" height=\"24px\"viewBox=\"0 0 24 24\"\n",
              "     width=\"24px\">\n",
              "    <g>\n",
              "        <path d=\"M19 3H5c-1.1 0-2 .9-2 2v14c0 1.1.9 2 2 2h14c1.1 0 2-.9 2-2V5c0-1.1-.9-2-2-2zM9 17H7v-7h2v7zm4 0h-2V7h2v10zm4 0h-2v-4h2v4z\"/>\n",
              "    </g>\n",
              "</svg>\n",
              "  </button>\n",
              "\n",
              "<style>\n",
              "  .colab-df-quickchart {\n",
              "    background-color: #E8F0FE;\n",
              "    border: none;\n",
              "    border-radius: 50%;\n",
              "    cursor: pointer;\n",
              "    display: none;\n",
              "    fill: #1967D2;\n",
              "    height: 32px;\n",
              "    padding: 0 0 0 0;\n",
              "    width: 32px;\n",
              "  }\n",
              "\n",
              "  .colab-df-quickchart:hover {\n",
              "    background-color: #E2EBFA;\n",
              "    box-shadow: 0px 1px 2px rgba(60, 64, 67, 0.3), 0px 1px 3px 1px rgba(60, 64, 67, 0.15);\n",
              "    fill: #174EA6;\n",
              "  }\n",
              "\n",
              "  [theme=dark] .colab-df-quickchart {\n",
              "    background-color: #3B4455;\n",
              "    fill: #D2E3FC;\n",
              "  }\n",
              "\n",
              "  [theme=dark] .colab-df-quickchart:hover {\n",
              "    background-color: #434B5C;\n",
              "    box-shadow: 0px 1px 3px 1px rgba(0, 0, 0, 0.15);\n",
              "    filter: drop-shadow(0px 1px 2px rgba(0, 0, 0, 0.3));\n",
              "    fill: #FFFFFF;\n",
              "  }\n",
              "</style>\n",
              "\n",
              "  <script>\n",
              "    async function quickchart(key) {\n",
              "      const charts = await google.colab.kernel.invokeFunction(\n",
              "          'suggestCharts', [key], {});\n",
              "    }\n",
              "    (() => {\n",
              "      let quickchartButtonEl =\n",
              "        document.querySelector('#df-61da68b9-9586-4059-89ea-05cffdde2cbc button');\n",
              "      quickchartButtonEl.style.display =\n",
              "        google.colab.kernel.accessAllowed ? 'block' : 'none';\n",
              "    })();\n",
              "  </script>\n",
              "</div>\n",
              "    </div>\n",
              "  </div>\n"
            ]
          },
          "metadata": {},
          "execution_count": 26
        }
      ],
      "source": [
        "Y"
      ]
    },
    {
      "cell_type": "code",
      "execution_count": 26,
      "id": "e4a02d5f",
      "metadata": {
        "id": "e4a02d5f"
      },
      "outputs": [],
      "source": []
    },
    {
      "cell_type": "code",
      "execution_count": 27,
      "id": "f372b4dc",
      "metadata": {
        "id": "f372b4dc"
      },
      "outputs": [],
      "source": [
        "rr = df[(df.rate.isnull()==False) & (df[\"online_order\"]==\"No\")].rate.value_counts().sort_values()\n",
        "b = pd.DataFrame(rr.values,index = rr.index, columns = [\"No\"]).sort_index()\n",
        "N = b.reindex(unique_val,fill_value=0).sort_index()"
      ]
    },
    {
      "cell_type": "code",
      "execution_count": 28,
      "id": "6cec2fc4",
      "metadata": {
        "colab": {
          "base_uri": "https://localhost:8080/",
          "height": 1000
        },
        "id": "6cec2fc4",
        "outputId": "dcbc90b8-1fbe-4b96-ef9d-e0ce81605840"
      },
      "outputs": [
        {
          "output_type": "execute_result",
          "data": {
            "text/plain": [
              "       No\n",
              "1.8     5\n",
              "2.0    11\n",
              "2.1     9\n",
              "2.2    10\n",
              "2.3    29\n",
              "2.4    36\n",
              "2.5    38\n",
              "2.6    83\n",
              "2.7   141\n",
              "2.8   224\n",
              "2.9   314\n",
              "3.0   439\n",
              "3.1   587\n",
              "3.2   829\n",
              "3.3  1137\n",
              "3.4  1024\n",
              "3.5  1090\n",
              "3.6  1090\n",
              "3.7  1172\n",
              "3.8  1147\n",
              "3.9  1017\n",
              "4.0   874\n",
              "4.1   843\n",
              "4.2   648\n",
              "4.3   692\n",
              "4.4   374\n",
              "4.5   297\n",
              "4.6   140\n",
              "4.7   113\n",
              "4.8    34\n",
              "4.9    12"
            ],
            "text/html": [
              "\n",
              "  <div id=\"df-1b53fe8d-4155-4461-bb13-8d2faade7d33\" class=\"colab-df-container\">\n",
              "    <div>\n",
              "<style scoped>\n",
              "    .dataframe tbody tr th:only-of-type {\n",
              "        vertical-align: middle;\n",
              "    }\n",
              "\n",
              "    .dataframe tbody tr th {\n",
              "        vertical-align: top;\n",
              "    }\n",
              "\n",
              "    .dataframe thead th {\n",
              "        text-align: right;\n",
              "    }\n",
              "</style>\n",
              "<table border=\"1\" class=\"dataframe\">\n",
              "  <thead>\n",
              "    <tr style=\"text-align: right;\">\n",
              "      <th></th>\n",
              "      <th>No</th>\n",
              "    </tr>\n",
              "  </thead>\n",
              "  <tbody>\n",
              "    <tr>\n",
              "      <th>1.8</th>\n",
              "      <td>5</td>\n",
              "    </tr>\n",
              "    <tr>\n",
              "      <th>2.0</th>\n",
              "      <td>11</td>\n",
              "    </tr>\n",
              "    <tr>\n",
              "      <th>2.1</th>\n",
              "      <td>9</td>\n",
              "    </tr>\n",
              "    <tr>\n",
              "      <th>2.2</th>\n",
              "      <td>10</td>\n",
              "    </tr>\n",
              "    <tr>\n",
              "      <th>2.3</th>\n",
              "      <td>29</td>\n",
              "    </tr>\n",
              "    <tr>\n",
              "      <th>2.4</th>\n",
              "      <td>36</td>\n",
              "    </tr>\n",
              "    <tr>\n",
              "      <th>2.5</th>\n",
              "      <td>38</td>\n",
              "    </tr>\n",
              "    <tr>\n",
              "      <th>2.6</th>\n",
              "      <td>83</td>\n",
              "    </tr>\n",
              "    <tr>\n",
              "      <th>2.7</th>\n",
              "      <td>141</td>\n",
              "    </tr>\n",
              "    <tr>\n",
              "      <th>2.8</th>\n",
              "      <td>224</td>\n",
              "    </tr>\n",
              "    <tr>\n",
              "      <th>2.9</th>\n",
              "      <td>314</td>\n",
              "    </tr>\n",
              "    <tr>\n",
              "      <th>3.0</th>\n",
              "      <td>439</td>\n",
              "    </tr>\n",
              "    <tr>\n",
              "      <th>3.1</th>\n",
              "      <td>587</td>\n",
              "    </tr>\n",
              "    <tr>\n",
              "      <th>3.2</th>\n",
              "      <td>829</td>\n",
              "    </tr>\n",
              "    <tr>\n",
              "      <th>3.3</th>\n",
              "      <td>1137</td>\n",
              "    </tr>\n",
              "    <tr>\n",
              "      <th>3.4</th>\n",
              "      <td>1024</td>\n",
              "    </tr>\n",
              "    <tr>\n",
              "      <th>3.5</th>\n",
              "      <td>1090</td>\n",
              "    </tr>\n",
              "    <tr>\n",
              "      <th>3.6</th>\n",
              "      <td>1090</td>\n",
              "    </tr>\n",
              "    <tr>\n",
              "      <th>3.7</th>\n",
              "      <td>1172</td>\n",
              "    </tr>\n",
              "    <tr>\n",
              "      <th>3.8</th>\n",
              "      <td>1147</td>\n",
              "    </tr>\n",
              "    <tr>\n",
              "      <th>3.9</th>\n",
              "      <td>1017</td>\n",
              "    </tr>\n",
              "    <tr>\n",
              "      <th>4.0</th>\n",
              "      <td>874</td>\n",
              "    </tr>\n",
              "    <tr>\n",
              "      <th>4.1</th>\n",
              "      <td>843</td>\n",
              "    </tr>\n",
              "    <tr>\n",
              "      <th>4.2</th>\n",
              "      <td>648</td>\n",
              "    </tr>\n",
              "    <tr>\n",
              "      <th>4.3</th>\n",
              "      <td>692</td>\n",
              "    </tr>\n",
              "    <tr>\n",
              "      <th>4.4</th>\n",
              "      <td>374</td>\n",
              "    </tr>\n",
              "    <tr>\n",
              "      <th>4.5</th>\n",
              "      <td>297</td>\n",
              "    </tr>\n",
              "    <tr>\n",
              "      <th>4.6</th>\n",
              "      <td>140</td>\n",
              "    </tr>\n",
              "    <tr>\n",
              "      <th>4.7</th>\n",
              "      <td>113</td>\n",
              "    </tr>\n",
              "    <tr>\n",
              "      <th>4.8</th>\n",
              "      <td>34</td>\n",
              "    </tr>\n",
              "    <tr>\n",
              "      <th>4.9</th>\n",
              "      <td>12</td>\n",
              "    </tr>\n",
              "  </tbody>\n",
              "</table>\n",
              "</div>\n",
              "    <div class=\"colab-df-buttons\">\n",
              "\n",
              "  <div class=\"colab-df-container\">\n",
              "    <button class=\"colab-df-convert\" onclick=\"convertToInteractive('df-1b53fe8d-4155-4461-bb13-8d2faade7d33')\"\n",
              "            title=\"Convert this dataframe to an interactive table.\"\n",
              "            style=\"display:none;\">\n",
              "\n",
              "  <svg xmlns=\"http://www.w3.org/2000/svg\" height=\"24px\" viewBox=\"0 -960 960 960\">\n",
              "    <path d=\"M120-120v-720h720v720H120Zm60-500h600v-160H180v160Zm220 220h160v-160H400v160Zm0 220h160v-160H400v160ZM180-400h160v-160H180v160Zm440 0h160v-160H620v160ZM180-180h160v-160H180v160Zm440 0h160v-160H620v160Z\"/>\n",
              "  </svg>\n",
              "    </button>\n",
              "\n",
              "  <style>\n",
              "    .colab-df-container {\n",
              "      display:flex;\n",
              "      gap: 12px;\n",
              "    }\n",
              "\n",
              "    .colab-df-convert {\n",
              "      background-color: #E8F0FE;\n",
              "      border: none;\n",
              "      border-radius: 50%;\n",
              "      cursor: pointer;\n",
              "      display: none;\n",
              "      fill: #1967D2;\n",
              "      height: 32px;\n",
              "      padding: 0 0 0 0;\n",
              "      width: 32px;\n",
              "    }\n",
              "\n",
              "    .colab-df-convert:hover {\n",
              "      background-color: #E2EBFA;\n",
              "      box-shadow: 0px 1px 2px rgba(60, 64, 67, 0.3), 0px 1px 3px 1px rgba(60, 64, 67, 0.15);\n",
              "      fill: #174EA6;\n",
              "    }\n",
              "\n",
              "    .colab-df-buttons div {\n",
              "      margin-bottom: 4px;\n",
              "    }\n",
              "\n",
              "    [theme=dark] .colab-df-convert {\n",
              "      background-color: #3B4455;\n",
              "      fill: #D2E3FC;\n",
              "    }\n",
              "\n",
              "    [theme=dark] .colab-df-convert:hover {\n",
              "      background-color: #434B5C;\n",
              "      box-shadow: 0px 1px 3px 1px rgba(0, 0, 0, 0.15);\n",
              "      filter: drop-shadow(0px 1px 2px rgba(0, 0, 0, 0.3));\n",
              "      fill: #FFFFFF;\n",
              "    }\n",
              "  </style>\n",
              "\n",
              "    <script>\n",
              "      const buttonEl =\n",
              "        document.querySelector('#df-1b53fe8d-4155-4461-bb13-8d2faade7d33 button.colab-df-convert');\n",
              "      buttonEl.style.display =\n",
              "        google.colab.kernel.accessAllowed ? 'block' : 'none';\n",
              "\n",
              "      async function convertToInteractive(key) {\n",
              "        const element = document.querySelector('#df-1b53fe8d-4155-4461-bb13-8d2faade7d33');\n",
              "        const dataTable =\n",
              "          await google.colab.kernel.invokeFunction('convertToInteractive',\n",
              "                                                    [key], {});\n",
              "        if (!dataTable) return;\n",
              "\n",
              "        const docLinkHtml = 'Like what you see? Visit the ' +\n",
              "          '<a target=\"_blank\" href=https://colab.research.google.com/notebooks/data_table.ipynb>data table notebook</a>'\n",
              "          + ' to learn more about interactive tables.';\n",
              "        element.innerHTML = '';\n",
              "        dataTable['output_type'] = 'display_data';\n",
              "        await google.colab.output.renderOutput(dataTable, element);\n",
              "        const docLink = document.createElement('div');\n",
              "        docLink.innerHTML = docLinkHtml;\n",
              "        element.appendChild(docLink);\n",
              "      }\n",
              "    </script>\n",
              "  </div>\n",
              "\n",
              "\n",
              "<div id=\"df-c4e56d2c-7784-49e5-80b0-1af4ebb49472\">\n",
              "  <button class=\"colab-df-quickchart\" onclick=\"quickchart('df-c4e56d2c-7784-49e5-80b0-1af4ebb49472')\"\n",
              "            title=\"Suggest charts.\"\n",
              "            style=\"display:none;\">\n",
              "\n",
              "<svg xmlns=\"http://www.w3.org/2000/svg\" height=\"24px\"viewBox=\"0 0 24 24\"\n",
              "     width=\"24px\">\n",
              "    <g>\n",
              "        <path d=\"M19 3H5c-1.1 0-2 .9-2 2v14c0 1.1.9 2 2 2h14c1.1 0 2-.9 2-2V5c0-1.1-.9-2-2-2zM9 17H7v-7h2v7zm4 0h-2V7h2v10zm4 0h-2v-4h2v4z\"/>\n",
              "    </g>\n",
              "</svg>\n",
              "  </button>\n",
              "\n",
              "<style>\n",
              "  .colab-df-quickchart {\n",
              "    background-color: #E8F0FE;\n",
              "    border: none;\n",
              "    border-radius: 50%;\n",
              "    cursor: pointer;\n",
              "    display: none;\n",
              "    fill: #1967D2;\n",
              "    height: 32px;\n",
              "    padding: 0 0 0 0;\n",
              "    width: 32px;\n",
              "  }\n",
              "\n",
              "  .colab-df-quickchart:hover {\n",
              "    background-color: #E2EBFA;\n",
              "    box-shadow: 0px 1px 2px rgba(60, 64, 67, 0.3), 0px 1px 3px 1px rgba(60, 64, 67, 0.15);\n",
              "    fill: #174EA6;\n",
              "  }\n",
              "\n",
              "  [theme=dark] .colab-df-quickchart {\n",
              "    background-color: #3B4455;\n",
              "    fill: #D2E3FC;\n",
              "  }\n",
              "\n",
              "  [theme=dark] .colab-df-quickchart:hover {\n",
              "    background-color: #434B5C;\n",
              "    box-shadow: 0px 1px 3px 1px rgba(0, 0, 0, 0.15);\n",
              "    filter: drop-shadow(0px 1px 2px rgba(0, 0, 0, 0.3));\n",
              "    fill: #FFFFFF;\n",
              "  }\n",
              "</style>\n",
              "\n",
              "  <script>\n",
              "    async function quickchart(key) {\n",
              "      const charts = await google.colab.kernel.invokeFunction(\n",
              "          'suggestCharts', [key], {});\n",
              "    }\n",
              "    (() => {\n",
              "      let quickchartButtonEl =\n",
              "        document.querySelector('#df-c4e56d2c-7784-49e5-80b0-1af4ebb49472 button');\n",
              "      quickchartButtonEl.style.display =\n",
              "        google.colab.kernel.accessAllowed ? 'block' : 'none';\n",
              "    })();\n",
              "  </script>\n",
              "</div>\n",
              "    </div>\n",
              "  </div>\n"
            ]
          },
          "metadata": {},
          "execution_count": 28
        }
      ],
      "source": [
        "N"
      ]
    },
    {
      "cell_type": "code",
      "execution_count": 28,
      "id": "1c591de7",
      "metadata": {
        "id": "1c591de7"
      },
      "outputs": [],
      "source": []
    },
    {
      "cell_type": "code",
      "execution_count": 29,
      "id": "fbe91ee0",
      "metadata": {
        "colab": {
          "base_uri": "https://localhost:8080/",
          "height": 682
        },
        "id": "fbe91ee0",
        "outputId": "39293d2c-9fbd-4c37-a75c-f01b5f283177"
      },
      "outputs": [
        {
          "output_type": "execute_result",
          "data": {
            "text/plain": [
              "       No   Yes\n",
              "1.8     5     0\n",
              "2.0    11     0\n",
              "2.1     9    15\n",
              "2.2    10    16\n",
              "2.3    29    22\n",
              "2.4    36    34\n",
              "2.5    38    63\n",
              "2.6    83   177\n",
              "2.7   141   166\n",
              "2.8   224   376\n",
              "2.9   314   488\n",
              "3.0   439   584\n",
              "3.1   587   974\n",
              "3.2   829  1044\n",
              "3.3  1137  1173\n",
              "3.4  1024  1452\n",
              "3.5  1090  1694\n",
              "3.6  1090  2226\n",
              "3.7  1172  2649\n",
              "3.8  1147  2726\n",
              "3.9  1017  2955\n",
              "4.0   874  2309\n",
              "4.1   843  2105\n",
              "4.2   648  1536\n",
              "4.3   692  1001\n",
              "4.4   374   773\n",
              "4.5   297   359\n",
              "4.6   140   160\n",
              "4.7   113    54\n",
              "4.8    34    32\n",
              "4.9    12    43"
            ],
            "text/html": [
              "\n",
              "  <div id=\"df-4d484de7-e3d7-42d4-ad98-b17fc0be3c6c\" class=\"colab-df-container\">\n",
              "    <div>\n",
              "<style scoped>\n",
              "    .dataframe tbody tr th:only-of-type {\n",
              "        vertical-align: middle;\n",
              "    }\n",
              "\n",
              "    .dataframe tbody tr th {\n",
              "        vertical-align: top;\n",
              "    }\n",
              "\n",
              "    .dataframe thead th {\n",
              "        text-align: right;\n",
              "    }\n",
              "</style>\n",
              "<table border=\"1\" class=\"dataframe\">\n",
              "  <thead>\n",
              "    <tr style=\"text-align: right;\">\n",
              "      <th></th>\n",
              "      <th>No</th>\n",
              "      <th>Yes</th>\n",
              "    </tr>\n",
              "  </thead>\n",
              "  <tbody>\n",
              "    <tr>\n",
              "      <th>1.8</th>\n",
              "      <td>5</td>\n",
              "      <td>0</td>\n",
              "    </tr>\n",
              "    <tr>\n",
              "      <th>2.0</th>\n",
              "      <td>11</td>\n",
              "      <td>0</td>\n",
              "    </tr>\n",
              "    <tr>\n",
              "      <th>2.1</th>\n",
              "      <td>9</td>\n",
              "      <td>15</td>\n",
              "    </tr>\n",
              "    <tr>\n",
              "      <th>2.2</th>\n",
              "      <td>10</td>\n",
              "      <td>16</td>\n",
              "    </tr>\n",
              "    <tr>\n",
              "      <th>2.3</th>\n",
              "      <td>29</td>\n",
              "      <td>22</td>\n",
              "    </tr>\n",
              "    <tr>\n",
              "      <th>2.4</th>\n",
              "      <td>36</td>\n",
              "      <td>34</td>\n",
              "    </tr>\n",
              "    <tr>\n",
              "      <th>2.5</th>\n",
              "      <td>38</td>\n",
              "      <td>63</td>\n",
              "    </tr>\n",
              "    <tr>\n",
              "      <th>2.6</th>\n",
              "      <td>83</td>\n",
              "      <td>177</td>\n",
              "    </tr>\n",
              "    <tr>\n",
              "      <th>2.7</th>\n",
              "      <td>141</td>\n",
              "      <td>166</td>\n",
              "    </tr>\n",
              "    <tr>\n",
              "      <th>2.8</th>\n",
              "      <td>224</td>\n",
              "      <td>376</td>\n",
              "    </tr>\n",
              "    <tr>\n",
              "      <th>2.9</th>\n",
              "      <td>314</td>\n",
              "      <td>488</td>\n",
              "    </tr>\n",
              "    <tr>\n",
              "      <th>3.0</th>\n",
              "      <td>439</td>\n",
              "      <td>584</td>\n",
              "    </tr>\n",
              "    <tr>\n",
              "      <th>3.1</th>\n",
              "      <td>587</td>\n",
              "      <td>974</td>\n",
              "    </tr>\n",
              "    <tr>\n",
              "      <th>3.2</th>\n",
              "      <td>829</td>\n",
              "      <td>1044</td>\n",
              "    </tr>\n",
              "    <tr>\n",
              "      <th>3.3</th>\n",
              "      <td>1137</td>\n",
              "      <td>1173</td>\n",
              "    </tr>\n",
              "    <tr>\n",
              "      <th>3.4</th>\n",
              "      <td>1024</td>\n",
              "      <td>1452</td>\n",
              "    </tr>\n",
              "    <tr>\n",
              "      <th>3.5</th>\n",
              "      <td>1090</td>\n",
              "      <td>1694</td>\n",
              "    </tr>\n",
              "    <tr>\n",
              "      <th>3.6</th>\n",
              "      <td>1090</td>\n",
              "      <td>2226</td>\n",
              "    </tr>\n",
              "    <tr>\n",
              "      <th>3.7</th>\n",
              "      <td>1172</td>\n",
              "      <td>2649</td>\n",
              "    </tr>\n",
              "    <tr>\n",
              "      <th>3.8</th>\n",
              "      <td>1147</td>\n",
              "      <td>2726</td>\n",
              "    </tr>\n",
              "    <tr>\n",
              "      <th>3.9</th>\n",
              "      <td>1017</td>\n",
              "      <td>2955</td>\n",
              "    </tr>\n",
              "    <tr>\n",
              "      <th>4.0</th>\n",
              "      <td>874</td>\n",
              "      <td>2309</td>\n",
              "    </tr>\n",
              "    <tr>\n",
              "      <th>4.1</th>\n",
              "      <td>843</td>\n",
              "      <td>2105</td>\n",
              "    </tr>\n",
              "    <tr>\n",
              "      <th>4.2</th>\n",
              "      <td>648</td>\n",
              "      <td>1536</td>\n",
              "    </tr>\n",
              "    <tr>\n",
              "      <th>4.3</th>\n",
              "      <td>692</td>\n",
              "      <td>1001</td>\n",
              "    </tr>\n",
              "    <tr>\n",
              "      <th>4.4</th>\n",
              "      <td>374</td>\n",
              "      <td>773</td>\n",
              "    </tr>\n",
              "    <tr>\n",
              "      <th>4.5</th>\n",
              "      <td>297</td>\n",
              "      <td>359</td>\n",
              "    </tr>\n",
              "    <tr>\n",
              "      <th>4.6</th>\n",
              "      <td>140</td>\n",
              "      <td>160</td>\n",
              "    </tr>\n",
              "    <tr>\n",
              "      <th>4.7</th>\n",
              "      <td>113</td>\n",
              "      <td>54</td>\n",
              "    </tr>\n",
              "    <tr>\n",
              "      <th>4.8</th>\n",
              "      <td>34</td>\n",
              "      <td>32</td>\n",
              "    </tr>\n",
              "    <tr>\n",
              "      <th>4.9</th>\n",
              "      <td>12</td>\n",
              "      <td>43</td>\n",
              "    </tr>\n",
              "  </tbody>\n",
              "</table>\n",
              "</div>\n",
              "    <div class=\"colab-df-buttons\">\n",
              "\n",
              "  <div class=\"colab-df-container\">\n",
              "    <button class=\"colab-df-convert\" onclick=\"convertToInteractive('df-4d484de7-e3d7-42d4-ad98-b17fc0be3c6c')\"\n",
              "            title=\"Convert this dataframe to an interactive table.\"\n",
              "            style=\"display:none;\">\n",
              "\n",
              "  <svg xmlns=\"http://www.w3.org/2000/svg\" height=\"24px\" viewBox=\"0 -960 960 960\">\n",
              "    <path d=\"M120-120v-720h720v720H120Zm60-500h600v-160H180v160Zm220 220h160v-160H400v160Zm0 220h160v-160H400v160ZM180-400h160v-160H180v160Zm440 0h160v-160H620v160ZM180-180h160v-160H180v160Zm440 0h160v-160H620v160Z\"/>\n",
              "  </svg>\n",
              "    </button>\n",
              "\n",
              "  <style>\n",
              "    .colab-df-container {\n",
              "      display:flex;\n",
              "      gap: 12px;\n",
              "    }\n",
              "\n",
              "    .colab-df-convert {\n",
              "      background-color: #E8F0FE;\n",
              "      border: none;\n",
              "      border-radius: 50%;\n",
              "      cursor: pointer;\n",
              "      display: none;\n",
              "      fill: #1967D2;\n",
              "      height: 32px;\n",
              "      padding: 0 0 0 0;\n",
              "      width: 32px;\n",
              "    }\n",
              "\n",
              "    .colab-df-convert:hover {\n",
              "      background-color: #E2EBFA;\n",
              "      box-shadow: 0px 1px 2px rgba(60, 64, 67, 0.3), 0px 1px 3px 1px rgba(60, 64, 67, 0.15);\n",
              "      fill: #174EA6;\n",
              "    }\n",
              "\n",
              "    .colab-df-buttons div {\n",
              "      margin-bottom: 4px;\n",
              "    }\n",
              "\n",
              "    [theme=dark] .colab-df-convert {\n",
              "      background-color: #3B4455;\n",
              "      fill: #D2E3FC;\n",
              "    }\n",
              "\n",
              "    [theme=dark] .colab-df-convert:hover {\n",
              "      background-color: #434B5C;\n",
              "      box-shadow: 0px 1px 3px 1px rgba(0, 0, 0, 0.15);\n",
              "      filter: drop-shadow(0px 1px 2px rgba(0, 0, 0, 0.3));\n",
              "      fill: #FFFFFF;\n",
              "    }\n",
              "  </style>\n",
              "\n",
              "    <script>\n",
              "      const buttonEl =\n",
              "        document.querySelector('#df-4d484de7-e3d7-42d4-ad98-b17fc0be3c6c button.colab-df-convert');\n",
              "      buttonEl.style.display =\n",
              "        google.colab.kernel.accessAllowed ? 'block' : 'none';\n",
              "\n",
              "      async function convertToInteractive(key) {\n",
              "        const element = document.querySelector('#df-4d484de7-e3d7-42d4-ad98-b17fc0be3c6c');\n",
              "        const dataTable =\n",
              "          await google.colab.kernel.invokeFunction('convertToInteractive',\n",
              "                                                    [key], {});\n",
              "        if (!dataTable) return;\n",
              "\n",
              "        const docLinkHtml = 'Like what you see? Visit the ' +\n",
              "          '<a target=\"_blank\" href=https://colab.research.google.com/notebooks/data_table.ipynb>data table notebook</a>'\n",
              "          + ' to learn more about interactive tables.';\n",
              "        element.innerHTML = '';\n",
              "        dataTable['output_type'] = 'display_data';\n",
              "        await google.colab.output.renderOutput(dataTable, element);\n",
              "        const docLink = document.createElement('div');\n",
              "        docLink.innerHTML = docLinkHtml;\n",
              "        element.appendChild(docLink);\n",
              "      }\n",
              "    </script>\n",
              "  </div>\n",
              "\n",
              "\n",
              "<div id=\"df-89726df6-affe-44ae-8972-7a86aa1a59d8\">\n",
              "  <button class=\"colab-df-quickchart\" onclick=\"quickchart('df-89726df6-affe-44ae-8972-7a86aa1a59d8')\"\n",
              "            title=\"Suggest charts.\"\n",
              "            style=\"display:none;\">\n",
              "\n",
              "<svg xmlns=\"http://www.w3.org/2000/svg\" height=\"24px\"viewBox=\"0 0 24 24\"\n",
              "     width=\"24px\">\n",
              "    <g>\n",
              "        <path d=\"M19 3H5c-1.1 0-2 .9-2 2v14c0 1.1.9 2 2 2h14c1.1 0 2-.9 2-2V5c0-1.1-.9-2-2-2zM9 17H7v-7h2v7zm4 0h-2V7h2v10zm4 0h-2v-4h2v4z\"/>\n",
              "    </g>\n",
              "</svg>\n",
              "  </button>\n",
              "\n",
              "<style>\n",
              "  .colab-df-quickchart {\n",
              "    background-color: #E8F0FE;\n",
              "    border: none;\n",
              "    border-radius: 50%;\n",
              "    cursor: pointer;\n",
              "    display: none;\n",
              "    fill: #1967D2;\n",
              "    height: 32px;\n",
              "    padding: 0 0 0 0;\n",
              "    width: 32px;\n",
              "  }\n",
              "\n",
              "  .colab-df-quickchart:hover {\n",
              "    background-color: #E2EBFA;\n",
              "    box-shadow: 0px 1px 2px rgba(60, 64, 67, 0.3), 0px 1px 3px 1px rgba(60, 64, 67, 0.15);\n",
              "    fill: #174EA6;\n",
              "  }\n",
              "\n",
              "  [theme=dark] .colab-df-quickchart {\n",
              "    background-color: #3B4455;\n",
              "    fill: #D2E3FC;\n",
              "  }\n",
              "\n",
              "  [theme=dark] .colab-df-quickchart:hover {\n",
              "    background-color: #434B5C;\n",
              "    box-shadow: 0px 1px 3px 1px rgba(0, 0, 0, 0.15);\n",
              "    filter: drop-shadow(0px 1px 2px rgba(0, 0, 0, 0.3));\n",
              "    fill: #FFFFFF;\n",
              "  }\n",
              "</style>\n",
              "\n",
              "  <script>\n",
              "    async function quickchart(key) {\n",
              "      const charts = await google.colab.kernel.invokeFunction(\n",
              "          'suggestCharts', [key], {});\n",
              "    }\n",
              "    (() => {\n",
              "      let quickchartButtonEl =\n",
              "        document.querySelector('#df-89726df6-affe-44ae-8972-7a86aa1a59d8 button');\n",
              "      quickchartButtonEl.style.display =\n",
              "        google.colab.kernel.accessAllowed ? 'block' : 'none';\n",
              "    })();\n",
              "  </script>\n",
              "</div>\n",
              "    </div>\n",
              "  </div>\n"
            ]
          },
          "metadata": {},
          "execution_count": 29
        }
      ],
      "source": [
        "Final = N.join(Y,how=\"inner\")\n",
        "Final"
      ]
    },
    {
      "cell_type": "code",
      "execution_count": 29,
      "id": "50f7adb1",
      "metadata": {
        "id": "50f7adb1"
      },
      "outputs": [],
      "source": []
    },
    {
      "cell_type": "code",
      "execution_count": 30,
      "id": "58e8e358",
      "metadata": {
        "colab": {
          "base_uri": "https://localhost:8080/",
          "height": 455
        },
        "id": "58e8e358",
        "outputId": "b547595a-c983-40ea-f6d8-f959dc5ee318"
      },
      "outputs": [
        {
          "output_type": "execute_result",
          "data": {
            "text/plain": [
              "<Axes: >"
            ]
          },
          "metadata": {},
          "execution_count": 30
        },
        {
          "output_type": "display_data",
          "data": {
            "text/plain": [
              "<Figure size 640x480 with 1 Axes>"
            ],
            "image/png": "[encoded data removed]"
          },
          "metadata": {}
        }
      ],
      "source": [
        "Final.plot(kind = \"bar\",stacked = True)"
      ]
    },
    {
      "cell_type": "code",
      "execution_count": 30,
      "id": "2b6737b0",
      "metadata": {
        "id": "2b6737b0"
      },
      "outputs": [],
      "source": []
    },
    {
      "cell_type": "code",
      "execution_count": 30,
      "id": "d027bd87",
      "metadata": {
        "id": "d027bd87"
      },
      "outputs": [],
      "source": []
    },
    {
      "cell_type": "markdown",
      "id": "c4c781f4",
      "metadata": {
        "id": "c4c781f4"
      },
      "source": [
        "###### Another way"
      ]
    },
    {
      "cell_type": "code",
      "execution_count": 31,
      "id": "f1ccadf8",
      "metadata": {
        "scrolled": false,
        "colab": {
          "base_uri": "https://localhost:8080/",
          "height": 682
        },
        "id": "f1ccadf8",
        "outputId": "dae20994-e22f-4ba9-ea6e-11a53835c7d7"
      },
      "outputs": [
        {
          "output_type": "execute_result",
          "data": {
            "text/plain": [
              "online_order    No   Yes\n",
              "rate                    \n",
              "1.8              5     0\n",
              "2.0             11     0\n",
              "2.1              9    15\n",
              "2.2             10    16\n",
              "2.3             29    22\n",
              "2.4             36    34\n",
              "2.5             38    63\n",
              "2.6             83   177\n",
              "2.7            141   166\n",
              "2.8            224   376\n",
              "2.9            314   488\n",
              "3.0            439   584\n",
              "3.1            587   974\n",
              "3.2            829  1044\n",
              "3.3           1137  1173\n",
              "3.4           1024  1452\n",
              "3.5           1090  1694\n",
              "3.6           1090  2226\n",
              "3.7           1172  2649\n",
              "3.8           1147  2726\n",
              "3.9           1017  2955\n",
              "4.0            874  2309\n",
              "4.1            843  2105\n",
              "4.2            648  1536\n",
              "4.3            692  1001\n",
              "4.4            374   773\n",
              "4.5            297   359\n",
              "4.6            140   160\n",
              "4.7            113    54\n",
              "4.8             34    32\n",
              "4.9             12    43"
            ],
            "text/html": [
              "\n",
              "  <div id=\"df-cfba5fe4-c804-4e15-9cc9-849a3d35b9f4\" class=\"colab-df-container\">\n",
              "    <div>\n",
              "<style scoped>\n",
              "    .dataframe tbody tr th:only-of-type {\n",
              "        vertical-align: middle;\n",
              "    }\n",
              "\n",
              "    .dataframe tbody tr th {\n",
              "        vertical-align: top;\n",
              "    }\n",
              "\n",
              "    .dataframe thead th {\n",
              "        text-align: right;\n",
              "    }\n",
              "</style>\n",
              "<table border=\"1\" class=\"dataframe\">\n",
              "  <thead>\n",
              "    <tr style=\"text-align: right;\">\n",
              "      <th>online_order</th>\n",
              "      <th>No</th>\n",
              "      <th>Yes</th>\n",
              "    </tr>\n",
              "    <tr>\n",
              "      <th>rate</th>\n",
              "      <th></th>\n",
              "      <th></th>\n",
              "    </tr>\n",
              "  </thead>\n",
              "  <tbody>\n",
              "    <tr>\n",
              "      <th>1.8</th>\n",
              "      <td>5</td>\n",
              "      <td>0</td>\n",
              "    </tr>\n",
              "    <tr>\n",
              "      <th>2.0</th>\n",
              "      <td>11</td>\n",
              "      <td>0</td>\n",
              "    </tr>\n",
              "    <tr>\n",
              "      <th>2.1</th>\n",
              "      <td>9</td>\n",
              "      <td>15</td>\n",
              "    </tr>\n",
              "    <tr>\n",
              "      <th>2.2</th>\n",
              "      <td>10</td>\n",
              "      <td>16</td>\n",
              "    </tr>\n",
              "    <tr>\n",
              "      <th>2.3</th>\n",
              "      <td>29</td>\n",
              "      <td>22</td>\n",
              "    </tr>\n",
              "    <tr>\n",
              "      <th>2.4</th>\n",
              "      <td>36</td>\n",
              "      <td>34</td>\n",
              "    </tr>\n",
              "    <tr>\n",
              "      <th>2.5</th>\n",
              "      <td>38</td>\n",
              "      <td>63</td>\n",
              "    </tr>\n",
              "    <tr>\n",
              "      <th>2.6</th>\n",
              "      <td>83</td>\n",
              "      <td>177</td>\n",
              "    </tr>\n",
              "    <tr>\n",
              "      <th>2.7</th>\n",
              "      <td>141</td>\n",
              "      <td>166</td>\n",
              "    </tr>\n",
              "    <tr>\n",
              "      <th>2.8</th>\n",
              "      <td>224</td>\n",
              "      <td>376</td>\n",
              "    </tr>\n",
              "    <tr>\n",
              "      <th>2.9</th>\n",
              "      <td>314</td>\n",
              "      <td>488</td>\n",
              "    </tr>\n",
              "    <tr>\n",
              "      <th>3.0</th>\n",
              "      <td>439</td>\n",
              "      <td>584</td>\n",
              "    </tr>\n",
              "    <tr>\n",
              "      <th>3.1</th>\n",
              "      <td>587</td>\n",
              "      <td>974</td>\n",
              "    </tr>\n",
              "    <tr>\n",
              "      <th>3.2</th>\n",
              "      <td>829</td>\n",
              "      <td>1044</td>\n",
              "    </tr>\n",
              "    <tr>\n",
              "      <th>3.3</th>\n",
              "      <td>1137</td>\n",
              "      <td>1173</td>\n",
              "    </tr>\n",
              "    <tr>\n",
              "      <th>3.4</th>\n",
              "      <td>1024</td>\n",
              "      <td>1452</td>\n",
              "    </tr>\n",
              "    <tr>\n",
              "      <th>3.5</th>\n",
              "      <td>1090</td>\n",
              "      <td>1694</td>\n",
              "    </tr>\n",
              "    <tr>\n",
              "      <th>3.6</th>\n",
              "      <td>1090</td>\n",
              "      <td>2226</td>\n",
              "    </tr>\n",
              "    <tr>\n",
              "      <th>3.7</th>\n",
              "      <td>1172</td>\n",
              "      <td>2649</td>\n",
              "    </tr>\n",
              "    <tr>\n",
              "      <th>3.8</th>\n",
              "      <td>1147</td>\n",
              "      <td>2726</td>\n",
              "    </tr>\n",
              "    <tr>\n",
              "      <th>3.9</th>\n",
              "      <td>1017</td>\n",
              "      <td>2955</td>\n",
              "    </tr>\n",
              "    <tr>\n",
              "      <th>4.0</th>\n",
              "      <td>874</td>\n",
              "      <td>2309</td>\n",
              "    </tr>\n",
              "    <tr>\n",
              "      <th>4.1</th>\n",
              "      <td>843</td>\n",
              "      <td>2105</td>\n",
              "    </tr>\n",
              "    <tr>\n",
              "      <th>4.2</th>\n",
              "      <td>648</td>\n",
              "      <td>1536</td>\n",
              "    </tr>\n",
              "    <tr>\n",
              "      <th>4.3</th>\n",
              "      <td>692</td>\n",
              "      <td>1001</td>\n",
              "    </tr>\n",
              "    <tr>\n",
              "      <th>4.4</th>\n",
              "      <td>374</td>\n",
              "      <td>773</td>\n",
              "    </tr>\n",
              "    <tr>\n",
              "      <th>4.5</th>\n",
              "      <td>297</td>\n",
              "      <td>359</td>\n",
              "    </tr>\n",
              "    <tr>\n",
              "      <th>4.6</th>\n",
              "      <td>140</td>\n",
              "      <td>160</td>\n",
              "    </tr>\n",
              "    <tr>\n",
              "      <th>4.7</th>\n",
              "      <td>113</td>\n",
              "      <td>54</td>\n",
              "    </tr>\n",
              "    <tr>\n",
              "      <th>4.8</th>\n",
              "      <td>34</td>\n",
              "      <td>32</td>\n",
              "    </tr>\n",
              "    <tr>\n",
              "      <th>4.9</th>\n",
              "      <td>12</td>\n",
              "      <td>43</td>\n",
              "    </tr>\n",
              "  </tbody>\n",
              "</table>\n",
              "</div>\n",
              "    <div class=\"colab-df-buttons\">\n",
              "\n",
              "  <div class=\"colab-df-container\">\n",
              "    <button class=\"colab-df-convert\" onclick=\"convertToInteractive('df-cfba5fe4-c804-4e15-9cc9-849a3d35b9f4')\"\n",
              "            title=\"Convert this dataframe to an interactive table.\"\n",
              "            style=\"display:none;\">\n",
              "\n",
              "  <svg xmlns=\"http://www.w3.org/2000/svg\" height=\"24px\" viewBox=\"0 -960 960 960\">\n",
              "    <path d=\"M120-120v-720h720v720H120Zm60-500h600v-160H180v160Zm220 220h160v-160H400v160Zm0 220h160v-160H400v160ZM180-400h160v-160H180v160Zm440 0h160v-160H620v160ZM180-180h160v-160H180v160Zm440 0h160v-160H620v160Z\"/>\n",
              "  </svg>\n",
              "    </button>\n",
              "\n",
              "  <style>\n",
              "    .colab-df-container {\n",
              "      display:flex;\n",
              "      gap: 12px;\n",
              "    }\n",
              "\n",
              "    .colab-df-convert {\n",
              "      background-color: #E8F0FE;\n",
              "      border: none;\n",
              "      border-radius: 50%;\n",
              "      cursor: pointer;\n",
              "      display: none;\n",
              "      fill: #1967D2;\n",
              "      height: 32px;\n",
              "      padding: 0 0 0 0;\n",
              "      width: 32px;\n",
              "    }\n",
              "\n",
              "    .colab-df-convert:hover {\n",
              "      background-color: #E2EBFA;\n",
              "      box-shadow: 0px 1px 2px rgba(60, 64, 67, 0.3), 0px 1px 3px 1px rgba(60, 64, 67, 0.15);\n",
              "      fill: #174EA6;\n",
              "    }\n",
              "\n",
              "    .colab-df-buttons div {\n",
              "      margin-bottom: 4px;\n",
              "    }\n",
              "\n",
              "    [theme=dark] .colab-df-convert {\n",
              "      background-color: #3B4455;\n",
              "      fill: #D2E3FC;\n",
              "    }\n",
              "\n",
              "    [theme=dark] .colab-df-convert:hover {\n",
              "      background-color: #434B5C;\n",
              "      box-shadow: 0px 1px 3px 1px rgba(0, 0, 0, 0.15);\n",
              "      filter: drop-shadow(0px 1px 2px rgba(0, 0, 0, 0.3));\n",
              "      fill: #FFFFFF;\n",
              "    }\n",
              "  </style>\n",
              "\n",
              "    <script>\n",
              "      const buttonEl =\n",
              "        document.querySelector('#df-cfba5fe4-c804-4e15-9cc9-849a3d35b9f4 button.colab-df-convert');\n",
              "      buttonEl.style.display =\n",
              "        google.colab.kernel.accessAllowed ? 'block' : 'none';\n",
              "\n",
              "      async function convertToInteractive(key) {\n",
              "        const element = document.querySelector('#df-cfba5fe4-c804-4e15-9cc9-849a3d35b9f4');\n",
              "        const dataTable =\n",
              "          await google.colab.kernel.invokeFunction('convertToInteractive',\n",
              "                                                    [key], {});\n",
              "        if (!dataTable) return;\n",
              "\n",
              "        const docLinkHtml = 'Like what you see? Visit the ' +\n",
              "          '<a target=\"_blank\" href=https://colab.research.google.com/notebooks/data_table.ipynb>data table notebook</a>'\n",
              "          + ' to learn more about interactive tables.';\n",
              "        element.innerHTML = '';\n",
              "        dataTable['output_type'] = 'display_data';\n",
              "        await google.colab.output.renderOutput(dataTable, element);\n",
              "        const docLink = document.createElement('div');\n",
              "        docLink.innerHTML = docLinkHtml;\n",
              "        element.appendChild(docLink);\n",
              "      }\n",
              "    </script>\n",
              "  </div>\n",
              "\n",
              "\n",
              "<div id=\"df-4009c59f-171d-41d6-a7f6-1422ee66bd3b\">\n",
              "  <button class=\"colab-df-quickchart\" onclick=\"quickchart('df-4009c59f-171d-41d6-a7f6-1422ee66bd3b')\"\n",
              "            title=\"Suggest charts.\"\n",
              "            style=\"display:none;\">\n",
              "\n",
              "<svg xmlns=\"http://www.w3.org/2000/svg\" height=\"24px\"viewBox=\"0 0 24 24\"\n",
              "     width=\"24px\">\n",
              "    <g>\n",
              "        <path d=\"M19 3H5c-1.1 0-2 .9-2 2v14c0 1.1.9 2 2 2h14c1.1 0 2-.9 2-2V5c0-1.1-.9-2-2-2zM9 17H7v-7h2v7zm4 0h-2V7h2v10zm4 0h-2v-4h2v4z\"/>\n",
              "    </g>\n",
              "</svg>\n",
              "  </button>\n",
              "\n",
              "<style>\n",
              "  .colab-df-quickchart {\n",
              "    background-color: #E8F0FE;\n",
              "    border: none;\n",
              "    border-radius: 50%;\n",
              "    cursor: pointer;\n",
              "    display: none;\n",
              "    fill: #1967D2;\n",
              "    height: 32px;\n",
              "    padding: 0 0 0 0;\n",
              "    width: 32px;\n",
              "  }\n",
              "\n",
              "  .colab-df-quickchart:hover {\n",
              "    background-color: #E2EBFA;\n",
              "    box-shadow: 0px 1px 2px rgba(60, 64, 67, 0.3), 0px 1px 3px 1px rgba(60, 64, 67, 0.15);\n",
              "    fill: #174EA6;\n",
              "  }\n",
              "\n",
              "  [theme=dark] .colab-df-quickchart {\n",
              "    background-color: #3B4455;\n",
              "    fill: #D2E3FC;\n",
              "  }\n",
              "\n",
              "  [theme=dark] .colab-df-quickchart:hover {\n",
              "    background-color: #434B5C;\n",
              "    box-shadow: 0px 1px 3px 1px rgba(0, 0, 0, 0.15);\n",
              "    filter: drop-shadow(0px 1px 2px rgba(0, 0, 0, 0.3));\n",
              "    fill: #FFFFFF;\n",
              "  }\n",
              "</style>\n",
              "\n",
              "  <script>\n",
              "    async function quickchart(key) {\n",
              "      const charts = await google.colab.kernel.invokeFunction(\n",
              "          'suggestCharts', [key], {});\n",
              "    }\n",
              "    (() => {\n",
              "      let quickchartButtonEl =\n",
              "        document.querySelector('#df-4009c59f-171d-41d6-a7f6-1422ee66bd3b button');\n",
              "      quickchartButtonEl.style.display =\n",
              "        google.colab.kernel.accessAllowed ? 'block' : 'none';\n",
              "    })();\n",
              "  </script>\n",
              "</div>\n",
              "    </div>\n",
              "  </div>\n"
            ]
          },
          "metadata": {},
          "execution_count": 31
        }
      ],
      "source": [
        "x = pd.crosstab(df[\"rate\"],df[\"online_order\"])\n",
        "x #---> this is pivot table"
      ]
    },
    {
      "cell_type": "code",
      "execution_count": 31,
      "id": "c8360464",
      "metadata": {
        "id": "c8360464"
      },
      "outputs": [],
      "source": []
    },
    {
      "cell_type": "code",
      "execution_count": 31,
      "id": "df7d5083",
      "metadata": {
        "id": "df7d5083"
      },
      "outputs": [],
      "source": []
    },
    {
      "cell_type": "code",
      "execution_count": 31,
      "id": "30b731b0",
      "metadata": {
        "id": "30b731b0"
      },
      "outputs": [],
      "source": []
    },
    {
      "cell_type": "code",
      "execution_count": 32,
      "id": "64fc6f14",
      "metadata": {
        "colab": {
          "base_uri": "https://localhost:8080/",
          "height": 475
        },
        "id": "64fc6f14",
        "outputId": "0faa8fb2-95c3-4d1f-b293-f0b634d1f64c"
      },
      "outputs": [
        {
          "output_type": "execute_result",
          "data": {
            "text/plain": [
              "<Axes: xlabel='rate'>"
            ]
          },
          "metadata": {},
          "execution_count": 32
        },
        {
          "output_type": "display_data",
          "data": {
            "text/plain": [
              "<Figure size 640x480 with 1 Axes>"
            ],
            "image/png": "[encoded data removed]"
          },
          "metadata": {}
        }
      ],
      "source": [
        "x.plot(kind=\"bar\",stacked=True)"
      ]
    },
    {
      "cell_type": "code",
      "execution_count": 32,
      "id": "644677a1",
      "metadata": {
        "id": "644677a1"
      },
      "outputs": [],
      "source": []
    },
    {
      "cell_type": "code",
      "execution_count": 33,
      "id": "fefeb96e",
      "metadata": {
        "colab": {
          "base_uri": "https://localhost:8080/"
        },
        "id": "fefeb96e",
        "outputId": "6e20fba3-550e-4b38-f830-de882bf962d3"
      },
      "outputs": [
        {
          "output_type": "execute_result",
          "data": {
            "text/plain": [
              "rate\n",
              "1.8       5.0\n",
              "2.0      11.0\n",
              "2.1      24.0\n",
              "2.2      26.0\n",
              "2.3      51.0\n",
              "2.4      70.0\n",
              "2.5     101.0\n",
              "2.6     260.0\n",
              "2.7     307.0\n",
              "2.8     600.0\n",
              "2.9     802.0\n",
              "3.0    1023.0\n",
              "3.1    1561.0\n",
              "3.2    1873.0\n",
              "3.3    2310.0\n",
              "3.4    2476.0\n",
              "3.5    2784.0\n",
              "3.6    3316.0\n",
              "3.7    3821.0\n",
              "3.8    3873.0\n",
              "3.9    3972.0\n",
              "4.0    3183.0\n",
              "4.1    2948.0\n",
              "4.2    2184.0\n",
              "4.3    1693.0\n",
              "4.4    1147.0\n",
              "4.5     656.0\n",
              "4.6     300.0\n",
              "4.7     167.0\n",
              "4.8      66.0\n",
              "4.9      55.0\n",
              "dtype: float64"
            ]
          },
          "metadata": {},
          "execution_count": 33
        }
      ],
      "source": [
        "x.sum(axis = 1).astype(float)"
      ]
    },
    {
      "cell_type": "code",
      "execution_count": 33,
      "id": "8f22d6d1",
      "metadata": {
        "id": "8f22d6d1"
      },
      "outputs": [],
      "source": []
    },
    {
      "cell_type": "code",
      "execution_count": 34,
      "id": "d864072d",
      "metadata": {
        "id": "d864072d"
      },
      "outputs": [],
      "source": [
        "normalize_df = x.div(x.sum(axis = 1).astype(float), axis = 0)"
      ]
    },
    {
      "cell_type": "code",
      "execution_count": 35,
      "id": "ecc9efd2",
      "metadata": {
        "colab": {
          "base_uri": "https://localhost:8080/",
          "height": 475
        },
        "id": "ecc9efd2",
        "outputId": "7eb3d16c-f8f6-42c1-e3b4-d683c28ca1bc"
      },
      "outputs": [
        {
          "output_type": "execute_result",
          "data": {
            "text/plain": [
              "<Axes: xlabel='rate'>"
            ]
          },
          "metadata": {},
          "execution_count": 35
        },
        {
          "output_type": "display_data",
          "data": {
            "text/plain": [
              "<Figure size 640x480 with 1 Axes>"
            ],
            "image/png": "[encoded data removed]"
          },
          "metadata": {}
        }
      ],
      "source": [
        "(normalize_df*100).plot(kind=\"bar\",stacked=True)"
      ]
    },
    {
      "cell_type": "code",
      "execution_count": 36,
      "id": "8b6cc06d",
      "metadata": {
        "id": "8b6cc06d"
      },
      "outputs": [],
      "source": [
        "# yes or no is about if a restaurant accepts online orders or not!"
      ]
    },
    {
      "cell_type": "code",
      "execution_count": 36,
      "id": "ef21673e",
      "metadata": {
        "id": "ef21673e"
      },
      "outputs": [],
      "source": []
    },
    {
      "cell_type": "code",
      "execution_count": 36,
      "id": "fc391cea",
      "metadata": {
        "id": "fc391cea"
      },
      "outputs": [],
      "source": []
    },
    {
      "cell_type": "code",
      "execution_count": 36,
      "id": "af3dd45c",
      "metadata": {
        "id": "af3dd45c"
      },
      "outputs": [],
      "source": []
    },
    {
      "cell_type": "markdown",
      "id": "6298ea77",
      "metadata": {
        "id": "6298ea77"
      },
      "source": [
        "### Data Cleaning to perform Text Analysis"
      ]
    },
    {
      "cell_type": "code",
      "execution_count": 37,
      "id": "aee78db4",
      "metadata": {
        "colab": {
          "base_uri": "https://localhost:8080/"
        },
        "id": "aee78db4",
        "outputId": "5f58af37-7de3-4390-d0ad-234b37ec899a"
      },
      "outputs": [
        {
          "output_type": "execute_result",
          "data": {
            "text/plain": [
              "227"
            ]
          },
          "metadata": {},
          "execution_count": 37
        }
      ],
      "source": [
        "df[\"rest_type\"].isnull().sum()"
      ]
    },
    {
      "cell_type": "code",
      "execution_count": 38,
      "id": "5f8903a6",
      "metadata": {
        "id": "5f8903a6"
      },
      "outputs": [],
      "source": [
        "data = df.dropna(subset = \"rest_type\")"
      ]
    },
    {
      "cell_type": "code",
      "execution_count": 39,
      "id": "ed46924b",
      "metadata": {
        "colab": {
          "base_uri": "https://localhost:8080/"
        },
        "id": "ed46924b",
        "outputId": "fc2fbb03-0dfc-41ab-8894-03a00035235a"
      },
      "outputs": [
        {
          "output_type": "execute_result",
          "data": {
            "text/plain": [
              "0"
            ]
          },
          "metadata": {},
          "execution_count": 39
        }
      ],
      "source": [
        "data[\"rest_type\"].isnull().sum()"
      ]
    },
    {
      "cell_type": "code",
      "execution_count": 39,
      "id": "64457800",
      "metadata": {
        "id": "64457800"
      },
      "outputs": [],
      "source": []
    },
    {
      "cell_type": "code",
      "execution_count": 40,
      "id": "3d85f16a",
      "metadata": {
        "colab": {
          "base_uri": "https://localhost:8080/"
        },
        "id": "3d85f16a",
        "outputId": "9b20a3e4-67ca-4d19-c887-d5182fa49a78"
      },
      "outputs": [
        {
          "output_type": "execute_result",
          "data": {
            "text/plain": [
              "array(['Casual Dining', 'Cafe, Casual Dining', 'Quick Bites',\n",
              "       'Casual Dining, Cafe', 'Cafe', 'Quick Bites, Cafe',\n",
              "       'Cafe, Quick Bites', 'Delivery', 'Mess', 'Dessert Parlor',\n",
              "       'Bakery, Dessert Parlor', 'Pub', 'Bakery', 'Takeaway, Delivery',\n",
              "       'Fine Dining', 'Beverage Shop', 'Sweet Shop', 'Bar',\n",
              "       'Beverage Shop, Quick Bites', 'Confectionery',\n",
              "       'Quick Bites, Beverage Shop', 'Dessert Parlor, Sweet Shop',\n",
              "       'Bakery, Quick Bites', 'Sweet Shop, Quick Bites', 'Kiosk',\n",
              "       'Food Truck', 'Quick Bites, Dessert Parlor',\n",
              "       'Beverage Shop, Dessert Parlor', 'Takeaway', 'Pub, Casual Dining',\n",
              "       'Casual Dining, Bar', 'Dessert Parlor, Beverage Shop',\n",
              "       'Quick Bites, Bakery', 'Dessert Parlor, Quick Bites',\n",
              "       'Microbrewery, Casual Dining', 'Lounge', 'Bar, Casual Dining',\n",
              "       'Food Court', 'Cafe, Bakery', 'Dhaba', 'Quick Bites, Sweet Shop',\n",
              "       'Microbrewery', 'Food Court, Quick Bites', 'Pub, Bar',\n",
              "       'Casual Dining, Pub', 'Lounge, Bar', 'Food Court, Dessert Parlor',\n",
              "       'Casual Dining, Sweet Shop', 'Food Court, Casual Dining',\n",
              "       'Casual Dining, Microbrewery', 'Sweet Shop, Dessert Parlor',\n",
              "       'Bakery, Beverage Shop', 'Lounge, Casual Dining',\n",
              "       'Cafe, Food Court', 'Beverage Shop, Cafe', 'Cafe, Dessert Parlor',\n",
              "       'Dessert Parlor, Cafe', 'Dessert Parlor, Bakery',\n",
              "       'Microbrewery, Pub', 'Bakery, Food Court', 'Club',\n",
              "       'Quick Bites, Food Court', 'Bakery, Cafe', 'Bar, Cafe',\n",
              "       'Pub, Cafe', 'Casual Dining, Irani Cafee', 'Fine Dining, Lounge',\n",
              "       'Bar, Quick Bites', 'Bakery, Kiosk', 'Pub, Microbrewery',\n",
              "       'Microbrewery, Lounge', 'Fine Dining, Microbrewery',\n",
              "       'Fine Dining, Bar', 'Mess, Quick Bites', 'Dessert Parlor, Kiosk',\n",
              "       'Bhojanalya', 'Casual Dining, Quick Bites', 'Pop Up', 'Cafe, Bar',\n",
              "       'Casual Dining, Lounge', 'Bakery, Sweet Shop', 'Microbrewery, Bar',\n",
              "       'Cafe, Lounge', 'Bar, Pub', 'Lounge, Cafe', 'Club, Casual Dining',\n",
              "       'Quick Bites, Mess', 'Quick Bites, Meat Shop',\n",
              "       'Quick Bites, Kiosk', 'Lounge, Microbrewery',\n",
              "       'Food Court, Beverage Shop', 'Dessert Parlor, Food Court',\n",
              "       'Bar, Lounge'], dtype=object)"
            ]
          },
          "metadata": {},
          "execution_count": 40
        }
      ],
      "source": [
        "data[\"rest_type\"].unique()"
      ]
    },
    {
      "cell_type": "code",
      "execution_count": 40,
      "id": "a7c6663d",
      "metadata": {
        "id": "a7c6663d"
      },
      "outputs": [],
      "source": []
    },
    {
      "cell_type": "code",
      "execution_count": 41,
      "id": "0db75458",
      "metadata": {
        "id": "0db75458"
      },
      "outputs": [],
      "source": [
        "quick_bites_df = data[data[\"rest_type\"].str.contains(\"Quick Bites\")]"
      ]
    },
    {
      "cell_type": "code",
      "execution_count": 42,
      "id": "f008eab9",
      "metadata": {
        "colab": {
          "base_uri": "https://localhost:8080/"
        },
        "id": "f008eab9",
        "outputId": "ca17a8e5-3115-426b-9580-04f89fc03316"
      },
      "outputs": [
        {
          "output_type": "execute_result",
          "data": {
            "text/plain": [
              "(20639, 18)"
            ]
          },
          "metadata": {},
          "execution_count": 42
        }
      ],
      "source": [
        "quick_bites_df.shape"
      ]
    },
    {
      "cell_type": "code",
      "execution_count": 43,
      "id": "a27c5273",
      "metadata": {
        "colab": {
          "base_uri": "https://localhost:8080/"
        },
        "id": "a27c5273",
        "outputId": "0157da54-d233-4a01-b36f-9c1f0180905d"
      },
      "outputs": [
        {
          "output_type": "execute_result",
          "data": {
            "text/plain": [
              "Index(['index', 'url', 'address', 'name', 'online_order', 'book_table', 'rate',\n",
              "       'votes', 'phone', 'location', 'rest_type', 'dish_liked', 'cuisines',\n",
              "       'approx_cost(for two people)', 'reviews_list', 'menu_item',\n",
              "       'listed_in(type)', 'listed_in(city)'],\n",
              "      dtype='object')"
            ]
          },
          "metadata": {},
          "execution_count": 43
        }
      ],
      "source": [
        "quick_bites_df.columns"
      ]
    },
    {
      "cell_type": "code",
      "execution_count": 43,
      "id": "75f599ad",
      "metadata": {
        "id": "75f599ad"
      },
      "outputs": [],
      "source": []
    },
    {
      "cell_type": "code",
      "execution_count": 44,
      "id": "6e51b02d",
      "metadata": {
        "colab": {
          "base_uri": "https://localhost:8080/"
        },
        "id": "6e51b02d",
        "outputId": "0f533835-5833-4131-dd19-db946b4788d9"
      },
      "outputs": [
        {
          "output_type": "execute_result",
          "data": {
            "text/plain": [
              "3        [('Rated 4.0', \"RATED\\n  Great food and proper...\n",
              "23       [('Rated 4.0', \"RATED\\n  So, went here with fr...\n",
              "26       [('Rated 5.0', 'RATED\\n  please provide some e...\n",
              "31       [('Rated 1.0', \"RATED\\n  Worst restaurant ever...\n",
              "34       [('Rated 3.0', 'RATED\\n  Not worth for the mon...\n",
              "                               ...                        \n",
              "51641    [('Rated 2.0', \"RATED\\n  Food is not upto the ...\n",
              "51642                                                   []\n",
              "51643                                                   []\n",
              "51644                                                   []\n",
              "51645    [('Rated 5.0', \"RATED\\n  I was randomly lookin...\n",
              "Name: reviews_list, Length: 20639, dtype: object"
            ]
          },
          "metadata": {},
          "execution_count": 44
        }
      ],
      "source": [
        "quick_bites_df[\"reviews_list\"]"
      ]
    },
    {
      "cell_type": "code",
      "execution_count": 45,
      "id": "e4166f6c",
      "metadata": {
        "colab": {
          "base_uri": "https://localhost:8080/"
        },
        "id": "e4166f6c",
        "outputId": "a0b68494-27e6-45bf-e040-649d3f0a4cbe"
      },
      "outputs": [
        {
          "output_type": "stream",
          "name": "stderr",
          "text": [
            "<ipython-input-45-44794182a825>:1: SettingWithCopyWarning: \n",
            "A value is trying to be set on a copy of a slice from a DataFrame.\n",
            "Try using .loc[row_indexer,col_indexer] = value instead\n",
            "\n",
            "See the caveats in the documentation: https://pandas.pydata.org/pandas-docs/stable/user_guide/indexing.html#returning-a-view-versus-a-copy\n",
            "  quick_bites_df[\"reviews_list\"] = quick_bites_df[\"reviews_list\"].apply(lambda x:x.lower())\n"
          ]
        }
      ],
      "source": [
        "quick_bites_df[\"reviews_list\"] = quick_bites_df[\"reviews_list\"].apply(lambda x:x.lower())"
      ]
    },
    {
      "cell_type": "code",
      "execution_count": 45,
      "id": "13376ea0",
      "metadata": {
        "id": "13376ea0"
      },
      "outputs": [],
      "source": []
    },
    {
      "cell_type": "code",
      "execution_count": 46,
      "id": "a6c79afa",
      "metadata": {
        "id": "a6c79afa"
      },
      "outputs": [],
      "source": [
        "from nltk.corpus import RegexpTokenizer\n",
        "# nltk = natural language toolkit\n",
        "# RegexpTokenizer = Regular expression tokenizer"
      ]
    },
    {
      "cell_type": "code",
      "execution_count": 47,
      "id": "18f41aee",
      "metadata": {
        "id": "18f41aee"
      },
      "outputs": [],
      "source": [
        "tokenizer = RegexpTokenizer(\"[a-zA-Z]+\")"
      ]
    },
    {
      "cell_type": "code",
      "execution_count": 48,
      "id": "628b0d83",
      "metadata": {
        "colab": {
          "base_uri": "https://localhost:8080/"
        },
        "id": "628b0d83",
        "outputId": "ebcbf290-ccb5-4b35-f744-bd66d27afbd5"
      },
      "outputs": [
        {
          "output_type": "execute_result",
          "data": {
            "text/plain": [
              "RegexpTokenizer(pattern='[a-zA-Z]+', gaps=False, discard_empty=True, flags=re.UNICODE|re.MULTILINE|re.DOTALL)"
            ]
          },
          "metadata": {},
          "execution_count": 48
        }
      ],
      "source": [
        "tokenizer"
      ]
    },
    {
      "cell_type": "code",
      "execution_count": 48,
      "id": "43a98ef9",
      "metadata": {
        "id": "43a98ef9"
      },
      "outputs": [],
      "source": []
    },
    {
      "cell_type": "code",
      "execution_count": 49,
      "id": "20197094",
      "metadata": {
        "colab": {
          "base_uri": "https://localhost:8080/"
        },
        "id": "20197094",
        "outputId": "ed3b9c3a-5bee-439e-ae1c-78ba26710de2"
      },
      "outputs": [
        {
          "output_type": "execute_result",
          "data": {
            "text/plain": [
              "['rated',\n",
              " 'rated',\n",
              " 'n',\n",
              " 'great',\n",
              " 'food',\n",
              " 'and',\n",
              " 'proper',\n",
              " 'karnataka',\n",
              " 'style',\n",
              " 'full',\n",
              " 'meals',\n",
              " 'been',\n",
              " 'there',\n",
              " 'twice',\n",
              " 'and',\n",
              " 'was',\n",
              " 'fully',\n",
              " 'satisfied',\n",
              " 'will',\n",
              " 'give',\n",
              " 'stars',\n",
              " 'if',\n",
              " 'it',\n",
              " 's',\n",
              " 'well',\n",
              " 'managed',\n",
              " 'rated',\n",
              " 'rated',\n",
              " 'n',\n",
              " 'reached',\n",
              " 'the',\n",
              " 'place',\n",
              " 'at',\n",
              " 'pm',\n",
              " 'on',\n",
              " 'saturday',\n",
              " 'half',\n",
              " 'of',\n",
              " 'the',\n",
              " 'items',\n",
              " 'on',\n",
              " 'the',\n",
              " 'menu',\n",
              " 'were',\n",
              " 'over',\n",
              " 'what',\n",
              " 'was',\n",
              " 'annoying',\n",
              " 'was',\n",
              " 'is',\n",
              " 'the',\n",
              " 'food',\n",
              " 'was',\n",
              " 'cold',\n",
              " 'the',\n",
              " 'taste',\n",
              " 'was',\n",
              " 'also',\n",
              " 'very',\n",
              " 'average',\n",
              " 'only',\n",
              " 'dosa',\n",
              " 'and',\n",
              " 'holige',\n",
              " 'were',\n",
              " 'good',\n",
              " 'there',\n",
              " 'were',\n",
              " 'very',\n",
              " 'few',\n",
              " 'people',\n",
              " 'in',\n",
              " 'the',\n",
              " 'restaurant',\n",
              " 'and',\n",
              " 'the',\n",
              " 'service',\n",
              " 'was',\n",
              " 'still',\n",
              " 'very',\n",
              " 'slow',\n",
              " 'the',\n",
              " 'waiters',\n",
              " 'were',\n",
              " 'all',\n",
              " 'standing',\n",
              " 'in',\n",
              " 'one',\n",
              " 'corner',\n",
              " 'and',\n",
              " 'talking',\n",
              " 'had',\n",
              " 'to',\n",
              " 'call',\n",
              " 'them',\n",
              " 'repeatedly',\n",
              " 'rated',\n",
              " 'rated',\n",
              " 'n',\n",
              " 'had',\n",
              " 'been',\n",
              " 'here',\n",
              " 'good',\n",
              " 'food',\n",
              " 'served',\n",
              " 'and',\n",
              " 'tasty',\n",
              " 'good',\n",
              " 'place',\n",
              " 'to',\n",
              " 'go',\n",
              " 'with',\n",
              " 'freinds',\n",
              " 'and',\n",
              " 'family',\n",
              " 'should',\n",
              " 'be',\n",
              " 'first',\n",
              " 'to',\n",
              " 'get',\n",
              " 'served',\n",
              " 'well',\n",
              " 'with',\n",
              " 'all',\n",
              " 'food',\n",
              " 'one',\n",
              " 'of',\n",
              " 'the',\n",
              " 'good',\n",
              " 'hotel',\n",
              " 'there',\n",
              " 'for',\n",
              " 'this',\n",
              " 'price',\n",
              " 'rated',\n",
              " 'rated',\n",
              " 'n',\n",
              " 'how',\n",
              " 'can',\n",
              " 'a',\n",
              " 'udupi',\n",
              " 'restaurant',\n",
              " 'be',\n",
              " 'so',\n",
              " 'dirty',\n",
              " 'the',\n",
              " 'floor',\n",
              " 'the',\n",
              " 'walls',\n",
              " 'the',\n",
              " 'waiters',\n",
              " 'are',\n",
              " 'all',\n",
              " 'stained',\n",
              " 'in',\n",
              " 'food',\n",
              " 'why',\n",
              " 'cant',\n",
              " 'they',\n",
              " 'clean',\n",
              " 'it',\n",
              " 'the',\n",
              " 'floor',\n",
              " 'even',\n",
              " 'had',\n",
              " 'decorative',\n",
              " 'colour',\n",
              " 'paper',\n",
              " 'every',\n",
              " 'where',\n",
              " 'and',\n",
              " 'lot',\n",
              " 'of',\n",
              " 'food',\n",
              " 'now',\n",
              " 'coming',\n",
              " 'to',\n",
              " 'the',\n",
              " 'taste',\n",
              " 'of',\n",
              " 'the',\n",
              " 'food',\n",
              " 'it',\n",
              " 'was',\n",
              " 'pretty',\n",
              " 'decent',\n",
              " 'for',\n",
              " 'what',\n",
              " 'they',\n",
              " 'chargw',\n",
              " 'what',\n",
              " 'upset',\n",
              " 'us',\n",
              " 'was',\n",
              " 'the',\n",
              " 'menu',\n",
              " 'says',\n",
              " 'they',\n",
              " 'serve',\n",
              " 'thambuli',\n",
              " 'two',\n",
              " 'variety',\n",
              " 'of',\n",
              " 'rice',\n",
              " 'etc',\n",
              " 'but',\n",
              " 'they',\n",
              " 'were',\n",
              " 'all',\n",
              " 'over',\n",
              " 'at',\n",
              " 'but',\n",
              " 'they',\n",
              " 'still',\n",
              " 'charged',\n",
              " 'us',\n",
              " 'full',\n",
              " 'amount',\n",
              " 'lastly',\n",
              " 'if',\n",
              " 'u',\n",
              " 'r',\n",
              " 'ok',\n",
              " 'to',\n",
              " 'b',\n",
              " 'seated',\n",
              " 'with',\n",
              " 'random',\n",
              " 'people',\n",
              " 'and',\n",
              " 'adjust',\n",
              " 'with',\n",
              " 'their',\n",
              " 'table',\n",
              " 'manners',\n",
              " 'burrping',\n",
              " 'etc',\n",
              " 'then',\n",
              " 'tis',\n",
              " 'place',\n",
              " 'is',\n",
              " 'decent',\n",
              " 'for',\n",
              " 'a',\n",
              " 'quick',\n",
              " 'veg',\n",
              " 'udupi',\n",
              " 'meals',\n",
              " 'rated',\n",
              " 'rated',\n",
              " 'n',\n",
              " 'aadhuri',\n",
              " 'udupi',\n",
              " 'bhojana',\n",
              " 'is',\n",
              " 'one',\n",
              " 'of',\n",
              " 'the',\n",
              " 'best',\n",
              " 'vegetarian',\n",
              " 'hotel',\n",
              " 'in',\n",
              " 'and',\n",
              " 'around',\n",
              " 'banashankari',\n",
              " 'locality',\n",
              " 'nwere',\n",
              " 'we',\n",
              " 'can',\n",
              " 'enjoy',\n",
              " 'the',\n",
              " 'authentic',\n",
              " 'south',\n",
              " 'karnataka',\n",
              " 'style',\n",
              " 'food',\n",
              " 'rated',\n",
              " 'rated',\n",
              " 'n',\n",
              " 'one',\n",
              " 'of',\n",
              " 'the',\n",
              " 'best',\n",
              " 'restaurants',\n",
              " 'for',\n",
              " 'unlimited',\n",
              " 'food',\n",
              " 'price',\n",
              " 'for',\n",
              " 'one',\n",
              " 'full',\n",
              " 'unlimited',\n",
              " 'meal',\n",
              " 'is',\n",
              " 'and',\n",
              " 'the',\n",
              " 'service',\n",
              " 'is',\n",
              " 'awesome',\n",
              " 'here',\n",
              " 'if',\n",
              " 'you',\n",
              " 'x',\n",
              " 'x',\n",
              " 'x',\n",
              " 'x',\n",
              " 'x',\n",
              " 'x',\n",
              " 'x',\n",
              " 'x',\n",
              " 're',\n",
              " 'a',\n",
              " 'costalian',\n",
              " 'you',\n",
              " 'will',\n",
              " 'love',\n",
              " 'the',\n",
              " 'food',\n",
              " 'served',\n",
              " 'here',\n",
              " 'rated',\n",
              " 'rated',\n",
              " 'n',\n",
              " 'been',\n",
              " 'here',\n",
              " 'a',\n",
              " 'couple',\n",
              " 'of',\n",
              " 'times',\n",
              " 'highly',\n",
              " 'satisfying',\n",
              " 'on',\n",
              " 'both',\n",
              " 'the',\n",
              " 'ocassions',\n",
              " 'great',\n",
              " 'food',\n",
              " 'decent',\n",
              " 'service',\n",
              " 'at',\n",
              " 'price',\n",
              " 'of',\n",
              " 'per',\n",
              " 'person',\n",
              " 'it',\n",
              " 'is',\n",
              " 'of',\n",
              " 'a',\n",
              " 'great',\n",
              " 'value',\n",
              " 'the',\n",
              " 'staff',\n",
              " 'here',\n",
              " 'serves',\n",
              " 'in',\n",
              " 'a',\n",
              " 'traditional',\n",
              " 'mysore',\n",
              " 'style',\n",
              " 'dresses',\n",
              " 'the',\n",
              " 'food',\n",
              " 'is',\n",
              " 'authentic',\n",
              " 'karnataka',\n",
              " 'meals',\n",
              " 'i',\n",
              " 'really',\n",
              " 'liked',\n",
              " 'the',\n",
              " 'pineapple',\n",
              " 'pickle',\n",
              " 'chutney',\n",
              " 'they',\n",
              " 'serve',\n",
              " 'some',\n",
              " 'varities',\n",
              " 'of',\n",
              " 'rice',\n",
              " 'of',\n",
              " 'which',\n",
              " 'you',\n",
              " 'shouldn',\n",
              " 't',\n",
              " 'try',\n",
              " 'all',\n",
              " 'as',\n",
              " 'you',\n",
              " 'would',\n",
              " 'already',\n",
              " 'be',\n",
              " 'full',\n",
              " 'roti',\n",
              " 'dosa',\n",
              " 'were',\n",
              " 'decent',\n",
              " 'in',\n",
              " 'the',\n",
              " 'deserts',\n",
              " 'payasam',\n",
              " 'holige',\n",
              " 'were',\n",
              " 'good',\n",
              " 'ni',\n",
              " 'think',\n",
              " 'it',\n",
              " 'is',\n",
              " 'one',\n",
              " 'the',\n",
              " 'must',\n",
              " 'try',\n",
              " 'places',\n",
              " 'to',\n",
              " 'try',\n",
              " 'some',\n",
              " 'authentic',\n",
              " 'south',\n",
              " 'food',\n",
              " 'even',\n",
              " 'if',\n",
              " 'you',\n",
              " 'have',\n",
              " 'been',\n",
              " 'to',\n",
              " 'the',\n",
              " 'likes',\n",
              " 'of',\n",
              " 'kamath',\n",
              " 'etc',\n",
              " 'this',\n",
              " 'one',\n",
              " 'is',\n",
              " 'a',\n",
              " 'little',\n",
              " 'different',\n",
              " 'rated',\n",
              " 'rated',\n",
              " 'n',\n",
              " 'very',\n",
              " 'good',\n",
              " 'restorent',\n",
              " 'good',\n",
              " 'south',\n",
              " 'indian',\n",
              " 'food',\n",
              " 'very',\n",
              " 'nice',\n",
              " 'all',\n",
              " 'food',\n",
              " 's',\n",
              " 'are',\n",
              " 'good',\n",
              " 'we',\n",
              " 'spent',\n",
              " 'good',\n",
              " 'time',\n",
              " 'and',\n",
              " 'food',\n",
              " 'in',\n",
              " 'this',\n",
              " 'hotel',\n",
              " 'value',\n",
              " 'of',\n",
              " 'money',\n",
              " 'we',\n",
              " 'loved',\n",
              " 'it',\n",
              " 'rated',\n",
              " 'rated',\n",
              " 'n',\n",
              " 'i',\n",
              " 'went',\n",
              " 'to',\n",
              " 'this',\n",
              " 'restaurant',\n",
              " 'on',\n",
              " 'sunday',\n",
              " 'afternoon',\n",
              " 'it',\n",
              " 'was',\n",
              " 'a',\n",
              " 'bit',\n",
              " 'crowded',\n",
              " 'n',\n",
              " 'nits',\n",
              " 'located',\n",
              " 'in',\n",
              " 'the',\n",
              " 'st',\n",
              " 'floor',\n",
              " 'above',\n",
              " 'anna',\n",
              " 'kuteera',\n",
              " 'kathriguppe',\n",
              " 'n',\n",
              " 'nyou',\n",
              " 'need',\n",
              " 'to',\n",
              " 'take',\n",
              " 'food',\n",
              " 'coupon',\n",
              " 'in',\n",
              " 'the',\n",
              " 'ground',\n",
              " 'floor',\n",
              " 'itself',\n",
              " 'nit',\n",
              " 'was',\n",
              " 'rs',\n",
              " 'n',\n",
              " 'ntaste',\n",
              " 'wise',\n",
              " 'it',\n",
              " 'was',\n",
              " 'good',\n",
              " 'nservice',\n",
              " 'was',\n",
              " 'slow',\n",
              " 'nnothing',\n",
              " 'exciting',\n",
              " 'different',\n",
              " 'in',\n",
              " 'the',\n",
              " 'menu',\n",
              " 'nwhatever',\n",
              " 'they',\n",
              " 'serve',\n",
              " 'its',\n",
              " 'good',\n",
              " 'nworth',\n",
              " 'for',\n",
              " 'money',\n",
              " 'rated',\n",
              " 'rated',\n",
              " 'n',\n",
              " 'awesome',\n",
              " 'place',\n",
              " 'worth',\n",
              " 'with',\n",
              " 'price',\n",
              " 'quality',\n",
              " 'quantity',\n",
              " 'service',\n",
              " 'hygiene',\n",
              " 'and',\n",
              " 'discipline',\n",
              " 'i',\n",
              " 'loved',\n",
              " 'it',\n",
              " 'wish',\n",
              " 'there',\n",
              " 'were',\n",
              " 'more',\n",
              " 'rating',\n",
              " 'stars',\n",
              " 'to',\n",
              " 'give',\n",
              " 'i',\n",
              " 'give',\n",
              " 'on',\n",
              " 'for',\n",
              " 'sure',\n",
              " 'rated',\n",
              " 'rated',\n",
              " 'n',\n",
              " 'nice',\n",
              " 'food',\n",
              " 'good',\n",
              " 'ambiance',\n",
              " 'so',\n",
              " 'many',\n",
              " 'verity',\n",
              " 'of',\n",
              " 'food',\n",
              " 'this',\n",
              " 'time',\n",
              " 'i',\n",
              " 'was',\n",
              " 'in',\n",
              " 'hurry',\n",
              " 'so',\n",
              " 'next',\n",
              " 'review',\n",
              " 'will',\n",
              " 'be',\n",
              " 'detailed',\n",
              " 'one',\n",
              " 'its',\n",
              " 'good',\n",
              " 'to',\n",
              " 'see',\n",
              " 'all',\n",
              " 'dishes',\n",
              " 'at',\n",
              " 'one',\n",
              " 'place',\n",
              " 'rated',\n",
              " 'rated',\n",
              " 'n',\n",
              " 'the',\n",
              " 'food',\n",
              " 'was',\n",
              " 'not',\n",
              " 'satisfactory',\n",
              " 'not',\n",
              " 'one',\n",
              " 'item',\n",
              " 'served',\n",
              " 'could',\n",
              " 'be',\n",
              " 'eaten',\n",
              " 'again',\n",
              " 'only',\n",
              " 'advantage',\n",
              " 'is',\n",
              " 'the',\n",
              " 'price',\n",
              " 'but',\n",
              " 'even',\n",
              " 'that',\n",
              " 'is',\n",
              " 'not',\n",
              " 'going',\n",
              " 'to',\n",
              " 'be',\n",
              " 'enough',\n",
              " 'to',\n",
              " 'make',\n",
              " 'me',\n",
              " 'visit',\n",
              " 'the',\n",
              " 'place',\n",
              " 'again',\n",
              " 'dear',\n",
              " 'udupi',\n",
              " 'staff',\n",
              " 'people',\n",
              " 'wouldn',\n",
              " 'x',\n",
              " 'x',\n",
              " 'x',\n",
              " 'x',\n",
              " 'x',\n",
              " 'x',\n",
              " 'x',\n",
              " 'x',\n",
              " 't',\n",
              " 'mind',\n",
              " 'if',\n",
              " 'the',\n",
              " 'food',\n",
              " 'quality',\n",
              " 'was',\n",
              " 'better',\n",
              " 'for',\n",
              " 'a',\n",
              " 'higher',\n",
              " 'price',\n",
              " 'and',\n",
              " 'please',\n",
              " 'get',\n",
              " 'more',\n",
              " 'fans',\n",
              " 'so',\n",
              " 'that',\n",
              " 'people',\n",
              " 'won',\n",
              " 'x',\n",
              " 'x',\n",
              " 'x',\n",
              " 'x',\n",
              " 'x',\n",
              " 'x',\n",
              " 'x',\n",
              " 'x',\n",
              " 't',\n",
              " 'have',\n",
              " 'to',\n",
              " 'deal',\n",
              " 'with',\n",
              " 'another',\n",
              " 'disappointment',\n",
              " 'of',\n",
              " 'sweating',\n",
              " 'while',\n",
              " 'eating',\n",
              " 'rated',\n",
              " 'rated',\n",
              " 'n',\n",
              " 'excellent',\n",
              " 'quality',\n",
              " 'and',\n",
              " 'taste',\n",
              " 'more',\n",
              " 'variety',\n",
              " 'of',\n",
              " 'authentic',\n",
              " 'south',\n",
              " 'indian',\n",
              " 'food',\n",
              " 'excellent',\n",
              " 'service',\n",
              " 'highly',\n",
              " 'recommended',\n",
              " 'worth',\n",
              " 'the',\n",
              " 'money',\n",
              " 'we',\n",
              " 'pay',\n",
              " 'here',\n",
              " 'rated',\n",
              " 'rated',\n",
              " 'n',\n",
              " 'i',\n",
              " 'm',\n",
              " 'rating',\n",
              " 'only',\n",
              " 'because',\n",
              " 'of',\n",
              " 'the',\n",
              " 'large',\n",
              " 'number',\n",
              " 'of',\n",
              " 'items',\n",
              " 'they',\n",
              " 'serve',\n",
              " 'for',\n",
              " 'the',\n",
              " 'price',\n",
              " 'they',\n",
              " 'charge',\n",
              " 'while',\n",
              " 'the',\n",
              " 'taste',\n",
              " 'is',\n",
              " 'moderate',\n",
              " 'the',\n",
              " 'biggest',\n",
              " 'turn',\n",
              " 'off',\n",
              " 'is',\n",
              " 'the',\n",
              " 'poor',\n",
              " 'service',\n",
              " 'and',\n",
              " 'totally',\n",
              " 'unresponsive',\n",
              " 'staff',\n",
              " 'they',\n",
              " 'are',\n",
              " 'either',\n",
              " 'understaffed',\n",
              " 'or',\n",
              " 'poorly',\n",
              " 'trained',\n",
              " 'i',\n",
              " 'didn',\n",
              " 't',\n",
              " 'get',\n",
              " 'to',\n",
              " 'taste',\n",
              " 'a',\n",
              " 'few',\n",
              " 'items',\n",
              " 'thanks',\n",
              " 'to',\n",
              " 'their',\n",
              " 'ever',\n",
              " 'busy',\n",
              " 'staff',\n",
              " 'and',\n",
              " 'ended',\n",
              " 'eating',\n",
              " 'what',\n",
              " 'was',\n",
              " 'served',\n",
              " 'please',\n",
              " 'learn',\n",
              " 'the',\n",
              " 'crowd',\n",
              " 'management',\n",
              " 'from',\n",
              " 'other',\n",
              " 'peers',\n",
              " 'like',\n",
              " 'maiyya',\n",
              " 'and',\n",
              " 'roti',\n",
              " 'ghar',\n",
              " 'rated',\n",
              " 'rated',\n",
              " 'n',\n",
              " 'one',\n",
              " 'of',\n",
              " 'my',\n",
              " 'colleagues',\n",
              " 'suggested',\n",
              " 'this',\n",
              " 'place',\n",
              " 'went',\n",
              " 'there',\n",
              " 'at',\n",
              " 'pm',\n",
              " 'and',\n",
              " 'place',\n",
              " 'wasnt',\n",
              " 'crowded',\n",
              " 'ambience',\n",
              " 'is',\n",
              " 'decent',\n",
              " 'and',\n",
              " 'cool',\n",
              " 'a',\n",
              " 'welcome',\n",
              " 'drink',\n",
              " 'appekai',\n",
              " 'saru',\n",
              " 'was',\n",
              " 'served',\n",
              " 'then',\n",
              " 'started',\n",
              " 'typical',\n",
              " 'baale',\n",
              " 'yele',\n",
              " 'uta',\n",
              " 'diffrerent',\n",
              " 'types',\n",
              " 'of',\n",
              " 'palya',\n",
              " 'kosambari',\n",
              " 'and',\n",
              " 'sides',\n",
              " 'then',\n",
              " 'came',\n",
              " 'masala',\n",
              " 'dosa',\n",
              " 'pulka',\n",
              " 'pulav',\n",
              " 'veg',\n",
              " 'rice',\n",
              " 'bath',\n",
              " 'masala',\n",
              " 'dosa',\n",
              " 'was',\n",
              " 'very',\n",
              " 'very',\n",
              " 'tasty',\n",
              " 'service',\n",
              " 'is',\n",
              " 'bit',\n",
              " 'fast',\n",
              " 'as',\n",
              " 'people',\n",
              " 'will',\n",
              " 'be',\n",
              " 'coming',\n",
              " 'but',\n",
              " 'they',\n",
              " 'will',\n",
              " 'make',\n",
              " 'it',\n",
              " 'slow',\n",
              " 'if',\n",
              " 'u',\n",
              " 'tell',\n",
              " 'them',\n",
              " 'to',\n",
              " 'then',\n",
              " 'comes',\n",
              " 'rice',\n",
              " 'with',\n",
              " 'sambar',\n",
              " 'rasam',\n",
              " 'daal',\n",
              " 'tambali',\n",
              " 'and',\n",
              " 'yes',\n",
              " 'dont',\n",
              " 'forget',\n",
              " 'to',\n",
              " 'eat',\n",
              " 'holige',\n",
              " 'payasam',\n",
              " 'and',\n",
              " 'icecream',\n",
              " 'service',\n",
              " 'is',\n",
              " 'very',\n",
              " 'nice',\n",
              " 'one',\n",
              " 'best',\n",
              " 'thing',\n",
              " 'is',\n",
              " 'all',\n",
              " 'of',\n",
              " 'this',\n",
              " 'comes',\n",
              " 'in',\n",
              " 'just',\n",
              " 'rs',\n",
              " 'and',\n",
              " 'its',\n",
              " 'unlimited',\n",
              " 'what',\n",
              " 'else',\n",
              " 'you',\n",
              " 'want',\n",
              " 'a',\n",
              " 'must',\n",
              " 'visit',\n",
              " 'place',\n",
              " 'for',\n",
              " 'south',\n",
              " 'indian',\n",
              " 'foodie',\n",
              " 'rated',\n",
              " 'rated',\n",
              " 'n',\n",
              " 'been',\n",
              " 'here',\n",
              " 'last',\n",
              " 'week',\n",
              " 'with',\n",
              " 'high',\n",
              " 'expectations',\n",
              " 'based',\n",
              " 'on',\n",
              " 'few',\n",
              " 'reviews',\n",
              " 'but',\n",
              " 'utterly',\n",
              " 'disappointed',\n",
              " 'with',\n",
              " 'the',\n",
              " 'food',\n",
              " 'quality',\n",
              " 'taste',\n",
              " 'i',\n",
              " 'feel',\n",
              " 'it',\n",
              " 's',\n",
              " 'an',\n",
              " 'overhyped',\n",
              " 'place',\n",
              " 'there',\n",
              " 'are',\n",
              " 'many',\n",
              " 'better',\n",
              " 'places',\n",
              " 'in',\n",
              " 'the',\n",
              " 'vicinity',\n",
              " 'for',\n",
              " 'plantain',\n",
              " 'leaf',\n",
              " 'meal',\n",
              " 'there',\n",
              " 'was',\n",
              " 'too',\n",
              " 'much',\n",
              " 'of',\n",
              " 'waiting',\n",
              " 'these',\n",
              " 'staffs',\n",
              " 'were',\n",
              " 'too',\n",
              " 'hurry',\n",
              " 'in',\n",
              " 'serving',\n",
              " 'food',\n",
              " 'asking',\n",
              " 'people',\n",
              " 'to',\n",
              " 'finish',\n",
              " 'meal',\n",
              " 'leave',\n",
              " 'quickly',\n",
              " 'i',\n",
              " 'can',\n",
              " 'understand',\n",
              " 'there',\n",
              " 'is',\n",
              " 'a',\n",
              " 'waiting',\n",
              " 'and',\n",
              " 'staffs',\n",
              " 'should',\n",
              " 'approach',\n",
              " 'in',\n",
              " 'a',\n",
              " 'positive',\n",
              " 'way',\n",
              " 'i',\n",
              " 'will',\n",
              " 'never',\n",
              " 'go',\n",
              " 'there',\n",
              " 'again',\n",
              " 'n',\n",
              " 'nbangaloreepicure',\n",
              " ...]"
            ]
          },
          "metadata": {},
          "execution_count": 49
        }
      ],
      "source": [
        "tokenizer.tokenize(quick_bites_df[\"reviews_list\"][3])"
      ]
    },
    {
      "cell_type": "code",
      "execution_count": 49,
      "id": "eaea88f9",
      "metadata": {
        "id": "eaea88f9"
      },
      "outputs": [],
      "source": []
    },
    {
      "cell_type": "code",
      "execution_count": 49,
      "id": "be9890e8",
      "metadata": {
        "id": "be9890e8"
      },
      "outputs": [],
      "source": []
    },
    {
      "cell_type": "code",
      "execution_count": 50,
      "id": "4e05c7a7",
      "metadata": {
        "id": "4e05c7a7"
      },
      "outputs": [],
      "source": [
        "reviews_tok = quick_bites_df[\"reviews_list\"].apply(tokenizer.tokenize)"
      ]
    },
    {
      "cell_type": "code",
      "execution_count": 51,
      "id": "1aef2496",
      "metadata": {
        "colab": {
          "base_uri": "https://localhost:8080/"
        },
        "id": "1aef2496",
        "outputId": "8cf65d8f-779d-4a33-d4e2-c9f057ac1090"
      },
      "outputs": [
        {
          "output_type": "execute_result",
          "data": {
            "text/plain": [
              "3        [rated, rated, n, great, food, and, proper, ka...\n",
              "23       [rated, rated, n, so, went, here, with, friend...\n",
              "26       [rated, rated, n, please, provide, some, extra...\n",
              "31       [rated, rated, n, worst, restaurant, ever, veg...\n",
              "34       [rated, rated, n, not, worth, for, the, money,...\n",
              "                               ...                        \n",
              "51641    [rated, rated, n, food, is, not, upto, the, ma...\n",
              "51642                                                   []\n",
              "51643                                                   []\n",
              "51644                                                   []\n",
              "51645    [rated, rated, n, i, was, randomly, looking, o...\n",
              "Name: reviews_list, Length: 20639, dtype: object"
            ]
          },
          "metadata": {},
          "execution_count": 51
        }
      ],
      "source": [
        "reviews_tok"
      ]
    },
    {
      "cell_type": "code",
      "execution_count": 51,
      "id": "74fa8f61",
      "metadata": {
        "id": "74fa8f61"
      },
      "outputs": [],
      "source": []
    },
    {
      "cell_type": "code",
      "execution_count": 52,
      "id": "359084a8",
      "metadata": {
        "id": "359084a8"
      },
      "outputs": [],
      "source": [
        "reviews_tokens = data[\"reviews_list\"].apply(tokenizer.tokenize)"
      ]
    },
    {
      "cell_type": "code",
      "execution_count": 53,
      "id": "0a82b12c",
      "metadata": {
        "colab": {
          "base_uri": "https://localhost:8080/"
        },
        "id": "0a82b12c",
        "outputId": "065adc1d-eb4b-4fe3-d24e-c300ccd7efe1"
      },
      "outputs": [
        {
          "output_type": "execute_result",
          "data": {
            "text/plain": [
              "0        [Rated, RATED, n, A, beautiful, place, to, din...\n",
              "1        [Rated, RATED, n, Had, been, here, for, dinner...\n",
              "2        [Rated, RATED, n, Ambience, is, not, that, goo...\n",
              "3        [Rated, RATED, n, Great, food, and, proper, Ka...\n",
              "4        [Rated, RATED, n, Very, good, restaurant, in, ...\n",
              "                               ...                        \n",
              "51712    [Rated, RATED, n, Food, and, service, are, inc...\n",
              "51713                                                   []\n",
              "51714                                                   []\n",
              "51715    [Rated, RATED, n, Nice, and, friendly, place, ...\n",
              "51716    [Rated, RATED, n, Great, ambience, looking, ni...\n",
              "Name: reviews_list, Length: 51490, dtype: object"
            ]
          },
          "metadata": {},
          "execution_count": 53
        }
      ],
      "source": [
        "reviews_tokens"
      ]
    },
    {
      "cell_type": "code",
      "execution_count": 53,
      "id": "bebb9f1d",
      "metadata": {
        "id": "bebb9f1d"
      },
      "outputs": [],
      "source": []
    },
    {
      "cell_type": "code",
      "execution_count": 53,
      "id": "cd5818ca",
      "metadata": {
        "id": "cd5818ca"
      },
      "outputs": [],
      "source": []
    },
    {
      "cell_type": "code",
      "execution_count": 53,
      "id": "4d35d390",
      "metadata": {
        "id": "4d35d390"
      },
      "outputs": [],
      "source": []
    },
    {
      "cell_type": "code",
      "execution_count": 53,
      "id": "e27708da",
      "metadata": {
        "id": "e27708da"
      },
      "outputs": [],
      "source": []
    },
    {
      "cell_type": "markdown",
      "id": "950d7ceb",
      "metadata": {
        "id": "950d7ceb"
      },
      "source": [
        "### Perform Unigram analysis & removal of stopwords"
      ]
    },
    {
      "cell_type": "code",
      "execution_count": 54,
      "id": "b95e6202",
      "metadata": {
        "id": "b95e6202"
      },
      "outputs": [],
      "source": [
        "import nltk"
      ]
    },
    {
      "cell_type": "code",
      "execution_count": 55,
      "id": "ae8abc46",
      "metadata": {
        "colab": {
          "base_uri": "https://localhost:8080/"
        },
        "id": "ae8abc46",
        "outputId": "8d47c467-4f18-424c-d5aa-8ccbd36cb51d"
      },
      "outputs": [
        {
          "output_type": "stream",
          "name": "stderr",
          "text": [
            "[nltk_data] Downloading package stopwords to /root/nltk_data...\n",
            "[nltk_data]   Unzipping corpora/stopwords.zip.\n"
          ]
        },
        {
          "output_type": "execute_result",
          "data": {
            "text/plain": [
              "True"
            ]
          },
          "metadata": {},
          "execution_count": 55
        }
      ],
      "source": [
        "nltk.download(\"stopwords\")\n",
        "\n",
        "# NEXT TYM YE SAB KRNE KI JROORT NHI H, kyuki stopwords download ho gya hai ab"
      ]
    },
    {
      "cell_type": "code",
      "execution_count": 56,
      "id": "e75fa9d7",
      "metadata": {
        "id": "e75fa9d7"
      },
      "outputs": [],
      "source": [
        "from nltk.corpus import stopwords"
      ]
    },
    {
      "cell_type": "code",
      "execution_count": 57,
      "id": "02b60861",
      "metadata": {
        "id": "02b60861"
      },
      "outputs": [],
      "source": [
        "stop = stopwords.words(\"english\")"
      ]
    },
    {
      "cell_type": "code",
      "execution_count": 58,
      "id": "ee3c00d4",
      "metadata": {
        "colab": {
          "base_uri": "https://localhost:8080/"
        },
        "id": "ee3c00d4",
        "outputId": "de8f3d15-e077-4063-fac4-4d11f33f13cb"
      },
      "outputs": [
        {
          "output_type": "stream",
          "name": "stdout",
          "text": [
            "['i', 'me', 'my', 'myself', 'we', 'our', 'ours', 'ourselves', 'you', \"you're\", \"you've\", \"you'll\", \"you'd\", 'your', 'yours', 'yourself', 'yourselves', 'he', 'him', 'his', 'himself', 'she', \"she's\", 'her', 'hers', 'herself', 'it', \"it's\", 'its', 'itself', 'they', 'them', 'their', 'theirs', 'themselves', 'what', 'which', 'who', 'whom', 'this', 'that', \"that'll\", 'these', 'those', 'am', 'is', 'are', 'was', 'were', 'be', 'been', 'being', 'have', 'has', 'had', 'having', 'do', 'does', 'did', 'doing', 'a', 'an', 'the', 'and', 'but', 'if', 'or', 'because', 'as', 'until', 'while', 'of', 'at', 'by', 'for', 'with', 'about', 'against', 'between', 'into', 'through', 'during', 'before', 'after', 'above', 'below', 'to', 'from', 'up', 'down', 'in', 'out', 'on', 'off', 'over', 'under', 'again', 'further', 'then', 'once', 'here', 'there', 'when', 'where', 'why', 'how', 'all', 'any', 'both', 'each', 'few', 'more', 'most', 'other', 'some', 'such', 'no', 'nor', 'not', 'only', 'own', 'same', 'so', 'than', 'too', 'very', 's', 't', 'can', 'will', 'just', 'don', \"don't\", 'should', \"should've\", 'now', 'd', 'll', 'm', 'o', 're', 've', 'y', 'ain', 'aren', \"aren't\", 'couldn', \"couldn't\", 'didn', \"didn't\", 'doesn', \"doesn't\", 'hadn', \"hadn't\", 'hasn', \"hasn't\", 'haven', \"haven't\", 'isn', \"isn't\", 'ma', 'mightn', \"mightn't\", 'mustn', \"mustn't\", 'needn', \"needn't\", 'shan', \"shan't\", 'shouldn', \"shouldn't\", 'wasn', \"wasn't\", 'weren', \"weren't\", 'won', \"won't\", 'wouldn', \"wouldn't\"]\n"
          ]
        }
      ],
      "source": [
        "print(stop)"
      ]
    },
    {
      "cell_type": "code",
      "execution_count": 58,
      "id": "46a8b3dd",
      "metadata": {
        "id": "46a8b3dd"
      },
      "outputs": [],
      "source": []
    },
    {
      "cell_type": "code",
      "execution_count": 59,
      "id": "413eda5e",
      "metadata": {
        "id": "413eda5e"
      },
      "outputs": [],
      "source": [
        "stop.extend([\"rated\",\"n\",\"nan\",\"x\",\"RATED\",\"Rated\"])"
      ]
    },
    {
      "cell_type": "code",
      "execution_count": 60,
      "id": "e199d599",
      "metadata": {
        "colab": {
          "base_uri": "https://localhost:8080/"
        },
        "id": "e199d599",
        "outputId": "66a725bd-e46e-4617-add8-a8066b1b1d5b"
      },
      "outputs": [
        {
          "output_type": "stream",
          "name": "stdout",
          "text": [
            "['i', 'me', 'my', 'myself', 'we', 'our', 'ours', 'ourselves', 'you', \"you're\", \"you've\", \"you'll\", \"you'd\", 'your', 'yours', 'yourself', 'yourselves', 'he', 'him', 'his', 'himself', 'she', \"she's\", 'her', 'hers', 'herself', 'it', \"it's\", 'its', 'itself', 'they', 'them', 'their', 'theirs', 'themselves', 'what', 'which', 'who', 'whom', 'this', 'that', \"that'll\", 'these', 'those', 'am', 'is', 'are', 'was', 'were', 'be', 'been', 'being', 'have', 'has', 'had', 'having', 'do', 'does', 'did', 'doing', 'a', 'an', 'the', 'and', 'but', 'if', 'or', 'because', 'as', 'until', 'while', 'of', 'at', 'by', 'for', 'with', 'about', 'against', 'between', 'into', 'through', 'during', 'before', 'after', 'above', 'below', 'to', 'from', 'up', 'down', 'in', 'out', 'on', 'off', 'over', 'under', 'again', 'further', 'then', 'once', 'here', 'there', 'when', 'where', 'why', 'how', 'all', 'any', 'both', 'each', 'few', 'more', 'most', 'other', 'some', 'such', 'no', 'nor', 'not', 'only', 'own', 'same', 'so', 'than', 'too', 'very', 's', 't', 'can', 'will', 'just', 'don', \"don't\", 'should', \"should've\", 'now', 'd', 'll', 'm', 'o', 're', 've', 'y', 'ain', 'aren', \"aren't\", 'couldn', \"couldn't\", 'didn', \"didn't\", 'doesn', \"doesn't\", 'hadn', \"hadn't\", 'hasn', \"hasn't\", 'haven', \"haven't\", 'isn', \"isn't\", 'ma', 'mightn', \"mightn't\", 'mustn', \"mustn't\", 'needn', \"needn't\", 'shan', \"shan't\", 'shouldn', \"shouldn't\", 'wasn', \"wasn't\", 'weren', \"weren't\", 'won', \"won't\", 'wouldn', \"wouldn't\", 'rated', 'n', 'nan', 'x', 'RATED', 'Rated']\n"
          ]
        }
      ],
      "source": [
        "print(stop)"
      ]
    },
    {
      "cell_type": "code",
      "execution_count": 60,
      "id": "25b0b98d",
      "metadata": {
        "id": "25b0b98d"
      },
      "outputs": [],
      "source": []
    },
    {
      "cell_type": "code",
      "execution_count": 61,
      "id": "3b490e35",
      "metadata": {
        "colab": {
          "base_uri": "https://localhost:8080/"
        },
        "id": "3b490e35",
        "outputId": "9cb6ffce-6268-4cc0-e1a9-37945e31343c"
      },
      "outputs": [
        {
          "output_type": "execute_result",
          "data": {
            "text/plain": [
              "0        [Rated, RATED, n, A, beautiful, place, to, din...\n",
              "1        [Rated, RATED, n, Had, been, here, for, dinner...\n",
              "2        [Rated, RATED, n, Ambience, is, not, that, goo...\n",
              "3        [Rated, RATED, n, Great, food, and, proper, Ka...\n",
              "4        [Rated, RATED, n, Very, good, restaurant, in, ...\n",
              "                               ...                        \n",
              "51712    [Rated, RATED, n, Food, and, service, are, inc...\n",
              "51713                                                   []\n",
              "51714                                                   []\n",
              "51715    [Rated, RATED, n, Nice, and, friendly, place, ...\n",
              "51716    [Rated, RATED, n, Great, ambience, looking, ni...\n",
              "Name: reviews_list, Length: 51490, dtype: object"
            ]
          },
          "metadata": {},
          "execution_count": 61
        }
      ],
      "source": [
        "reviews_tokens"
      ]
    },
    {
      "cell_type": "code",
      "execution_count": 61,
      "id": "c616721f",
      "metadata": {
        "id": "c616721f"
      },
      "outputs": [],
      "source": []
    },
    {
      "cell_type": "code",
      "execution_count": 62,
      "id": "609b5fba",
      "metadata": {
        "colab": {
          "base_uri": "https://localhost:8080/"
        },
        "id": "609b5fba",
        "outputId": "0c43e220-b01d-4bf7-9b84-856ba902aaa9"
      },
      "outputs": [
        {
          "output_type": "stream",
          "name": "stdout",
          "text": [
            "['Rated', 'RATED', 'n', 'Great', 'food', 'and', 'proper', 'Karnataka', 'style', 'full', 'meals', 'Been', 'there', 'twice', 'and', 'was', 'fully', 'satisfied', 'Will', 'give', 'stars', 'if', 'it', 's', 'well', 'managed', 'Rated', 'RATED', 'n', 'Reached', 'the', 'place', 'at', 'pm', 'on', 'Saturday', 'Half', 'of', 'the', 'items', 'on', 'the', 'menu', 'were', 'over', 'What', 'was', 'annoying', 'was', 'is', 'the', 'food', 'was', 'cold', 'The', 'taste', 'was', 'also', 'very', 'average', 'Only', 'dosa', 'and', 'holige', 'were', 'good', 'There', 'were', 'very', 'few', 'people', 'in', 'the', 'restaurant', 'and', 'the', 'service', 'was', 'still', 'very', 'slow', 'The', 'waiters', 'were', 'all', 'standing', 'in', 'one', 'corner', 'and', 'talking', 'Had', 'to', 'call', 'them', 'repeatedly', 'Rated', 'RATED', 'n', 'Had', 'been', 'here', 'good', 'food', 'served', 'and', 'tasty', 'good', 'place', 'to', 'go', 'with', 'freinds', 'and', 'family', 'should', 'be', 'first', 'to', 'get', 'served', 'well', 'with', 'all', 'food', 'One', 'of', 'the', 'good', 'hotel', 'there', 'for', 'this', 'price', 'Rated', 'RATED', 'n', 'How', 'can', 'a', 'Udupi', 'restaurant', 'be', 'so', 'dirty', 'the', 'floor', 'the', 'walls', 'the', 'waiters', 'are', 'all', 'stained', 'in', 'food', 'Why', 'cant', 'they', 'clean', 'it', 'The', 'floor', 'even', 'had', 'decorative', 'colour', 'paper', 'every', 'where', 'and', 'lot', 'of', 'food', 'Now', 'coming', 'to', 'the', 'taste', 'of', 'the', 'food', 'it', 'was', 'pretty', 'decent', 'for', 'what', 'they', 'chargw', 'What', 'upset', 'us', 'was', 'the', 'menu', 'says', 'they', 'serve', 'thambuli', 'two', 'variety', 'of', 'rice', 'etc', 'but', 'they', 'were', 'all', 'over', 'at', 'but', 'they', 'still', 'charged', 'us', 'full', 'amount', 'Lastly', 'if', 'u', 'r', 'ok', 'to', 'b', 'seated', 'with', 'random', 'people', 'and', 'adjust', 'with', 'their', 'table', 'manners', 'burrping', 'etc', 'then', 'tis', 'place', 'is', 'decent', 'for', 'a', 'quick', 'veg', 'udupi', 'meals', 'Rated', 'RATED', 'n', 'Aadhuri', 'Udupi', 'bhojana', 'is', 'one', 'of', 'the', 'best', 'vegetarian', 'hotel', 'in', 'and', 'around', 'Banashankari', 'locality', 'nwere', 'we', 'can', 'enjoy', 'the', 'authentic', 'south', 'Karnataka', 'style', 'food', 'Rated', 'RATED', 'n', 'One', 'of', 'the', 'best', 'restaurants', 'for', 'unlimited', 'food', 'Price', 'for', 'one', 'full', 'unlimited', 'meal', 'is', 'and', 'the', 'service', 'is', 'awesome', 'here', 'If', 'you', 'x', 'x', 'x', 'x', 'x', 'x', 'x', 'x', 're', 'a', 'costalian', 'you', 'will', 'love', 'the', 'food', 'served', 'here', 'Rated', 'RATED', 'n', 'Been', 'here', 'a', 'couple', 'of', 'times', 'Highly', 'satisfying', 'on', 'both', 'the', 'ocassions', 'Great', 'food', 'Decent', 'service', 'At', 'price', 'of', 'per', 'person', 'it', 'is', 'of', 'a', 'great', 'value', 'The', 'staff', 'here', 'serves', 'in', 'a', 'traditional', 'Mysore', 'style', 'dresses', 'The', 'food', 'is', 'authentic', 'Karnataka', 'meals', 'I', 'really', 'liked', 'the', 'pineapple', 'pickle', 'chutney', 'They', 'serve', 'some', 'varities', 'of', 'rice', 'of', 'which', 'you', 'shouldn', 't', 'try', 'all', 'as', 'you', 'would', 'already', 'be', 'full', 'Roti', 'Dosa', 'were', 'decent', 'In', 'the', 'deserts', 'Payasam', 'Holige', 'were', 'good', 'nI', 'think', 'it', 'is', 'one', 'the', 'must', 'try', 'places', 'to', 'try', 'some', 'authentic', 'south', 'food', 'even', 'if', 'you', 'have', 'been', 'to', 'the', 'likes', 'of', 'Kamath', 'etc', 'this', 'one', 'is', 'a', 'little', 'different', 'Rated', 'RATED', 'n', 'Very', 'good', 'restorent', 'good', 'south', 'Indian', 'food', 'very', 'nice', 'all', 'food', 's', 'are', 'good', 'we', 'spent', 'good', 'time', 'and', 'food', 'in', 'this', 'hotel', 'value', 'of', 'money', 'we', 'loved', 'it', 'Rated', 'RATED', 'n', 'I', 'went', 'to', 'this', 'restaurant', 'on', 'Sunday', 'afternoon', 'It', 'was', 'a', 'bit', 'crowded', 'n', 'nIts', 'located', 'in', 'the', 'st', 'floor', 'Above', 'anna', 'kuteera', 'kathriguppe', 'n', 'nYou', 'need', 'to', 'take', 'food', 'coupon', 'in', 'the', 'ground', 'floor', 'itself', 'nit', 'was', 'rs', 'n', 'nTaste', 'wise', 'it', 'was', 'good', 'nService', 'was', 'slow', 'nNothing', 'exciting', 'different', 'in', 'the', 'menu', 'nWhatever', 'they', 'serve', 'its', 'good', 'nWorth', 'for', 'money', 'Rated', 'RATED', 'n', 'Awesome', 'place', 'worth', 'with', 'price', 'quality', 'quantity', 'service', 'hygiene', 'and', 'discipline', 'I', 'loved', 'it', 'wish', 'there', 'were', 'more', 'rating', 'stars', 'to', 'give', 'I', 'give', 'on', 'for', 'sure', 'Rated', 'RATED', 'n', 'Nice', 'food', 'good', 'ambiance', 'so', 'many', 'verity', 'of', 'food', 'this', 'time', 'i', 'was', 'in', 'hurry', 'so', 'next', 'review', 'will', 'be', 'detailed', 'one', 'Its', 'good', 'to', 'see', 'all', 'dishes', 'at', 'one', 'place', 'Rated', 'RATED', 'n', 'The', 'food', 'was', 'not', 'satisfactory', 'Not', 'one', 'item', 'served', 'could', 'be', 'eaten', 'again', 'Only', 'advantage', 'is', 'the', 'price', 'but', 'even', 'that', 'is', 'not', 'going', 'to', 'be', 'enough', 'to', 'make', 'me', 'visit', 'the', 'place', 'again', 'Dear', 'Udupi', 'staff', 'people', 'wouldn', 'x', 'x', 'x', 'x', 'x', 'x', 'x', 'x', 't', 'mind', 'if', 'the', 'food', 'quality', 'was', 'better', 'for', 'a', 'higher', 'price', 'and', 'please', 'get', 'more', 'fans', 'so', 'that', 'people', 'won', 'x', 'x', 'x', 'x', 'x', 'x', 'x', 'x', 't', 'have', 'to', 'deal', 'with', 'another', 'disappointment', 'of', 'sweating', 'while', 'eating', 'Rated', 'RATED', 'n', 'Excellent', 'quality', 'and', 'taste', 'more', 'variety', 'of', 'authentic', 'south', 'Indian', 'food', 'Excellent', 'service', 'Highly', 'recommended', 'Worth', 'the', 'money', 'we', 'pay', 'here', 'Rated', 'RATED', 'n', 'I', 'm', 'rating', 'only', 'because', 'of', 'the', 'large', 'number', 'of', 'items', 'they', 'serve', 'for', 'the', 'price', 'they', 'charge', 'While', 'the', 'taste', 'is', 'moderate', 'the', 'biggest', 'turn', 'off', 'is', 'the', 'poor', 'service', 'and', 'totally', 'unresponsive', 'staff', 'They', 'are', 'either', 'understaffed', 'or', 'poorly', 'trained', 'I', 'didn', 't', 'get', 'to', 'taste', 'a', 'few', 'items', 'thanks', 'to', 'their', 'ever', 'busy', 'staff', 'and', 'ended', 'eating', 'what', 'was', 'served', 'Please', 'learn', 'the', 'crowd', 'management', 'from', 'other', 'peers', 'like', 'maiyya', 'and', 'roti', 'ghar', 'Rated', 'RATED', 'n', 'One', 'of', 'my', 'colleagues', 'suggested', 'this', 'place', 'Went', 'there', 'at', 'pm', 'and', 'place', 'wasnt', 'crowded', 'Ambience', 'is', 'decent', 'and', 'cool', 'A', 'welcome', 'drink', 'appekai', 'saru', 'was', 'served', 'Then', 'started', 'typical', 'baale', 'yele', 'uta', 'Diffrerent', 'types', 'of', 'palya', 'kosambari', 'and', 'sides', 'Then', 'came', 'masala', 'dosa', 'pulka', 'pulav', 'veg', 'rice', 'bath', 'Masala', 'dosa', 'was', 'very', 'very', 'tasty', 'Service', 'is', 'bit', 'fast', 'as', 'people', 'will', 'be', 'coming', 'but', 'they', 'will', 'make', 'it', 'slow', 'if', 'u', 'tell', 'them', 'to', 'Then', 'comes', 'rice', 'with', 'sambar', 'rasam', 'daal', 'tambali', 'And', 'yes', 'dont', 'forget', 'to', 'eat', 'holige', 'payasam', 'and', 'icecream', 'Service', 'is', 'very', 'nice', 'One', 'best', 'thing', 'is', 'all', 'of', 'this', 'comes', 'in', 'just', 'rs', 'and', 'its', 'unlimited', 'What', 'else', 'you', 'want', 'A', 'must', 'visit', 'place', 'for', 'south', 'indian', 'foodie', 'Rated', 'RATED', 'n', 'Been', 'here', 'last', 'week', 'with', 'high', 'expectations', 'based', 'on', 'few', 'reviews', 'But', 'utterly', 'disappointed', 'with', 'the', 'food', 'quality', 'taste', 'I', 'feel', 'it', 's', 'an', 'overhyped', 'place', 'There', 'are', 'many', 'better', 'places', 'in', 'the', 'vicinity', 'for', 'Plantain', 'leaf', 'meal', 'There', 'was', 'too', 'much', 'of', 'waiting', 'these', 'staffs', 'were', 'too', 'hurry', 'in', 'serving', 'food', 'asking', 'people', 'to', 'finish', 'meal', 'leave', 'quickly', 'I', 'can', 'understand', 'there', 'is', 'a', 'waiting', 'and', 'staffs', 'should', 'approach', 'in', 'a', 'positive', 'way', 'I', 'will', 'never', 'go', 'there', 'again', 'n', 'nbangaloreepicure', 'com', 'Rated', 'RATED', 'n', 'I', 'have', 'a', 'confession', 'being', 'a', 'south', 'Indian', 'I', 'distaste', 'south', 'Indian', 'food', 'not', 'that', 'I', 'hate', 'it', 'I', 'don', 't', 'like', 'it', 'either', 'But', 'still', 'made', 'up', 'my', 'mind', 'on', 'Sankaranti', 'to', 'have', 'authentic', 'south', 'Indian', 'food', 'visited', 'Adduri', 'Udupi', 'Bhojana', 'because', 'it', 'was', 'close', 'to', 'my', 'place', 'I', 'just', 'had', 'a', 'look', 'at', 'the', 'menu', 'told', 'myself', 'that', 'I', 'can', 'do', 'it', 'I', 'am', 'not', 'blessed', 'with', 'a', 'tremendous', 'appetite', 'welcomed', 'with', 'the', 'mango', 'soup', 'followed', 'by', 'the', 'wide', 'variety', 'of', 'dishes', 'served', 'I', 'have', 'developed', 'the', 'new', 'love', 'for', 'Pongal', 'both', 'sweet', 'and', 'Khara', 'I', 'can', 'still', 'feel', 'the', 'taste', 'of', 'the', 'ghee', 'bursting', 'in', 'my', 'mouth', 'but', 'it', 'was', 'kai', 'holige', 'that', 'made', 'my', 'day', 'crisp', 'and', 'soft', 'not', 'to', 'forget', 'food', 'is', 'served', 'on', 'a', 'banana', 'leaf', 'that', 'adds', 'in', 'more', 'flavor', 'and', 'taste', 'waiters', 'are', 'attentive', 'and', 'responsive', 'The', 'customer', 's', 'needs', 'are', 'monitored', 'and', 'addressed', 'so', 'much', 'variety', 'for', 'just', 'Rs', 'without', 'compromising', 'on', 'quantity', 'and', 'quality', 'and', 'yes', 'it', 'is', 'unlimited', 'This', 'visit', 'turned', 'out', 'to', 'be', 'a', 'surprise', 'package', 'Rated', 'RATED', 'n', 'Food', 'is', 'good', 'nNo', 'parking', 'nAmbience', 'is', 'average', 'nOverall', 'its', 'value', 'for', 'money', 'if', 'you', 'looking', 'for', 'south', 'Indian', 'food', 'nPreferred', 'the', 'tiffin', 'items', 'Rated', 'RATED', 'n', 'Been', 'here', 'last', 'week', 'with', 'high', 'expectations', 'based', 'on', 'few', 'reviews', 'But', 'utterly', 'disappointed', 'with', 'the', 'food', 'quality', 'taste', 'I', 'feel', 'it', 's', 'an', 'overhyped', 'place', 'There', 'are', 'many', 'better', 'places', 'in', 'the', 'vicinity', 'for', 'Plantain', 'leaf', 'meal', 'There', 'was', 'too', 'much', 'of', 'waiting', 'these', 'staffs', 'were', 'too', 'hurry', 'in', 'serving', 'food', 'asking', 'people', 'to', 'finish', 'meal', 'leave', 'quickly', 'I', 'can', 'understand', 'there', 'is', 'a', 'waiting', 'and', 'staffs', 'should', 'approach', 'in', 'a', 'positive', 'way', 'I', 'will', 'never', 'go', 'there', 'again', 'n', 'nbangaloreepicure', 'com', 'Rated', 'RATED', 'n', 'I', 'have', 'a', 'confession', 'being', 'a', 'south', 'Indian', 'I', 'distaste', 'south', 'Indian', 'food', 'not', 'that', 'I', 'hate', 'it', 'I', 'don', 't', 'like', 'it', 'either', 'But', 'still', 'made', 'up', 'my', 'mind', 'on', 'Sankaranti', 'to', 'have', 'authentic', 'south', 'Indian', 'food', 'visited', 'Adduri', 'Udupi', 'Bhojana', 'because', 'it', 'was', 'close', 'to', 'my', 'place', 'I', 'just', 'had', 'a', 'look', 'at', 'the', 'menu', 'told', 'myself', 'that', 'I', 'can', 'do', 'it', 'I', 'am', 'not', 'blessed', 'with', 'a', 'tremendous', 'appetite', 'welcomed', 'with', 'the', 'mango', 'soup', 'followed', 'by', 'the', 'wide', 'variety', 'of', 'dishes', 'served', 'I', 'have', 'developed', 'the', 'new', 'love', 'for', 'Pongal', 'both', 'sweet', 'and', 'Khara', 'I', 'can', 'still', 'feel', 'the', 'taste', 'of', 'the', 'ghee', 'bursting', 'in', 'my', 'mouth', 'but', 'it', 'was', 'kai', 'holige', 'that', 'made', 'my', 'day', 'crisp', 'and', 'soft', 'not', 'to', 'forget', 'food', 'is', 'served', 'on', 'a', 'banana', 'leaf', 'that', 'adds', 'in', 'more', 'flavor', 'and', 'taste', 'waiters', 'are', 'attentive', 'and', 'responsive', 'The', 'customer', 's', 'needs', 'are', 'monitored', 'and', 'addressed', 'so', 'much', 'variety', 'for', 'just', 'Rs', 'without', 'compromising', 'on', 'quantity', 'and', 'quality', 'and', 'yes', 'it', 'is', 'unlimited', 'This', 'visit', 'turned', 'out', 'to', 'be', 'a', 'surprise', 'package', 'Rated', 'RATED', 'n', 'Food', 'is', 'good', 'nNo', 'parking', 'nAmbience', 'is', 'average', 'nOverall', 'its', 'value', 'for', 'money', 'if', 'you', 'looking', 'for', 'south', 'Indian', 'food', 'nPreferred', 'the', 'tiffin', 'items', 'Rated', 'RATED', 'n', 'Been', 'here', 'last', 'week', 'with', 'high', 'expectations', 'based', 'on', 'few', 'reviews', 'But', 'utterly', 'disappointed', 'with', 'the', 'food', 'quality', 'taste', 'I', 'feel', 'it', 's', 'an', 'overhyped', 'place', 'There', 'are', 'many', 'better', 'places', 'in', 'the', 'vicinity', 'for', 'Plantain', 'leaf', 'meal', 'There', 'was', 'too', 'much', 'of', 'waiting', 'these', 'staffs', 'were', 'too', 'hurry', 'in', 'serving', 'food', 'asking', 'people', 'to', 'finish', 'meal', 'leave', 'quickly', 'I', 'can', 'understand', 'there', 'is', 'a', 'waiting', 'and', 'staffs', 'should', 'approach', 'in', 'a', 'positive', 'way', 'I', 'will', 'never', 'go', 'there', 'again', 'n', 'nbangaloreepicure', 'com', 'Rated', 'RATED', 'n', 'I', 'have', 'a', 'confession', 'being', 'a', 'south', 'Indian', 'I', 'distaste', 'south', 'Indian', 'food', 'not', 'that', 'I', 'hate', 'it', 'I', 'don', 't', 'like', 'it', 'either', 'But', 'still', 'made', 'up', 'my', 'mind', 'on', 'Sankaranti', 'to', 'have', 'authentic', 'south', 'Indian', 'food', 'visited', 'Adduri', 'Udupi', 'Bhojana', 'because', 'it', 'was', 'close', 'to', 'my', 'place', 'I', 'just', 'had', 'a', 'look', 'at', 'the', 'menu', 'told', 'myself', 'that', 'I', 'can', 'do', 'it', 'I', 'am', 'not', 'blessed', 'with', 'a', 'tremendous', 'appetite', 'welcomed', 'with', 'the', 'mango', 'soup', 'followed', 'by', 'the', 'wide', 'variety', 'of', 'dishes', 'served', 'I', 'have', 'developed', 'the', 'new', 'love', 'for', 'Pongal', 'both', 'sweet', 'and', 'Khara', 'I', 'can', 'still', 'feel', 'the', 'taste', 'of', 'the', 'ghee', 'bursting', 'in', 'my', 'mouth', 'but', 'it', 'was', 'kai', 'holige', 'that', 'made', 'my', 'day', 'crisp', 'and', 'soft', 'not', 'to', 'forget', 'food', 'is', 'served', 'on', 'a', 'banana', 'leaf', 'that', 'adds', 'in', 'more', 'flavor', 'and', 'taste', 'waiters', 'are', 'attentive', 'and', 'responsive', 'The', 'customer', 's', 'needs', 'are', 'monitored', 'and', 'addressed', 'so', 'much', 'variety', 'for', 'just', 'Rs', 'without', 'compromising', 'on', 'quantity', 'and', 'quality', 'and', 'yes', 'it', 'is', 'unlimited', 'This', 'visit', 'turned', 'out', 'to', 'be', 'a', 'surprise', 'package', 'Rated', 'RATED', 'n', 'Food', 'is', 'good', 'nNo', 'parking', 'nAmbience', 'is', 'average', 'nOverall', 'its', 'value', 'for', 'money', 'if', 'you', 'looking', 'for', 'south', 'Indian', 'food', 'nPreferred', 'the', 'tiffin', 'items', 'Rated', 'RATED', 'n', 'Been', 'here', 'last', 'week', 'with', 'high', 'expectations', 'based', 'on', 'few', 'reviews', 'But', 'utterly', 'disappointed', 'with', 'the', 'food', 'quality', 'taste', 'I', 'feel', 'it', 's', 'an', 'overhyped', 'place', 'There', 'are', 'many', 'better', 'places', 'in', 'the', 'vicinity', 'for', 'Plantain', 'leaf', 'meal', 'There', 'was', 'too', 'much', 'of', 'waiting', 'these', 'staffs', 'were', 'too', 'hurry', 'in', 'serving', 'food', 'asking', 'people', 'to', 'finish', 'meal', 'leave', 'quickly', 'I', 'can', 'understand', 'there', 'is', 'a', 'waiting', 'and', 'staffs', 'should', 'approach', 'in', 'a', 'positive', 'way', 'I', 'will', 'never', 'go', 'there', 'again', 'n', 'nbangaloreepicure', 'com', 'Rated', 'RATED', 'n', 'I', 'have', 'a', 'confession', 'being', 'a', 'south', 'Indian', 'I', 'distaste', 'south', 'Indian', 'food', 'not', 'that', 'I', 'hate', 'it', 'I', 'don', 't', 'like', 'it', 'either', 'But', 'still', 'made', 'up', 'my', 'mind', 'on', 'Sankaranti', 'to', 'have', 'authentic', 'south', 'Indian', 'food', 'visited', 'Adduri', 'Udupi', 'Bhojana', 'because', 'it', 'was', 'close', 'to', 'my', 'place', 'I', 'just', 'had', 'a', 'look', 'at', 'the', 'menu', 'told', 'myself', 'that', 'I', 'can', 'do', 'it', 'I', 'am', 'not', 'blessed', 'with', 'a', 'tremendous', 'appetite', 'welcomed', 'with', 'the', 'mango', 'soup', 'followed', 'by', 'the', 'wide', 'variety', 'of', 'dishes', 'served', 'I', 'have', 'developed', 'the', 'new', 'love', 'for', 'Pongal', 'both', 'sweet', 'and', 'Khara', 'I', 'can', 'still', 'feel', 'the', 'taste', 'of', 'the', 'ghee', 'bursting', 'in', 'my', 'mouth', 'but', 'it', 'was', 'kai', 'holige', 'that', 'made', 'my', 'day', 'crisp', 'and', 'soft', 'not', 'to', 'forget', 'food', 'is', 'served', 'on', 'a', 'banana', 'leaf', 'that', 'adds', 'in', 'more', 'flavor', 'and', 'taste', 'waiters', 'are', 'attentive', 'and', 'responsive', 'The', 'customer', 's', 'needs', 'are', 'monitored', 'and', 'addressed', 'so', 'much', 'variety', 'for', 'just', 'Rs', 'without', 'compromising', 'on', 'quantity', 'and', 'quality', 'and', 'yes', 'it', 'is', 'unlimited', 'This', 'visit', 'turned', 'out', 'to', 'be', 'a', 'surprise', 'package', 'Rated', 'RATED', 'n', 'Food', 'is', 'good', 'nNo', 'parking', 'nAmbience', 'is', 'average', 'nOverall', 'its', 'value', 'for', 'money', 'if', 'you', 'looking', 'for', 'south', 'Indian', 'food', 'nPreferred', 'the', 'tiffin', 'items', 'Rated', 'RATED', 'n', 'Been', 'here', 'last', 'week', 'with', 'high', 'expectations', 'based', 'on', 'few', 'reviews', 'But', 'utterly', 'disappointed', 'with', 'the', 'food', 'quality', 'taste', 'I', 'feel', 'it', 's', 'an', 'overhyped', 'place', 'There', 'are', 'many', 'better', 'places', 'in', 'the', 'vicinity', 'for', 'Plantain', 'leaf', 'meal', 'There', 'was', 'too', 'much', 'of', 'waiting', 'these', 'staffs', 'were', 'too', 'hurry', 'in', 'serving', 'food', 'asking', 'people', 'to', 'finish', 'meal', 'leave', 'quickly', 'I', 'can', 'understand', 'there', 'is', 'a', 'waiting', 'and', 'staffs', 'should', 'approach', 'in', 'a', 'positive', 'way', 'I', 'will', 'never', 'go', 'there', 'again', 'n', 'nbangaloreepicure', 'com', 'Rated', 'RATED', 'n', 'I', 'have', 'a', 'confession', 'being', 'a', 'south', 'Indian', 'I', 'distaste', 'south', 'Indian', 'food', 'not', 'that', 'I', 'hate', 'it', 'I', 'don', 't', 'like', 'it', 'either', 'But', 'still', 'made', 'up', 'my', 'mind', 'on', 'Sankaranti', 'to', 'have', 'authentic', 'south', 'Indian', 'food', 'visited', 'Adduri', 'Udupi', 'Bhojana', 'because', 'it', 'was', 'close', 'to', 'my', 'place', 'I', 'just', 'had', 'a', 'look', 'at', 'the', 'menu', 'told', 'myself', 'that', 'I', 'can', 'do', 'it', 'I', 'am', 'not', 'blessed', 'with', 'a', 'tremendous', 'appetite', 'welcomed', 'with', 'the', 'mango', 'soup', 'followed', 'by', 'the', 'wide', 'variety', 'of', 'dishes', 'served', 'I', 'have', 'developed', 'the', 'new', 'love', 'for', 'Pongal', 'both', 'sweet', 'and', 'Khara', 'I', 'can', 'still', 'feel', 'the', 'taste', 'of', 'the', 'ghee', 'bursting', 'in', 'my', 'mouth', 'but', 'it', 'was', 'kai', 'holige', 'that', 'made', 'my', 'day', 'crisp', 'and', 'soft', 'not', 'to', 'forget', 'food', 'is', 'served', 'on', 'a', 'banana', 'leaf', 'that', 'adds', 'in', 'more', 'flavor', 'and', 'taste', 'waiters', 'are', 'attentive', 'and', 'responsive', 'The', 'customer', 's', 'needs', 'are', 'monitored', 'and', 'addressed', 'so', 'much', 'variety', 'for', 'just', 'Rs', 'without', 'compromising', 'on', 'quantity', 'and', 'quality', 'and', 'yes', 'it', 'is', 'unlimited', 'This', 'visit', 'turned', 'out', 'to', 'be', 'a', 'surprise', 'package', 'Rated', 'RATED', 'n', 'Food', 'is', 'good', 'nNo', 'parking', 'nAmbience', 'is', 'average', 'nOverall', 'its', 'value', 'for', 'money', 'if', 'you', 'looking', 'for', 'south', 'Indian', 'food', 'nPreferred', 'the', 'tiffin', 'items', 'Rated', 'RATED', 'n', 'Had', 'been', 'on', 'a', 'week', 'night', 'for', 'an', 'authentic', 'south', 'Indian', 'food', 'I', 'personally', 'love', 'being', 'served', 'on', 'banyan', 'leaf', 'The', 'waiters', 'are', 'all', 'dressed', 'up', 'in', 'traditional', 'Mysore', 'attire', 'wearing', 'with', 'a', 'peta', 'The', 'food', 'was', 'delicious', 'and', 'definitely', 'worth', 'it', 's', 'price', 'The', 'waiters', 'are', 'friendly', 'and', 'serve', 'u', 'well', 'with', 'a', 'smile', 'The', 'food', 'is', 'prepared', 'without', 'garlic', 'which', 'is', 'a', 'plus', 'point', 'attracting', 'many', 'senior', 'customers', 'Rated', 'RATED', 'n', 'Food', 'is', 'good', 'and', 'enjoyed', 'With', 'Rs', 'is', 'very', 'nice', 'nNote', 'It', 'happen', 'with', 'us', 'n', 'If', 'you', 'going', 'TWO', 'people', 'you', 'may', 'need', 'to', 'share', 'the', 'table', 'there', 'Its', 'almost', 'crowed', 'n', 'You', 'have', 'to', 'sit', 'where', 'they', 'ask', 'you', 'can', 't', 'choose', 'even', 'if', 'all', 'the', 'table', 'are', 'empty', 'nJust', 'wait', 'eat', 'and', 'come', 'back', 'Rated', 'RATED', 'n', 'Excellent', 'Ambience', 'with', 'delicious', 'meals', 'with', 'variety', 'types', 'Worth', 'paying', 'for', 'money', 'and', 'you', 'can', 'dine', 'out', 'if', 'you', 'are', 'with', 'more', 'friends', 'relatives', 'in', 'home', 'Rated', 'RATED', 'n', 'Very', 'good', 'and', 'Unlimited', 'especially', 'masala', 'dosa', 'Service', 'and', 'ambience', 'was', 'also', 'good', 'will', 'visit', 'again', 'with', 'friends', 'very', 'very', 'reasonble', 'and', 'wholesome', 'food', 'Rated', 'RATED', 'n', 'Aaaa', 'wt', 'to', 'tell', 'Unlimited', 'food', 'food', 'was', 'like', 'exactly', 'like', 'south', 'indian', 'marriage', 'food', 'soups', 'sides', 'masala', 'dosa', 'all', 'were', 'unlimited', 'for', 'just', 'except', 'ice', 'cream', 'in', 'the', 'end', 'they', 'give', 'a', 'water', 'bottle', 'and', 'main', 'thing', 'is', 'have', 'patience', 'to', 'get', 'place', 'to', 'sit', 'there', 'is', 'no', 'parking', 'place', 'of', 'this', 'outlet', 'and', 'difficult', 'to', 'park', 'in', 'front', 'of', 'the', 'restaurants']\n"
          ]
        }
      ],
      "source": [
        "rev3 = reviews_tokens[3]\n",
        "print(rev3)"
      ]
    },
    {
      "cell_type": "code",
      "execution_count": 62,
      "id": "ca0248b7",
      "metadata": {
        "id": "ca0248b7"
      },
      "outputs": [],
      "source": []
    },
    {
      "cell_type": "code",
      "execution_count": 63,
      "id": "e55333ee",
      "metadata": {
        "colab": {
          "base_uri": "https://localhost:8080/"
        },
        "id": "e55333ee",
        "outputId": "c6cf4a7f-6628-47d8-e78f-461c474e7f51"
      },
      "outputs": [
        {
          "output_type": "stream",
          "name": "stdout",
          "text": [
            "['Great', 'food', 'proper', 'Karnataka', 'style', 'full', 'meals', 'Been', 'twice', 'fully', 'satisfied', 'Will', 'give', 'stars', 'well', 'managed', 'Reached', 'place', 'pm', 'Saturday', 'Half', 'items', 'menu', 'What', 'annoying', 'food', 'cold', 'The', 'taste', 'also', 'average', 'Only', 'dosa', 'holige', 'good', 'There', 'people', 'restaurant', 'service', 'still', 'slow', 'The', 'waiters', 'standing', 'one', 'corner', 'talking', 'Had', 'call', 'repeatedly', 'Had', 'good', 'food', 'served', 'tasty', 'good', 'place', 'go', 'freinds', 'family', 'first', 'get', 'served', 'well', 'food', 'One', 'good', 'hotel', 'price', 'How', 'Udupi', 'restaurant', 'dirty', 'floor', 'walls', 'waiters', 'stained', 'food', 'Why', 'cant', 'clean', 'The', 'floor', 'even', 'decorative', 'colour', 'paper', 'every', 'lot', 'food', 'Now', 'coming', 'taste', 'food', 'pretty', 'decent', 'chargw', 'What', 'upset', 'us', 'menu', 'says', 'serve', 'thambuli', 'two', 'variety', 'rice', 'etc', 'still', 'charged', 'us', 'full', 'amount', 'Lastly', 'u', 'r', 'ok', 'b', 'seated', 'random', 'people', 'adjust', 'table', 'manners', 'burrping', 'etc', 'tis', 'place', 'decent', 'quick', 'veg', 'udupi', 'meals', 'Aadhuri', 'Udupi', 'bhojana', 'one', 'best', 'vegetarian', 'hotel', 'around', 'Banashankari', 'locality', 'nwere', 'enjoy', 'authentic', 'south', 'Karnataka', 'style', 'food', 'One', 'best', 'restaurants', 'unlimited', 'food', 'Price', 'one', 'full', 'unlimited', 'meal', 'service', 'awesome', 'If', 'costalian', 'love', 'food', 'served', 'Been', 'couple', 'times', 'Highly', 'satisfying', 'ocassions', 'Great', 'food', 'Decent', 'service', 'At', 'price', 'per', 'person', 'great', 'value', 'The', 'staff', 'serves', 'traditional', 'Mysore', 'style', 'dresses', 'The', 'food', 'authentic', 'Karnataka', 'meals', 'I', 'really', 'liked', 'pineapple', 'pickle', 'chutney', 'They', 'serve', 'varities', 'rice', 'try', 'would', 'already', 'full', 'Roti', 'Dosa', 'decent', 'In', 'deserts', 'Payasam', 'Holige', 'good', 'nI', 'think', 'one', 'must', 'try', 'places', 'try', 'authentic', 'south', 'food', 'even', 'likes', 'Kamath', 'etc', 'one', 'little', 'different', 'Very', 'good', 'restorent', 'good', 'south', 'Indian', 'food', 'nice', 'food', 'good', 'spent', 'good', 'time', 'food', 'hotel', 'value', 'money', 'loved', 'I', 'went', 'restaurant', 'Sunday', 'afternoon', 'It', 'bit', 'crowded', 'nIts', 'located', 'st', 'floor', 'Above', 'anna', 'kuteera', 'kathriguppe', 'nYou', 'need', 'take', 'food', 'coupon', 'ground', 'floor', 'nit', 'rs', 'nTaste', 'wise', 'good', 'nService', 'slow', 'nNothing', 'exciting', 'different', 'menu', 'nWhatever', 'serve', 'good', 'nWorth', 'money', 'Awesome', 'place', 'worth', 'price', 'quality', 'quantity', 'service', 'hygiene', 'discipline', 'I', 'loved', 'wish', 'rating', 'stars', 'give', 'I', 'give', 'sure', 'Nice', 'food', 'good', 'ambiance', 'many', 'verity', 'food', 'time', 'hurry', 'next', 'review', 'detailed', 'one', 'Its', 'good', 'see', 'dishes', 'one', 'place', 'The', 'food', 'satisfactory', 'Not', 'one', 'item', 'served', 'could', 'eaten', 'Only', 'advantage', 'price', 'even', 'going', 'enough', 'make', 'visit', 'place', 'Dear', 'Udupi', 'staff', 'people', 'mind', 'food', 'quality', 'better', 'higher', 'price', 'please', 'get', 'fans', 'people', 'deal', 'another', 'disappointment', 'sweating', 'eating', 'Excellent', 'quality', 'taste', 'variety', 'authentic', 'south', 'Indian', 'food', 'Excellent', 'service', 'Highly', 'recommended', 'Worth', 'money', 'pay', 'I', 'rating', 'large', 'number', 'items', 'serve', 'price', 'charge', 'While', 'taste', 'moderate', 'biggest', 'turn', 'poor', 'service', 'totally', 'unresponsive', 'staff', 'They', 'either', 'understaffed', 'poorly', 'trained', 'I', 'get', 'taste', 'items', 'thanks', 'ever', 'busy', 'staff', 'ended', 'eating', 'served', 'Please', 'learn', 'crowd', 'management', 'peers', 'like', 'maiyya', 'roti', 'ghar', 'One', 'colleagues', 'suggested', 'place', 'Went', 'pm', 'place', 'wasnt', 'crowded', 'Ambience', 'decent', 'cool', 'A', 'welcome', 'drink', 'appekai', 'saru', 'served', 'Then', 'started', 'typical', 'baale', 'yele', 'uta', 'Diffrerent', 'types', 'palya', 'kosambari', 'sides', 'Then', 'came', 'masala', 'dosa', 'pulka', 'pulav', 'veg', 'rice', 'bath', 'Masala', 'dosa', 'tasty', 'Service', 'bit', 'fast', 'people', 'coming', 'make', 'slow', 'u', 'tell', 'Then', 'comes', 'rice', 'sambar', 'rasam', 'daal', 'tambali', 'And', 'yes', 'dont', 'forget', 'eat', 'holige', 'payasam', 'icecream', 'Service', 'nice', 'One', 'best', 'thing', 'comes', 'rs', 'unlimited', 'What', 'else', 'want', 'A', 'must', 'visit', 'place', 'south', 'indian', 'foodie', 'Been', 'last', 'week', 'high', 'expectations', 'based', 'reviews', 'But', 'utterly', 'disappointed', 'food', 'quality', 'taste', 'I', 'feel', 'overhyped', 'place', 'There', 'many', 'better', 'places', 'vicinity', 'Plantain', 'leaf', 'meal', 'There', 'much', 'waiting', 'staffs', 'hurry', 'serving', 'food', 'asking', 'people', 'finish', 'meal', 'leave', 'quickly', 'I', 'understand', 'waiting', 'staffs', 'approach', 'positive', 'way', 'I', 'never', 'go', 'nbangaloreepicure', 'com', 'I', 'confession', 'south', 'Indian', 'I', 'distaste', 'south', 'Indian', 'food', 'I', 'hate', 'I', 'like', 'either', 'But', 'still', 'made', 'mind', 'Sankaranti', 'authentic', 'south', 'Indian', 'food', 'visited', 'Adduri', 'Udupi', 'Bhojana', 'close', 'place', 'I', 'look', 'menu', 'told', 'I', 'I', 'blessed', 'tremendous', 'appetite', 'welcomed', 'mango', 'soup', 'followed', 'wide', 'variety', 'dishes', 'served', 'I', 'developed', 'new', 'love', 'Pongal', 'sweet', 'Khara', 'I', 'still', 'feel', 'taste', 'ghee', 'bursting', 'mouth', 'kai', 'holige', 'made', 'day', 'crisp', 'soft', 'forget', 'food', 'served', 'banana', 'leaf', 'adds', 'flavor', 'taste', 'waiters', 'attentive', 'responsive', 'The', 'customer', 'needs', 'monitored', 'addressed', 'much', 'variety', 'Rs', 'without', 'compromising', 'quantity', 'quality', 'yes', 'unlimited', 'This', 'visit', 'turned', 'surprise', 'package', 'Food', 'good', 'nNo', 'parking', 'nAmbience', 'average', 'nOverall', 'value', 'money', 'looking', 'south', 'Indian', 'food', 'nPreferred', 'tiffin', 'items', 'Been', 'last', 'week', 'high', 'expectations', 'based', 'reviews', 'But', 'utterly', 'disappointed', 'food', 'quality', 'taste', 'I', 'feel', 'overhyped', 'place', 'There', 'many', 'better', 'places', 'vicinity', 'Plantain', 'leaf', 'meal', 'There', 'much', 'waiting', 'staffs', 'hurry', 'serving', 'food', 'asking', 'people', 'finish', 'meal', 'leave', 'quickly', 'I', 'understand', 'waiting', 'staffs', 'approach', 'positive', 'way', 'I', 'never', 'go', 'nbangaloreepicure', 'com', 'I', 'confession', 'south', 'Indian', 'I', 'distaste', 'south', 'Indian', 'food', 'I', 'hate', 'I', 'like', 'either', 'But', 'still', 'made', 'mind', 'Sankaranti', 'authentic', 'south', 'Indian', 'food', 'visited', 'Adduri', 'Udupi', 'Bhojana', 'close', 'place', 'I', 'look', 'menu', 'told', 'I', 'I', 'blessed', 'tremendous', 'appetite', 'welcomed', 'mango', 'soup', 'followed', 'wide', 'variety', 'dishes', 'served', 'I', 'developed', 'new', 'love', 'Pongal', 'sweet', 'Khara', 'I', 'still', 'feel', 'taste', 'ghee', 'bursting', 'mouth', 'kai', 'holige', 'made', 'day', 'crisp', 'soft', 'forget', 'food', 'served', 'banana', 'leaf', 'adds', 'flavor', 'taste', 'waiters', 'attentive', 'responsive', 'The', 'customer', 'needs', 'monitored', 'addressed', 'much', 'variety', 'Rs', 'without', 'compromising', 'quantity', 'quality', 'yes', 'unlimited', 'This', 'visit', 'turned', 'surprise', 'package', 'Food', 'good', 'nNo', 'parking', 'nAmbience', 'average', 'nOverall', 'value', 'money', 'looking', 'south', 'Indian', 'food', 'nPreferred', 'tiffin', 'items', 'Been', 'last', 'week', 'high', 'expectations', 'based', 'reviews', 'But', 'utterly', 'disappointed', 'food', 'quality', 'taste', 'I', 'feel', 'overhyped', 'place', 'There', 'many', 'better', 'places', 'vicinity', 'Plantain', 'leaf', 'meal', 'There', 'much', 'waiting', 'staffs', 'hurry', 'serving', 'food', 'asking', 'people', 'finish', 'meal', 'leave', 'quickly', 'I', 'understand', 'waiting', 'staffs', 'approach', 'positive', 'way', 'I', 'never', 'go', 'nbangaloreepicure', 'com', 'I', 'confession', 'south', 'Indian', 'I', 'distaste', 'south', 'Indian', 'food', 'I', 'hate', 'I', 'like', 'either', 'But', 'still', 'made', 'mind', 'Sankaranti', 'authentic', 'south', 'Indian', 'food', 'visited', 'Adduri', 'Udupi', 'Bhojana', 'close', 'place', 'I', 'look', 'menu', 'told', 'I', 'I', 'blessed', 'tremendous', 'appetite', 'welcomed', 'mango', 'soup', 'followed', 'wide', 'variety', 'dishes', 'served', 'I', 'developed', 'new', 'love', 'Pongal', 'sweet', 'Khara', 'I', 'still', 'feel', 'taste', 'ghee', 'bursting', 'mouth', 'kai', 'holige', 'made', 'day', 'crisp', 'soft', 'forget', 'food', 'served', 'banana', 'leaf', 'adds', 'flavor', 'taste', 'waiters', 'attentive', 'responsive', 'The', 'customer', 'needs', 'monitored', 'addressed', 'much', 'variety', 'Rs', 'without', 'compromising', 'quantity', 'quality', 'yes', 'unlimited', 'This', 'visit', 'turned', 'surprise', 'package', 'Food', 'good', 'nNo', 'parking', 'nAmbience', 'average', 'nOverall', 'value', 'money', 'looking', 'south', 'Indian', 'food', 'nPreferred', 'tiffin', 'items', 'Been', 'last', 'week', 'high', 'expectations', 'based', 'reviews', 'But', 'utterly', 'disappointed', 'food', 'quality', 'taste', 'I', 'feel', 'overhyped', 'place', 'There', 'many', 'better', 'places', 'vicinity', 'Plantain', 'leaf', 'meal', 'There', 'much', 'waiting', 'staffs', 'hurry', 'serving', 'food', 'asking', 'people', 'finish', 'meal', 'leave', 'quickly', 'I', 'understand', 'waiting', 'staffs', 'approach', 'positive', 'way', 'I', 'never', 'go', 'nbangaloreepicure', 'com', 'I', 'confession', 'south', 'Indian', 'I', 'distaste', 'south', 'Indian', 'food', 'I', 'hate', 'I', 'like', 'either', 'But', 'still', 'made', 'mind', 'Sankaranti', 'authentic', 'south', 'Indian', 'food', 'visited', 'Adduri', 'Udupi', 'Bhojana', 'close', 'place', 'I', 'look', 'menu', 'told', 'I', 'I', 'blessed', 'tremendous', 'appetite', 'welcomed', 'mango', 'soup', 'followed', 'wide', 'variety', 'dishes', 'served', 'I', 'developed', 'new', 'love', 'Pongal', 'sweet', 'Khara', 'I', 'still', 'feel', 'taste', 'ghee', 'bursting', 'mouth', 'kai', 'holige', 'made', 'day', 'crisp', 'soft', 'forget', 'food', 'served', 'banana', 'leaf', 'adds', 'flavor', 'taste', 'waiters', 'attentive', 'responsive', 'The', 'customer', 'needs', 'monitored', 'addressed', 'much', 'variety', 'Rs', 'without', 'compromising', 'quantity', 'quality', 'yes', 'unlimited', 'This', 'visit', 'turned', 'surprise', 'package', 'Food', 'good', 'nNo', 'parking', 'nAmbience', 'average', 'nOverall', 'value', 'money', 'looking', 'south', 'Indian', 'food', 'nPreferred', 'tiffin', 'items', 'Been', 'last', 'week', 'high', 'expectations', 'based', 'reviews', 'But', 'utterly', 'disappointed', 'food', 'quality', 'taste', 'I', 'feel', 'overhyped', 'place', 'There', 'many', 'better', 'places', 'vicinity', 'Plantain', 'leaf', 'meal', 'There', 'much', 'waiting', 'staffs', 'hurry', 'serving', 'food', 'asking', 'people', 'finish', 'meal', 'leave', 'quickly', 'I', 'understand', 'waiting', 'staffs', 'approach', 'positive', 'way', 'I', 'never', 'go', 'nbangaloreepicure', 'com', 'I', 'confession', 'south', 'Indian', 'I', 'distaste', 'south', 'Indian', 'food', 'I', 'hate', 'I', 'like', 'either', 'But', 'still', 'made', 'mind', 'Sankaranti', 'authentic', 'south', 'Indian', 'food', 'visited', 'Adduri', 'Udupi', 'Bhojana', 'close', 'place', 'I', 'look', 'menu', 'told', 'I', 'I', 'blessed', 'tremendous', 'appetite', 'welcomed', 'mango', 'soup', 'followed', 'wide', 'variety', 'dishes', 'served', 'I', 'developed', 'new', 'love', 'Pongal', 'sweet', 'Khara', 'I', 'still', 'feel', 'taste', 'ghee', 'bursting', 'mouth', 'kai', 'holige', 'made', 'day', 'crisp', 'soft', 'forget', 'food', 'served', 'banana', 'leaf', 'adds', 'flavor', 'taste', 'waiters', 'attentive', 'responsive', 'The', 'customer', 'needs', 'monitored', 'addressed', 'much', 'variety', 'Rs', 'without', 'compromising', 'quantity', 'quality', 'yes', 'unlimited', 'This', 'visit', 'turned', 'surprise', 'package', 'Food', 'good', 'nNo', 'parking', 'nAmbience', 'average', 'nOverall', 'value', 'money', 'looking', 'south', 'Indian', 'food', 'nPreferred', 'tiffin', 'items', 'Had', 'week', 'night', 'authentic', 'south', 'Indian', 'food', 'I', 'personally', 'love', 'served', 'banyan', 'leaf', 'The', 'waiters', 'dressed', 'traditional', 'Mysore', 'attire', 'wearing', 'peta', 'The', 'food', 'delicious', 'definitely', 'worth', 'price', 'The', 'waiters', 'friendly', 'serve', 'u', 'well', 'smile', 'The', 'food', 'prepared', 'without', 'garlic', 'plus', 'point', 'attracting', 'many', 'senior', 'customers', 'Food', 'good', 'enjoyed', 'With', 'Rs', 'nice', 'nNote', 'It', 'happen', 'us', 'If', 'going', 'TWO', 'people', 'may', 'need', 'share', 'table', 'Its', 'almost', 'crowed', 'You', 'sit', 'ask', 'choose', 'even', 'table', 'empty', 'nJust', 'wait', 'eat', 'come', 'back', 'Excellent', 'Ambience', 'delicious', 'meals', 'variety', 'types', 'Worth', 'paying', 'money', 'dine', 'friends', 'relatives', 'home', 'Very', 'good', 'Unlimited', 'especially', 'masala', 'dosa', 'Service', 'ambience', 'also', 'good', 'visit', 'friends', 'reasonble', 'wholesome', 'food', 'Aaaa', 'wt', 'tell', 'Unlimited', 'food', 'food', 'like', 'exactly', 'like', 'south', 'indian', 'marriage', 'food', 'soups', 'sides', 'masala', 'dosa', 'unlimited', 'except', 'ice', 'cream', 'end', 'give', 'water', 'bottle', 'main', 'thing', 'patience', 'get', 'place', 'sit', 'parking', 'place', 'outlet', 'difficult', 'park', 'front', 'restaurants']\n"
          ]
        }
      ],
      "source": [
        "print([token for token in rev3 if token not in stop])"
      ]
    },
    {
      "cell_type": "code",
      "execution_count": 63,
      "id": "9fda98f7",
      "metadata": {
        "id": "9fda98f7"
      },
      "outputs": [],
      "source": []
    },
    {
      "cell_type": "code",
      "execution_count": 63,
      "id": "e29802d2",
      "metadata": {
        "id": "e29802d2"
      },
      "outputs": [],
      "source": []
    },
    {
      "cell_type": "code",
      "execution_count": 63,
      "id": "29f919dc",
      "metadata": {
        "id": "29f919dc"
      },
      "outputs": [],
      "source": []
    },
    {
      "cell_type": "code",
      "execution_count": 64,
      "id": "e847aa8f",
      "metadata": {
        "id": "e847aa8f"
      },
      "outputs": [],
      "source": [
        "reviews_tokens_clean = reviews_tokens.apply(lambda each_review: [token for token in each_review if token not in stop])"
      ]
    },
    {
      "cell_type": "code",
      "execution_count": 65,
      "id": "1cc99cde",
      "metadata": {
        "colab": {
          "base_uri": "https://localhost:8080/"
        },
        "id": "1cc99cde",
        "outputId": "5fc286d8-e12f-4c2c-cb63-b2e2953b7412"
      },
      "outputs": [
        {
          "output_type": "execute_result",
          "data": {
            "text/plain": [
              "0        [A, beautiful, place, dine, The, interiors, ta...\n",
              "1        [Had, dinner, family, Turned, good, choose, su...\n",
              "2        [Ambience, good, enough, pocket, friendly, caf...\n",
              "3        [Great, food, proper, Karnataka, style, full, ...\n",
              "4        [Very, good, restaurant, neighbourhood, Buffet...\n",
              "                               ...                        \n",
              "51712    [Food, service, incomparably, excellent, The, ...\n",
              "51713                                                   []\n",
              "51714                                                   []\n",
              "51715    [Nice, friendly, place, staff, awesome, Ansur,...\n",
              "51716    [Great, ambience, looking, nice, good, selecti...\n",
              "Name: reviews_list, Length: 51490, dtype: object"
            ]
          },
          "metadata": {},
          "execution_count": 65
        }
      ],
      "source": [
        "reviews_tokens_clean"
      ]
    },
    {
      "cell_type": "code",
      "execution_count": 66,
      "id": "7a6ed801",
      "metadata": {
        "colab": {
          "base_uri": "https://localhost:8080/"
        },
        "id": "7a6ed801",
        "outputId": "f7bb7600-6663-43b7-bdf0-65150df4cf06"
      },
      "outputs": [
        {
          "output_type": "execute_result",
          "data": {
            "text/plain": [
              "pandas.core.series.Series"
            ]
          },
          "metadata": {},
          "execution_count": 66
        }
      ],
      "source": [
        "type(reviews_tokens_clean)"
      ]
    },
    {
      "cell_type": "code",
      "execution_count": 66,
      "id": "f37e3973",
      "metadata": {
        "id": "f37e3973"
      },
      "outputs": [],
      "source": []
    },
    {
      "cell_type": "code",
      "execution_count": 67,
      "id": "af725352",
      "metadata": {
        "id": "af725352"
      },
      "outputs": [],
      "source": [
        "total_reviews_2D = list(reviews_tokens_clean)"
      ]
    },
    {
      "cell_type": "code",
      "execution_count": 68,
      "id": "c43bebf0",
      "metadata": {
        "id": "c43bebf0"
      },
      "outputs": [],
      "source": [
        "total_reviews_1D = []\n",
        "\n",
        "for review in total_reviews_2D:\n",
        "    for word in review:\n",
        "        total_reviews_1D.append(word)"
      ]
    },
    {
      "cell_type": "code",
      "execution_count": 69,
      "id": "bc9adf1d",
      "metadata": {
        "colab": {
          "base_uri": "https://localhost:8080/"
        },
        "id": "bc9adf1d",
        "outputId": "f41f8fbd-4139-4ebb-b59d-33a320b048a9"
      },
      "outputs": [
        {
          "output_type": "execute_result",
          "data": {
            "text/plain": [
              "['A',\n",
              " 'beautiful',\n",
              " 'place',\n",
              " 'dine',\n",
              " 'The',\n",
              " 'interiors',\n",
              " 'take',\n",
              " 'back',\n",
              " 'Mughal',\n",
              " 'era',\n",
              " 'The',\n",
              " 'lightings',\n",
              " 'perfect',\n",
              " 'We',\n",
              " 'went',\n",
              " 'occasion',\n",
              " 'Christmas',\n",
              " 'limited',\n",
              " 'items',\n",
              " 'available',\n",
              " 'But',\n",
              " 'taste',\n",
              " 'service',\n",
              " 'compromised',\n",
              " 'The',\n",
              " 'complaint',\n",
              " 'breads',\n",
              " 'could',\n",
              " 'better',\n",
              " 'Would',\n",
              " 'surely',\n",
              " 'like',\n",
              " 'come',\n",
              " 'I',\n",
              " 'dinner',\n",
              " 'family',\n",
              " 'weekday',\n",
              " 'The',\n",
              " 'restaurant',\n",
              " 'completely',\n",
              " 'empty',\n",
              " 'Ambience',\n",
              " 'good',\n",
              " 'good',\n",
              " 'old',\n",
              " 'hindi',\n",
              " 'music',\n",
              " 'Seating',\n",
              " 'arrangement',\n",
              " 'good',\n",
              " 'We',\n",
              " 'ordered',\n",
              " 'masala',\n",
              " 'papad',\n",
              " 'panner',\n",
              " 'baby',\n",
              " 'corn',\n",
              " 'starters',\n",
              " 'lemon',\n",
              " 'corrionder',\n",
              " 'soup',\n",
              " 'butter',\n",
              " 'roti',\n",
              " 'olive',\n",
              " 'chilli',\n",
              " 'paratha',\n",
              " 'Food',\n",
              " 'fresh',\n",
              " 'good',\n",
              " 'service',\n",
              " 'good',\n",
              " 'Good',\n",
              " 'family',\n",
              " 'hangout',\n",
              " 'nCheers',\n",
              " 'Its',\n",
              " 'restaurant',\n",
              " 'near',\n",
              " 'Banashankari',\n",
              " 'BDA',\n",
              " 'Me',\n",
              " 'along',\n",
              " 'office',\n",
              " 'friends',\n",
              " 'visited',\n",
              " 'buffet',\n",
              " 'unfortunately',\n",
              " 'provide',\n",
              " 'veg',\n",
              " 'buffet',\n",
              " 'On',\n",
              " 'inquiring',\n",
              " 'said',\n",
              " 'place',\n",
              " 'mostly',\n",
              " 'visited',\n",
              " 'vegetarians',\n",
              " 'Anyways',\n",
              " 'ordered',\n",
              " 'ala',\n",
              " 'carte',\n",
              " 'items',\n",
              " 'took',\n",
              " 'ages',\n",
              " 'come',\n",
              " 'Food',\n",
              " 'ok',\n",
              " 'ok',\n",
              " 'Definitely',\n",
              " 'visiting',\n",
              " 'anymore',\n",
              " 'We',\n",
              " 'went',\n",
              " 'weekend',\n",
              " 'one',\n",
              " 'us',\n",
              " 'buffet',\n",
              " 'two',\n",
              " 'us',\n",
              " 'took',\n",
              " 'Ala',\n",
              " 'Carte',\n",
              " 'Firstly',\n",
              " 'ambience',\n",
              " 'service',\n",
              " 'place',\n",
              " 'great',\n",
              " 'The',\n",
              " 'buffet',\n",
              " 'lot',\n",
              " 'items',\n",
              " 'good',\n",
              " 'good',\n",
              " 'We',\n",
              " 'Pumpkin',\n",
              " 'Halwa',\n",
              " 'intm',\n",
              " 'dessert',\n",
              " 'amazing',\n",
              " 'Must',\n",
              " 'try',\n",
              " 'The',\n",
              " 'kulchas',\n",
              " 'great',\n",
              " 'Cheers',\n",
              " 'The',\n",
              " 'best',\n",
              " 'thing',\n",
              " 'place',\n",
              " 'ambiance',\n",
              " 'Second',\n",
              " 'best',\n",
              " 'thing',\n",
              " 'yummy',\n",
              " 'food',\n",
              " 'We',\n",
              " 'try',\n",
              " 'buffet',\n",
              " 'buffet',\n",
              " 'food',\n",
              " 'disappointed',\n",
              " 'us',\n",
              " 'nTest',\n",
              " 'nQuality',\n",
              " 'nService',\n",
              " 'Staff',\n",
              " 'professional',\n",
              " 'friendly',\n",
              " 'nOverall',\n",
              " 'experience',\n",
              " 'excellent',\n",
              " 'nsubirmajumder',\n",
              " 'wixsite',\n",
              " 'com',\n",
              " 'Great',\n",
              " 'food',\n",
              " 'pleasant',\n",
              " 'ambience',\n",
              " 'Expensive',\n",
              " 'Coll',\n",
              " 'place',\n",
              " 'chill',\n",
              " 'relax',\n",
              " 'nService',\n",
              " 'really',\n",
              " 'good',\n",
              " 'friendly',\n",
              " 'staff',\n",
              " 'nFood',\n",
              " 'nService',\n",
              " 'nAmbience',\n",
              " 'nOverall',\n",
              " 'Good',\n",
              " 'ambience',\n",
              " 'tasty',\n",
              " 'food',\n",
              " 'nCheese',\n",
              " 'chilli',\n",
              " 'paratha',\n",
              " 'Bhutta',\n",
              " 'palak',\n",
              " 'methi',\n",
              " 'curry',\n",
              " 'good',\n",
              " 'combo',\n",
              " 'nLemon',\n",
              " 'Chicken',\n",
              " 'starters',\n",
              " 'must',\n",
              " 'try',\n",
              " 'item',\n",
              " 'nEgg',\n",
              " 'fried',\n",
              " 'rice',\n",
              " 'also',\n",
              " 'quite',\n",
              " 'tasty',\n",
              " 'nIn',\n",
              " 'mocktails',\n",
              " 'recommend',\n",
              " 'Alice',\n",
              " 'Junoon',\n",
              " 'Do',\n",
              " 'miss',\n",
              " 'You',\n",
              " 'go',\n",
              " 'wrong',\n",
              " 'Jalsa',\n",
              " 'Never',\n",
              " 'fan',\n",
              " 'buffet',\n",
              " 'thus',\n",
              " 'always',\n",
              " 'order',\n",
              " 'alacarte',\n",
              " 'Service',\n",
              " 'times',\n",
              " 'slower',\n",
              " 'side',\n",
              " 'food',\n",
              " 'worth',\n",
              " 'wait',\n",
              " 'Overdelighted',\n",
              " 'service',\n",
              " 'food',\n",
              " 'provided',\n",
              " 'place',\n",
              " 'A',\n",
              " 'royal',\n",
              " 'ethnic',\n",
              " 'atmosphere',\n",
              " 'builds',\n",
              " 'strong',\n",
              " 'essence',\n",
              " 'India',\n",
              " 'also',\n",
              " 'quality',\n",
              " 'taste',\n",
              " 'food',\n",
              " 'truly',\n",
              " 'authentic',\n",
              " 'I',\n",
              " 'would',\n",
              " 'totally',\n",
              " 'recommend',\n",
              " 'visit',\n",
              " 'place',\n",
              " 'The',\n",
              " 'place',\n",
              " 'nice',\n",
              " 'comfortable',\n",
              " 'Food',\n",
              " 'wise',\n",
              " 'jalea',\n",
              " 'outlets',\n",
              " 'maintain',\n",
              " 'good',\n",
              " 'standard',\n",
              " 'The',\n",
              " 'soya',\n",
              " 'chaap',\n",
              " 'standout',\n",
              " 'dish',\n",
              " 'Clearly',\n",
              " 'one',\n",
              " 'trademark',\n",
              " 'dish',\n",
              " 'per',\n",
              " 'must',\n",
              " 'try',\n",
              " 'nThe',\n",
              " 'concern',\n",
              " 'parking',\n",
              " 'It',\n",
              " 'congested',\n",
              " 'limited',\n",
              " 'cars',\n",
              " 'The',\n",
              " 'basement',\n",
              " 'parking',\n",
              " 'steep',\n",
              " 'makes',\n",
              " 'cumbersome',\n",
              " 'The',\n",
              " 'place',\n",
              " 'nice',\n",
              " 'comfortable',\n",
              " 'Food',\n",
              " 'wise',\n",
              " 'jalea',\n",
              " 'outlets',\n",
              " 'maintain',\n",
              " 'good',\n",
              " 'standard',\n",
              " 'The',\n",
              " 'soya',\n",
              " 'chaap',\n",
              " 'standout',\n",
              " 'dish',\n",
              " 'Clearly',\n",
              " 'one',\n",
              " 'trademark',\n",
              " 'dish',\n",
              " 'per',\n",
              " 'must',\n",
              " 'try',\n",
              " 'nThe',\n",
              " 'concern',\n",
              " 'parking',\n",
              " 'It',\n",
              " 'congested',\n",
              " 'limited',\n",
              " 'cars',\n",
              " 'The',\n",
              " 'basement',\n",
              " 'parking',\n",
              " 'steep',\n",
              " 'makes',\n",
              " 'cumbersome',\n",
              " 'The',\n",
              " 'place',\n",
              " 'nice',\n",
              " 'comfortable',\n",
              " 'Food',\n",
              " 'wise',\n",
              " 'jalea',\n",
              " 'outlets',\n",
              " 'maintain',\n",
              " 'good',\n",
              " 'standard',\n",
              " 'The',\n",
              " 'soya',\n",
              " 'chaap',\n",
              " 'standout',\n",
              " 'dish',\n",
              " 'Clearly',\n",
              " 'one',\n",
              " 'trademark',\n",
              " 'dish',\n",
              " 'per',\n",
              " 'must',\n",
              " 'try',\n",
              " 'nThe',\n",
              " 'concern',\n",
              " 'parking',\n",
              " 'It',\n",
              " 'congested',\n",
              " 'limited',\n",
              " 'cars',\n",
              " 'The',\n",
              " 'basement',\n",
              " 'parking',\n",
              " 'steep',\n",
              " 'makes',\n",
              " 'cumbersome',\n",
              " 'Had',\n",
              " 'dinner',\n",
              " 'family',\n",
              " 'Turned',\n",
              " 'good',\n",
              " 'choose',\n",
              " 'suitable',\n",
              " 'ages',\n",
              " 'people',\n",
              " 'Can',\n",
              " 'try',\n",
              " 'place',\n",
              " 'We',\n",
              " 'liked',\n",
              " 'starters',\n",
              " 'Service',\n",
              " 'good',\n",
              " 'Prices',\n",
              " 'affordable',\n",
              " 'Will',\n",
              " 'recommend',\n",
              " 'restaurant',\n",
              " 'early',\n",
              " 'dinner',\n",
              " 'The',\n",
              " 'place',\n",
              " 'little',\n",
              " 'noisy',\n",
              " 'The',\n",
              " 'ambience',\n",
              " 'really',\n",
              " 'nice',\n",
              " 'staff',\n",
              " 'courteous',\n",
              " 'The',\n",
              " 'price',\n",
              " 'pretty',\n",
              " 'high',\n",
              " 'quantity',\n",
              " 'overall',\n",
              " 'experience',\n",
              " 'fine',\n",
              " 'The',\n",
              " 'quality',\n",
              " 'food',\n",
              " 'nice',\n",
              " 'nothing',\n",
              " 'extraordinary',\n",
              " 'They',\n",
              " 'also',\n",
              " 'buffet',\n",
              " 'veg',\n",
              " 'I',\n",
              " 'felt',\n",
              " 'good',\n",
              " 'little',\n",
              " 'expensive',\n",
              " 'quantity',\n",
              " 'serve',\n",
              " 'In',\n",
              " 'terms',\n",
              " 'taste',\n",
              " 'decent',\n",
              " 'There',\n",
              " 'nothing',\n",
              " 'much',\n",
              " 'talk',\n",
              " 'ambience',\n",
              " 'regular',\n",
              " 'casual',\n",
              " 'dining',\n",
              " 'restaurant',\n",
              " 'take',\n",
              " 'family',\n",
              " 'dinner',\n",
              " 'lunch',\n",
              " 'If',\n",
              " 'improve',\n",
              " 'quantity',\n",
              " 'may',\n",
              " 'reduce',\n",
              " 'price',\n",
              " 'bit',\n",
              " 'may',\n",
              " 'improve',\n",
              " 'presentation',\n",
              " 'food',\n",
              " 'might',\n",
              " 'Manage',\n",
              " 'get',\n",
              " 'repeat',\n",
              " 'customers',\n",
              " 'I',\n",
              " 'looking',\n",
              " 'quite',\n",
              " 'place',\n",
              " 'spend',\n",
              " 'time',\n",
              " 'family',\n",
              " 'well',\n",
              " 'wanted',\n",
              " 'try',\n",
              " 'new',\n",
              " 'place',\n",
              " 'Since',\n",
              " 'I',\n",
              " 'Banashankari',\n",
              " 'I',\n",
              " 'thought',\n",
              " 'trying',\n",
              " 'place',\n",
              " 'The',\n",
              " 'place',\n",
              " 'good',\n",
              " 'rating',\n",
              " 'part',\n",
              " 'Zomato',\n",
              " 'gold',\n",
              " 'So',\n",
              " 'I',\n",
              " 'decided',\n",
              " 'try',\n",
              " 'place',\n",
              " 'It',\n",
              " 'delite',\n",
              " 'see',\n",
              " 'friendly',\n",
              " 'staff',\n",
              " 'food',\n",
              " 'ordered',\n",
              " 'tasty',\n",
              " 'well',\n",
              " 'nFood',\n",
              " 'nAmbience',\n",
              " 'nFriendly',\n",
              " 'staff',\n",
              " 'nPocket',\n",
              " 'friendly',\n",
              " 'nWill',\n",
              " 'definitely',\n",
              " 'visit',\n",
              " 'Nice',\n",
              " 'place',\n",
              " 'dine',\n",
              " 'good',\n",
              " 'ambiance',\n",
              " 'Food',\n",
              " 'good',\n",
              " 'serving',\n",
              " 'time',\n",
              " 'also',\n",
              " 'good',\n",
              " 'neat',\n",
              " 'restrooms',\n",
              " 'arranged',\n",
              " 'tables',\n",
              " 'thing',\n",
              " 'went',\n",
              " 'lunch',\n",
              " 'noticed',\n",
              " 'kept',\n",
              " 'playing',\n",
              " 'one',\n",
              " 'music',\n",
              " 'back',\n",
              " 'back',\n",
              " 'little',\n",
              " 'annoying',\n",
              " 'Chicken',\n",
              " 'biriyani',\n",
              " 'good',\n",
              " 'chicken',\n",
              " 'fresh',\n",
              " 'tender',\n",
              " 'rice',\n",
              " 'well',\n",
              " 'cooked',\n",
              " 'overall',\n",
              " 'great',\n",
              " 'Mutton',\n",
              " 'biriyani',\n",
              " 'good',\n",
              " 'tasty',\n",
              " 'It',\n",
              " 'plenty',\n",
              " 'mutton',\n",
              " 'pieces',\n",
              " 'This',\n",
              " 'place',\n",
              " 'cool',\n",
              " 'good',\n",
              " 'ambience',\n",
              " 'slow',\n",
              " 'music',\n",
              " 'delicious',\n",
              " 'food',\n",
              " 'find',\n",
              " 'peace',\n",
              " 'Staff',\n",
              " 'friendly',\n",
              " 'maintained',\n",
              " 'place',\n",
              " 'clean',\n",
              " 'The',\n",
              " 'price',\n",
              " 'average',\n",
              " 'quantity',\n",
              " 'food',\n",
              " 'serve',\n",
              " 'nThom',\n",
              " 'yum',\n",
              " 'Thai',\n",
              " 'soup',\n",
              " 'best',\n",
              " 'treat',\n",
              " 'mouth',\n",
              " 'roti',\n",
              " 'soft',\n",
              " 'vilaythi',\n",
              " 'paneer',\n",
              " 'perfect',\n",
              " 'veggie',\n",
              " 'foodies',\n",
              " 'rice',\n",
              " 'tried',\n",
              " 'burnt',\n",
              " 'garlic',\n",
              " 'fried',\n",
              " 'rice',\n",
              " 'vegetables',\n",
              " 'perfect',\n",
              " 'thing',\n",
              " 'end',\n",
              " 'Quiet',\n",
              " 'good',\n",
              " 'family',\n",
              " 'type',\n",
              " 'place',\n",
              " 'calm',\n",
              " 'usually',\n",
              " 'find',\n",
              " 'crowd',\n",
              " 'panner',\n",
              " 'curry',\n",
              " 'deserts',\n",
              " 'tasted',\n",
              " 'wer',\n",
              " 'really',\n",
              " 'good',\n",
              " 'found',\n",
              " 'little',\n",
              " 'expensive',\n",
              " 'I',\n",
              " 'bad',\n",
              " 'experience',\n",
              " 'nI',\n",
              " 'know',\n",
              " 'la',\n",
              " 'carte',\n",
              " 'buffet',\n",
              " 'worst',\n",
              " 'They',\n",
              " 'gave',\n",
              " 'us',\n",
              " 'complementary',\n",
              " 'drink',\n",
              " 'momos',\n",
              " 'buffet',\n",
              " 'The',\n",
              " 'momos',\n",
              " 'really',\n",
              " 'good',\n",
              " 'nThe',\n",
              " 'number',\n",
              " 'varieties',\n",
              " 'first',\n",
              " 'disappointing',\n",
              " 'The',\n",
              " 'service',\n",
              " 'slow',\n",
              " 'They',\n",
              " 'refilled',\n",
              " 'food',\n",
              " 'slowly',\n",
              " 'The',\n",
              " 'starters',\n",
              " 'okay',\n",
              " 'The',\n",
              " 'main',\n",
              " 'course',\n",
              " 'also',\n",
              " 'There',\n",
              " 'two',\n",
              " 'gravies',\n",
              " 'roti',\n",
              " 'rice',\n",
              " 'raitha',\n",
              " 'They',\n",
              " 'chats',\n",
              " 'sev',\n",
              " 'puri',\n",
              " 'pan',\n",
              " 'puri',\n",
              " 'average',\n",
              " 'But',\n",
              " 'desert',\n",
              " 'disappointing',\n",
              " 'They',\n",
              " 'gulab',\n",
              " 'Jamun',\n",
              " 'chocolate',\n",
              " 'cake',\n",
              " 'The',\n",
              " 'jamun',\n",
              " 'cooked',\n",
              " 'inside',\n",
              " 'There',\n",
              " 'cold',\n",
              " 'blob',\n",
              " 'raw',\n",
              " 'dough',\n",
              " 'inside',\n",
              " 'The',\n",
              " 'chocolate',\n",
              " 'cake',\n",
              " 'also',\n",
              " 'really',\n",
              " 'hard',\n",
              " 'good',\n",
              " 'nOverall',\n",
              " 'buffet',\n",
              " 'bad',\n",
              " 'experience',\n",
              " 'Food',\n",
              " 'nAmbience',\n",
              " 'nStaff',\n",
              " 'nOne',\n",
              " 'good',\n",
              " 'places',\n",
              " 'try',\n",
              " 'north',\n",
              " 'Indian',\n",
              " 'food',\n",
              " 'depends',\n",
              " 'ur',\n",
              " 'taste',\n",
              " 'buds',\n",
              " 'Not',\n",
              " 'everyone',\n",
              " 'like',\n",
              " 'items',\n",
              " 'Specially',\n",
              " 'u',\n",
              " 'r',\n",
              " 'particular',\n",
              " 'abt',\n",
              " 'sweet',\n",
              " 'spicy',\n",
              " 'food',\n",
              " 'nThere',\n",
              " 'buffet',\n",
              " 'available',\n",
              " 'nWe',\n",
              " 'ordered',\n",
              " 'paneer',\n",
              " 'uttar',\n",
              " 'dakshin',\n",
              " 'paneer',\n",
              " 'kurchan',\n",
              " 'amazing',\n",
              " 'The',\n",
              " 'Gobi',\n",
              " 'hara',\n",
              " 'pyaz',\n",
              " 'mix',\n",
              " 'veg',\n",
              " 'average',\n",
              " 'A',\n",
              " 'decent',\n",
              " 'place',\n",
              " 'family',\n",
              " 'lunch',\n",
              " 'dinner',\n",
              " 'well',\n",
              " 'arranged',\n",
              " 'simple',\n",
              " 'manner',\n",
              " 'Food',\n",
              " 'tasty',\n",
              " 'crew',\n",
              " 'helpful',\n",
              " 'understanding',\n",
              " 'Great',\n",
              " 'place',\n",
              " 'heavy',\n",
              " 'lunch',\n",
              " 'Good',\n",
              " 'service',\n",
              " 'nThe',\n",
              " 'chicken',\n",
              " 'biryani',\n",
              " 'undoubtedly',\n",
              " 'one',\n",
              " 'best',\n",
              " 'I',\n",
              " 'Biriyani',\n",
              " 'Lassi',\n",
              " 'would',\n",
              " 'suggested',\n",
              " 'combo',\n",
              " 'Buffet',\n",
              " 'talk',\n",
              " 'place',\n",
              " 'try',\n",
              " 'according',\n",
              " 'appetite',\n",
              " 'A',\n",
              " 'nice',\n",
              " 'place',\n",
              " 'Its',\n",
              " 'one',\n",
              " 'restaurant',\n",
              " 'near',\n",
              " 'katriguppe',\n",
              " 'found',\n",
              " 'really',\n",
              " 'good',\n",
              " 'Good',\n",
              " 'variety',\n",
              " 'Chinese',\n",
              " 'thai',\n",
              " 'dishes',\n",
              " 'Service',\n",
              " 'good',\n",
              " 'good',\n",
              " 'place',\n",
              " 'hangout',\n",
              " 'family',\n",
              " 'peaceful',\n",
              " 'place',\n",
              " 'noise',\n",
              " 'really',\n",
              " 'less',\n",
              " 'good',\n",
              " 'view',\n",
              " 'Spice',\n",
              " 'elephant',\n",
              " 'soup',\n",
              " 'SPL',\n",
              " 'almost',\n",
              " 'manchow',\n",
              " 'flavour',\n",
              " 'soup',\n",
              " 'Just',\n",
              " 'medium',\n",
              " 'spicy',\n",
              " 'nLasooni',\n",
              " 'fish',\n",
              " 'tikka',\n",
              " 'awesome',\n",
              " 'nI',\n",
              " 'remember',\n",
              " 'dessert',\n",
              " 'name',\n",
              " 'I',\n",
              " 'attached',\n",
              " 'photo',\n",
              " 'It',\n",
              " 'vanilla',\n",
              " 'ice',\n",
              " 'inside',\n",
              " 'wafers',\n",
              " 'Wafer',\n",
              " 'hell',\n",
              " 'hard',\n",
              " 'egg',\n",
              " 'smell',\n",
              " 'chewy',\n",
              " 'Nightmare',\n",
              " 'dessert',\n",
              " 'nTable',\n",
              " 'leg',\n",
              " 'space',\n",
              " 'bad',\n",
              " 'I',\n",
              " 'uncomfortable',\n",
              " 'whole',\n",
              " 'time',\n",
              " 'kept',\n",
              " 'adjusting',\n",
              " 'legs',\n",
              " 'nNo',\n",
              " 'parking',\n",
              " 'nFor',\n",
              " 'taste',\n",
              " 'felt',\n",
              " 'costly',\n",
              " 'Zomato',\n",
              " 'gold',\n",
              " 'partner',\n",
              " 'price',\n",
              " 'It',\n",
              " 'insane',\n",
              " 'They',\n",
              " 'really',\n",
              " 'nice',\n",
              " 'food',\n",
              " 'small',\n",
              " 'place',\n",
              " 'courteous',\n",
              " 'staff',\n",
              " 'cheap',\n",
              " 'food',\n",
              " 'ambience',\n",
              " 'Cost',\n",
              " 'soups',\n",
              " 'Starters',\n",
              " 'Main',\n",
              " 'course',\n",
              " 'Cost',\n",
              " 'two',\n",
              " 'us',\n",
              " 'Ambience',\n",
              " 'good',\n",
              " 'enough',\n",
              " 'pocket',\n",
              " 'friendly',\n",
              " 'cafe',\n",
              " 'quantity',\n",
              " 'good',\n",
              " 'desserts',\n",
              " 'good',\n",
              " 'enough',\n",
              " 'nWent',\n",
              " 'quick',\n",
              " 'bite',\n",
              " 'friends',\n",
              " 'nThe',\n",
              " 'ambience',\n",
              " 'corporate',\n",
              " 'feel',\n",
              " 'I',\n",
              " 'would',\n",
              " 'say',\n",
              " 'unique',\n",
              " 'nTried',\n",
              " 'nachos',\n",
              " 'pasta',\n",
              " 'churros',\n",
              " 'lasagne',\n",
              " 'nNachos',\n",
              " 'pathetic',\n",
              " 'Seriously',\n",
              " 'order',\n",
              " 'nPasta',\n",
              " 'okayish',\n",
              " 'nLasagne',\n",
              " 'good',\n",
              " 'nNutella',\n",
              " 'churros',\n",
              " 'best',\n",
              " 'nOverall',\n",
              " 'okayish',\n",
              " 'experience',\n",
              " 'nPeace',\n",
              " 'First',\n",
              " 'big',\n",
              " 'thanks',\n",
              " 'staff',\n",
              " 'Cafe',\n",
              " 'Very',\n",
              " 'polite',\n",
              " 'courteous',\n",
              " 'nI',\n",
              " 'mins',\n",
              " 'closing',\n",
              " 'time',\n",
              " 'Without',\n",
              " 'discomfort',\n",
              " 'hesitation',\n",
              " 'staff',\n",
              " 'welcomed',\n",
              " 'warm',\n",
              " 'smile',\n",
              " 'said',\n",
              " 'still',\n",
              " 'open',\n",
              " 'though',\n",
              " 'preparing',\n",
              " 'close',\n",
              " 'cafe',\n",
              " 'day',\n",
              " 'nQuickly',\n",
              " 'ordered',\n",
              " 'Thai',\n",
              " 'green',\n",
              " 'curry',\n",
              " 'served',\n",
              " 'rice',\n",
              " 'They',\n",
              " 'got',\n",
              " 'within',\n",
              " 'mins',\n",
              " 'hot',\n",
              " 'freshly',\n",
              " 'made',\n",
              " 'nIt',\n",
              " 'tasty',\n",
              " 'taste',\n",
              " 'coconut',\n",
              " 'milk',\n",
              " 'Not',\n",
              " 'spicy',\n",
              " 'mild',\n",
              " 'spicy',\n",
              " 'nI',\n",
              " 'saw',\n",
              " 'yummy',\n",
              " 'looking',\n",
              " 'dessert',\n",
              " 'menu',\n",
              " 'go',\n",
              " 'try',\n",
              " 'nA',\n",
              " 'good',\n",
              " ...]"
            ]
          },
          "metadata": {},
          "execution_count": 69
        }
      ],
      "source": [
        "total_reviews_1D"
      ]
    },
    {
      "cell_type": "code",
      "execution_count": 69,
      "id": "fa59dc83",
      "metadata": {
        "id": "fa59dc83"
      },
      "outputs": [],
      "source": []
    },
    {
      "cell_type": "code",
      "execution_count": 69,
      "id": "b86360e9",
      "metadata": {
        "id": "b86360e9"
      },
      "outputs": [],
      "source": []
    },
    {
      "cell_type": "code",
      "execution_count": 70,
      "id": "487641c2",
      "metadata": {
        "id": "487641c2"
      },
      "outputs": [],
      "source": [
        "from nltk import FreqDist"
      ]
    },
    {
      "cell_type": "code",
      "execution_count": 71,
      "id": "c8799093",
      "metadata": {
        "id": "c8799093"
      },
      "outputs": [],
      "source": [
        "fd = FreqDist()"
      ]
    },
    {
      "cell_type": "code",
      "execution_count": 72,
      "id": "e716b543",
      "metadata": {
        "id": "e716b543"
      },
      "outputs": [],
      "source": [
        "for word in total_reviews_1D:\n",
        "    fd[word] = fd[word] + 1 # --> this syntax is taken from documentation(shift+tab) of FreqDist() function."
      ]
    },
    {
      "cell_type": "code",
      "execution_count": 73,
      "id": "449fecd8",
      "metadata": {
        "colab": {
          "base_uri": "https://localhost:8080/"
        },
        "id": "449fecd8",
        "outputId": "6e7b2f5a-0d7d-47c3-fdc7-1f371770151e"
      },
      "outputs": [
        {
          "output_type": "execute_result",
          "data": {
            "text/plain": [
              "[('place', 958892),\n",
              " ('I', 906624),\n",
              " ('good', 870711),\n",
              " ('food', 800115),\n",
              " ('The', 667679),\n",
              " ('chicken', 313719),\n",
              " ('service', 273865),\n",
              " ('ordered', 261388),\n",
              " ('taste', 245081),\n",
              " ('great', 235933),\n",
              " ('really', 234390),\n",
              " ('try', 218724),\n",
              " ('ambience', 217874),\n",
              " ('time', 217257),\n",
              " ('one', 213594),\n",
              " ('It', 206382),\n",
              " ('also', 202443),\n",
              " ('like', 197463),\n",
              " ('We', 184449),\n",
              " ('visit', 183865)]"
            ]
          },
          "metadata": {},
          "execution_count": 73
        }
      ],
      "source": [
        "fd.most_common(20)"
      ]
    },
    {
      "cell_type": "code",
      "execution_count": 73,
      "id": "cb71ca83",
      "metadata": {
        "id": "cb71ca83"
      },
      "outputs": [],
      "source": []
    },
    {
      "cell_type": "code",
      "execution_count": 74,
      "id": "f5063f98",
      "metadata": {
        "colab": {
          "base_uri": "https://localhost:8080/",
          "height": 521
        },
        "id": "f5063f98",
        "outputId": "b66d96ab-d356-44ef-97d6-ec584fadf2a1"
      },
      "outputs": [
        {
          "output_type": "display_data",
          "data": {
            "text/plain": [
              "<Figure size 640x480 with 1 Axes>"
            ],
            "image/png": "[encoded data removed]"
          },
          "metadata": {}
        },
        {
          "output_type": "execute_result",
          "data": {
            "text/plain": [
              "<Axes: xlabel='Samples', ylabel='Counts'>"
            ]
          },
          "metadata": {},
          "execution_count": 74
        }
      ],
      "source": [
        "fd.plot(20)"
      ]
    },
    {
      "cell_type": "code",
      "execution_count": 74,
      "id": "ce123a4f",
      "metadata": {
        "id": "ce123a4f"
      },
      "outputs": [],
      "source": []
    },
    {
      "cell_type": "code",
      "execution_count": 75,
      "id": "653c963b",
      "metadata": {
        "id": "653c963b"
      },
      "outputs": [],
      "source": [
        "from collections import Counter"
      ]
    },
    {
      "cell_type": "code",
      "execution_count": 76,
      "id": "c20ad3fb",
      "metadata": {
        "scrolled": true,
        "colab": {
          "base_uri": "https://localhost:8080/"
        },
        "id": "c20ad3fb",
        "outputId": "781db01b-a34d-4cc3-b0b9-7c4e4dee4039"
      },
      "outputs": [
        {
          "output_type": "execute_result",
          "data": {
            "text/plain": [
              "[('place', 958892),\n",
              " ('I', 906624),\n",
              " ('good', 870711),\n",
              " ('food', 800115),\n",
              " ('The', 667679),\n",
              " ('chicken', 313719),\n",
              " ('service', 273865),\n",
              " ('ordered', 261388),\n",
              " ('taste', 245081),\n",
              " ('great', 235933),\n",
              " ('really', 234390),\n",
              " ('try', 218724),\n",
              " ('ambience', 217874),\n",
              " ('time', 217257),\n",
              " ('one', 213594),\n",
              " ('It', 206382),\n",
              " ('also', 202443),\n",
              " ('like', 197463),\n",
              " ('We', 184449),\n",
              " ('visit', 183865)]"
            ]
          },
          "metadata": {},
          "execution_count": 76
        }
      ],
      "source": [
        "Counter(total_reviews_1D).most_common(20)"
      ]
    },
    {
      "cell_type": "code",
      "execution_count": 76,
      "id": "d41e316d",
      "metadata": {
        "id": "d41e316d"
      },
      "outputs": [],
      "source": []
    },
    {
      "cell_type": "code",
      "execution_count": 76,
      "id": "27bd8170",
      "metadata": {
        "id": "27bd8170"
      },
      "outputs": [],
      "source": []
    },
    {
      "cell_type": "code",
      "execution_count": 76,
      "id": "a47202b0",
      "metadata": {
        "id": "a47202b0"
      },
      "outputs": [],
      "source": []
    },
    {
      "cell_type": "code",
      "execution_count": 76,
      "id": "91aee657",
      "metadata": {
        "id": "91aee657"
      },
      "outputs": [],
      "source": []
    },
    {
      "cell_type": "markdown",
      "id": "5a34c2f9",
      "metadata": {
        "id": "5a34c2f9"
      },
      "source": [
        "### Performing Bi-gram & Tri-gram analysis on data"
      ]
    },
    {
      "cell_type": "code",
      "execution_count": 77,
      "id": "9856bf68",
      "metadata": {
        "id": "9856bf68"
      },
      "outputs": [],
      "source": [
        "from nltk import FreqDist, bigrams, trigrams"
      ]
    },
    {
      "cell_type": "code",
      "execution_count": 78,
      "id": "c8e8942e",
      "metadata": {
        "id": "c8e8942e"
      },
      "outputs": [],
      "source": [
        "bi_grams = bigrams(total_reviews_1D)"
      ]
    },
    {
      "cell_type": "code",
      "execution_count": 79,
      "id": "bd0abdb5",
      "metadata": {
        "colab": {
          "base_uri": "https://localhost:8080/"
        },
        "id": "bd0abdb5",
        "outputId": "b94cd789-e6ef-4efd-ecbe-ecba0116af40"
      },
      "outputs": [
        {
          "output_type": "execute_result",
          "data": {
            "text/plain": [
              "<generator object bigrams at 0x7a13e3dbe7a0>"
            ]
          },
          "metadata": {},
          "execution_count": 79
        }
      ],
      "source": [
        "bi_grams"
      ]
    },
    {
      "cell_type": "code",
      "execution_count": 79,
      "id": "8dc741d8",
      "metadata": {
        "id": "8dc741d8"
      },
      "outputs": [],
      "source": []
    },
    {
      "cell_type": "code",
      "execution_count": 80,
      "id": "620ea1aa",
      "metadata": {
        "id": "620ea1aa"
      },
      "outputs": [],
      "source": [
        "fd_bigrams = FreqDist()\n",
        "\n",
        "for bigram in bi_grams:\n",
        "    fd_bigrams[bigram] = fd_bigrams[bigram] + 1"
      ]
    },
    {
      "cell_type": "code",
      "execution_count": 81,
      "id": "0f6bd4cf",
      "metadata": {
        "colab": {
          "base_uri": "https://localhost:8080/"
        },
        "id": "0f6bd4cf",
        "outputId": "0472ff2d-f4bf-461c-c339-ea8e2c7ace51"
      },
      "outputs": [
        {
          "output_type": "execute_result",
          "data": {
            "text/plain": [
              "[(('The', 'food'), 70551),\n",
              " (('really', 'good'), 64671),\n",
              " (('I', 'ordered'), 60088),\n",
              " (('This', 'place'), 54963),\n",
              " (('must', 'try'), 53865),\n",
              " (('We', 'ordered'), 52692),\n",
              " (('I', 'would'), 47294),\n",
              " (('visit', 'place'), 45409),\n",
              " (('The', 'place'), 43758),\n",
              " (('food', 'good'), 42791),\n",
              " (('good', 'food'), 42433),\n",
              " (('f', 'f'), 37330),\n",
              " (('good', 'place'), 36570),\n",
              " (('main', 'course'), 34713),\n",
              " (('The', 'ambience'), 33846),\n",
              " (('ice', 'cream'), 33429),\n",
              " (('also', 'good'), 32487),\n",
              " (('non', 'veg'), 32321),\n",
              " (('The', 'service'), 28278),\n",
              " (('I', 'tried'), 27983)]"
            ]
          },
          "metadata": {},
          "execution_count": 81
        }
      ],
      "source": [
        "fd_bigrams.most_common(20)"
      ]
    },
    {
      "cell_type": "code",
      "execution_count": 82,
      "id": "b99d9a70",
      "metadata": {
        "colab": {
          "base_uri": "https://localhost:8080/",
          "height": 582
        },
        "id": "b99d9a70",
        "outputId": "9c14dd89-c1db-4fa0-b2de-b1c87de2724d"
      },
      "outputs": [
        {
          "output_type": "display_data",
          "data": {
            "text/plain": [
              "<Figure size 640x480 with 1 Axes>"
            ],
            "image/png": "[encoded data removed]"
          },
          "metadata": {}
        },
        {
          "output_type": "execute_result",
          "data": {
            "text/plain": [
              "<Axes: xlabel='Samples', ylabel='Counts'>"
            ]
          },
          "metadata": {},
          "execution_count": 82
        }
      ],
      "source": [
        "fd_bigrams.plot(20)"
      ]
    },
    {
      "cell_type": "code",
      "execution_count": 82,
      "id": "2bded683",
      "metadata": {
        "id": "2bded683"
      },
      "outputs": [],
      "source": []
    },
    {
      "cell_type": "code",
      "execution_count": 83,
      "id": "30b93953",
      "metadata": {
        "colab": {
          "base_uri": "https://localhost:8080/"
        },
        "id": "30b93953",
        "outputId": "216ee388-3e46-4d4e-db78-aedc10abe4ea"
      },
      "outputs": [
        {
          "output_type": "execute_result",
          "data": {
            "text/plain": [
              "[(('The', 'food'), 70551),\n",
              " (('really', 'good'), 64671),\n",
              " (('I', 'ordered'), 60088),\n",
              " (('This', 'place'), 54963),\n",
              " (('must', 'try'), 53865),\n",
              " (('We', 'ordered'), 52692),\n",
              " (('I', 'would'), 47294),\n",
              " (('visit', 'place'), 45409),\n",
              " (('The', 'place'), 43758),\n",
              " (('food', 'good'), 42791),\n",
              " (('good', 'food'), 42433),\n",
              " (('f', 'f'), 37330),\n",
              " (('good', 'place'), 36570),\n",
              " (('main', 'course'), 34713),\n",
              " (('The', 'ambience'), 33846),\n",
              " (('ice', 'cream'), 33429),\n",
              " (('also', 'good'), 32487),\n",
              " (('non', 'veg'), 32321),\n",
              " (('The', 'service'), 28278),\n",
              " (('I', 'tried'), 27983),\n",
              " (('place', 'I'), 27535),\n",
              " (('good', 'The'), 26699),\n",
              " (('good', 'I'), 25415),\n",
              " (('food', 'I'), 25194),\n",
              " (('one', 'best'), 24631),\n",
              " (('nWe', 'ordered'), 24599),\n",
              " (('The', 'staff'), 23847),\n",
              " (('nice', 'place'), 23528),\n",
              " (('must', 'visit'), 23491),\n",
              " (('I', 'love'), 22794),\n",
              " (('time', 'I'), 21754),\n",
              " (('place', 'good'), 21720),\n",
              " (('I', 'loved'), 21398),\n",
              " (('place', 'hangout'), 21305),\n",
              " (('pretty', 'good'), 21033),\n",
              " (('I', 'like'), 20502),\n",
              " (('quality', 'food'), 20010),\n",
              " (('taste', 'good'), 19952),\n",
              " (('service', 'good'), 19917),\n",
              " (('good', 'service'), 19633),\n",
              " (('value', 'money'), 19498),\n",
              " (('pocket', 'friendly'), 19359),\n",
              " (('I', 'visited'), 19026),\n",
              " (('fried', 'rice'), 18756),\n",
              " (('great', 'place'), 18126),\n",
              " (('nThe', 'food'), 17990),\n",
              " (('good', 'experience'), 17672),\n",
              " (('I', 'went'), 17599),\n",
              " (('visited', 'place'), 17592),\n",
              " (('ambience', 'good'), 17569),\n",
              " (('good', 'taste'), 17082),\n",
              " (('recommend', 'place'), 16872),\n",
              " (('first', 'time'), 16840),\n",
              " (('place', 'The'), 16545),\n",
              " (('I', 'really'), 16061),\n",
              " (('One', 'best'), 16037),\n",
              " (('I', 'liked'), 15988),\n",
              " (('food', 'The'), 15776),\n",
              " (('I', 'think'), 15704),\n",
              " (('really', 'nice'), 15483),\n",
              " (('food', 'great'), 15127),\n",
              " (('long', 'time'), 14957),\n",
              " (('We', 'went'), 14899),\n",
              " (('Must', 'try'), 14756),\n",
              " (('I', 'ever'), 14568),\n",
              " (('North', 'Indian'), 14454),\n",
              " (('best', 'place'), 14299),\n",
              " (('nFood', 'nService'), 14258),\n",
              " (('chicken', 'biryani'), 14235),\n",
              " (('The', 'best'), 14224),\n",
              " (('Food', 'good'), 13858),\n",
              " (('ordered', 'chicken'), 13831),\n",
              " (('nValue', 'money'), 13753),\n",
              " (('good', 'ambience'), 13649),\n",
              " (('Good', 'place'), 13601),\n",
              " (('food', 'really'), 13302),\n",
              " (('food', 'quality'), 13190),\n",
              " (('place', 'visit'), 12966),\n",
              " (('try', 'place'), 12914),\n",
              " (('I', 'got'), 12896),\n",
              " (('place', 'hang'), 12803),\n",
              " (('The', 'chicken'), 12727),\n",
              " (('Nice', 'place'), 12671),\n",
              " (('great', 'food'), 12664),\n",
              " (('quite', 'good'), 12660),\n",
              " (('We', 'tried'), 12612),\n",
              " (('staff', 'friendly'), 12427),\n",
              " (('f', 'c'), 12361),\n",
              " (('go', 'place'), 12331),\n",
              " (('I', 'felt'), 12290),\n",
              " (('tasted', 'good'), 12023),\n",
              " (('nAmbience', 'nService'), 12013),\n",
              " (('food', 'service'), 11859),\n",
              " (('Good', 'food'), 11858),\n",
              " (('would', 'recommend'), 11846),\n",
              " (('The', 'taste'), 11644),\n",
              " (('A', 'must'), 11462),\n",
              " (('home', 'delivery'), 11373),\n",
              " (('Indian', 'food'), 11287),\n",
              " (('must', 'say'), 11251)]"
            ]
          },
          "metadata": {},
          "execution_count": 83
        }
      ],
      "source": [
        "fd_bigrams.most_common(100)"
      ]
    },
    {
      "cell_type": "code",
      "execution_count": 83,
      "id": "ece3c502",
      "metadata": {
        "id": "ece3c502"
      },
      "outputs": [],
      "source": []
    },
    {
      "cell_type": "code",
      "execution_count": 83,
      "id": "f5eb04d9",
      "metadata": {
        "id": "f5eb04d9"
      },
      "outputs": [],
      "source": []
    },
    {
      "cell_type": "code",
      "execution_count": 83,
      "id": "98c4e31f",
      "metadata": {
        "id": "98c4e31f"
      },
      "outputs": [],
      "source": []
    },
    {
      "cell_type": "code",
      "execution_count": 84,
      "id": "5b0c255d",
      "metadata": {
        "id": "5b0c255d"
      },
      "outputs": [],
      "source": [
        "tri_grams = trigrams(total_reviews_1D)"
      ]
    },
    {
      "cell_type": "code",
      "execution_count": 85,
      "id": "dd44e9b0",
      "metadata": {
        "id": "dd44e9b0"
      },
      "outputs": [],
      "source": [
        "fd_trigrams = FreqDist()\n",
        "\n",
        "for trigram in tri_grams:\n",
        "    fd_trigrams[trigram] += 1"
      ]
    },
    {
      "cell_type": "code",
      "execution_count": 85,
      "id": "bcb76d2c",
      "metadata": {
        "id": "bcb76d2c"
      },
      "outputs": [],
      "source": []
    },
    {
      "cell_type": "code",
      "execution_count": 86,
      "id": "d3f0170f",
      "metadata": {
        "colab": {
          "base_uri": "https://localhost:8080/"
        },
        "id": "d3f0170f",
        "outputId": "046e48ea-33e5-4c4a-8274-67839ff6c7bb"
      },
      "outputs": [
        {
          "output_type": "execute_result",
          "data": {
            "text/plain": [
              "[(('f', 'f', 'f'), 19127),\n",
              " (('veg', 'non', 'veg'), 9254),\n",
              " (('The', 'food', 'good'), 9236),\n",
              " (('must', 'visit', 'place'), 9137),\n",
              " (('place', 'hangout', 'friends'), 8869),\n",
              " (('f', 'c', 'f'), 8001),\n",
              " (('xa', 'xa', 'xa'), 7959),\n",
              " (('I', 'must', 'say'), 7657),\n",
              " (('I', 'visited', 'place'), 7594),\n",
              " (('I', 'would', 'recommend'), 6478),\n",
              " (('nFood', 'nAmbience', 'nService'), 6236),\n",
              " (('I', 'would', 'say'), 5719),\n",
              " (('food', 'really', 'good'), 5624),\n",
              " (('A', 'good', 'place'), 5454),\n",
              " (('A', 'must', 'visit'), 5385),\n",
              " (('place', 'hang', 'friends'), 5366),\n",
              " (('c', 'f', 'f'), 4784),\n",
              " (('The', 'ambience', 'good'), 4665),\n",
              " (('North', 'Indian', 'food'), 4597),\n",
              " (('nFood', 'nService', 'nAmbience'), 4521),\n",
              " (('A', 'must', 'try'), 4381),\n",
              " (('f', 'f', 'c'), 4224),\n",
              " (('The', 'food', 'really'), 4125),\n",
              " (('I', 'would', 'like'), 4092),\n",
              " (('first', 'time', 'I'), 3965),\n",
              " (('I', 'would', 'definitely'), 3925),\n",
              " (('really', 'good', 'The'), 3862),\n",
              " (('The', 'service', 'good'), 3778),\n",
              " (('nService', 'nValue', 'money'), 3773),\n",
              " (('nAmbience', 'nFood', 'nService'), 3708),\n",
              " (('The', 'staff', 'friendly'), 3702),\n",
              " (('Overall', 'good', 'experience'), 3702),\n",
              " (('The', 'staff', 'courteous'), 3543),\n",
              " (('I', 'would', 'suggest'), 3495),\n",
              " (('I', 'ordered', 'chicken'), 3426),\n",
              " (('place', 'good', 'food'), 3415),\n",
              " (('chicken', 'fried', 'rice'), 3389),\n",
              " (('must', 'try', 'place'), 3384),\n",
              " (('peri', 'peri', 'chicken'), 3368),\n",
              " (('The', 'best', 'part'), 3355),\n",
              " (('We', 'ordered', 'chicken'), 3308),\n",
              " (('nRead', 'full', 'post'), 3283),\n",
              " (('good', 'We', 'ordered'), 3248),\n",
              " (('A', 'nice', 'place'), 3205),\n",
              " (('I', 'love', 'place'), 3170),\n",
              " (('good', 'place', 'hangout'), 3148),\n",
              " (('I', 'really', 'liked'), 3131),\n",
              " (('starters', 'main', 'course'), 3125),\n",
              " (('food', 'I', 'ordered'), 3033),\n",
              " (('One', 'best', 'places'), 3023)]"
            ]
          },
          "metadata": {},
          "execution_count": 86
        }
      ],
      "source": [
        "fd_trigrams.most_common(50)"
      ]
    },
    {
      "cell_type": "code",
      "execution_count": 87,
      "id": "7d932093",
      "metadata": {
        "colab": {
          "base_uri": "https://localhost:8080/",
          "height": 684
        },
        "id": "7d932093",
        "outputId": "17c8f863-6afa-453f-b448-3129ca2cd6d4"
      },
      "outputs": [
        {
          "output_type": "display_data",
          "data": {
            "text/plain": [
              "<Figure size 640x480 with 1 Axes>"
            ],
            "image/png": "[encoded data removed]"
          },
          "metadata": {}
        },
        {
          "output_type": "execute_result",
          "data": {
            "text/plain": [
              "<Axes: xlabel='Samples', ylabel='Counts'>"
            ]
          },
          "metadata": {},
          "execution_count": 87
        }
      ],
      "source": [
        "fd_trigrams.plot(20)"
      ]
    },
    {
      "cell_type": "code",
      "execution_count": 87,
      "id": "32ee388c",
      "metadata": {
        "id": "32ee388c"
      },
      "outputs": [],
      "source": []
    },
    {
      "cell_type": "code",
      "execution_count": 87,
      "id": "3bc6169e",
      "metadata": {
        "id": "3bc6169e"
      },
      "outputs": [],
      "source": []
    },
    {
      "cell_type": "code",
      "execution_count": 87,
      "id": "dffd75c4",
      "metadata": {
        "id": "dffd75c4"
      },
      "outputs": [],
      "source": []
    },
    {
      "cell_type": "code",
      "execution_count": 87,
      "id": "c0e90760",
      "metadata": {
        "id": "c0e90760"
      },
      "outputs": [],
      "source": []
    },
    {
      "cell_type": "markdown",
      "id": "00eed59f",
      "metadata": {
        "id": "00eed59f"
      },
      "source": [
        "### Extract geographical-coordinates from data"
      ]
    },
    {
      "cell_type": "code",
      "execution_count": 88,
      "id": "8317c002",
      "metadata": {
        "colab": {
          "base_uri": "https://localhost:8080/"
        },
        "id": "8317c002",
        "outputId": "8132ae46-8b69-410f-e74b-d8efbf0d1cf3"
      },
      "outputs": [
        {
          "output_type": "stream",
          "name": "stdout",
          "text": [
            "Collecting geocoder\n",
            "  Downloading geocoder-1.38.1-py2.py3-none-any.whl (98 kB)\n",
            "\u001b[?25l     \u001b[90m━━━━━━━━━━━━━━━━━━━━━━━━━━━━━━━━━━━━━━━━\u001b[0m \u001b[32m0.0/98.6 kB\u001b[0m \u001b[31m?\u001b[0m eta \u001b[36m-:--:--\u001b[0m\r\u001b[2K     \u001b[91m━━━━━━━━━━━━━━━━━━━━━━━━━━━━━━━━━━━━━\u001b[0m\u001b[90m╺\u001b[0m\u001b[90m━━\u001b[0m \u001b[32m92.2/98.6 kB\u001b[0m \u001b[31m2.6 MB/s\u001b[0m eta \u001b[36m0:00:01\u001b[0m\r\u001b[2K     \u001b[90m━━━━━━━━━━━━━━━━━━━━━━━━━━━━━━━━━━━━━━━━\u001b[0m \u001b[32m98.6/98.6 kB\u001b[0m \u001b[31m2.1 MB/s\u001b[0m eta \u001b[36m0:00:00\u001b[0m\n",
            "\u001b[?25hRequirement already satisfied: click in /usr/local/lib/python3.10/dist-packages (from geocoder) (8.1.7)\n",
            "Requirement already satisfied: future in /usr/local/lib/python3.10/dist-packages (from geocoder) (0.18.3)\n",
            "Collecting ratelim (from geocoder)\n",
            "  Downloading ratelim-0.1.6-py2.py3-none-any.whl (4.0 kB)\n",
            "Requirement already satisfied: requests in /usr/local/lib/python3.10/dist-packages (from geocoder) (2.31.0)\n",
            "Requirement already satisfied: six in /usr/local/lib/python3.10/dist-packages (from geocoder) (1.16.0)\n",
            "Requirement already satisfied: decorator in /usr/local/lib/python3.10/dist-packages (from ratelim->geocoder) (4.4.2)\n",
            "Requirement already satisfied: charset-normalizer<4,>=2 in /usr/local/lib/python3.10/dist-packages (from requests->geocoder) (3.2.0)\n",
            "Requirement already satisfied: idna<4,>=2.5 in /usr/local/lib/python3.10/dist-packages (from requests->geocoder) (3.4)\n",
            "Requirement already satisfied: urllib3<3,>=1.21.1 in /usr/local/lib/python3.10/dist-packages (from requests->geocoder) (2.0.4)\n",
            "Requirement already satisfied: certifi>=2017.4.17 in /usr/local/lib/python3.10/dist-packages (from requests->geocoder) (2023.7.22)\n",
            "Installing collected packages: ratelim, geocoder\n",
            "Successfully installed geocoder-1.38.1 ratelim-0.1.6\n",
            "Requirement already satisfied: geopy in /usr/local/lib/python3.10/dist-packages (2.3.0)\n",
            "Requirement already satisfied: geographiclib<3,>=1.52 in /usr/local/lib/python3.10/dist-packages (from geopy) (2.0)\n"
          ]
        }
      ],
      "source": [
        "!pip install geocoder\n",
        "!pip install geopy"
      ]
    },
    {
      "cell_type": "code",
      "execution_count": 88,
      "id": "74181759",
      "metadata": {
        "id": "74181759"
      },
      "outputs": [],
      "source": []
    },
    {
      "cell_type": "code",
      "execution_count": 89,
      "id": "bcd73302",
      "metadata": {
        "colab": {
          "base_uri": "https://localhost:8080/"
        },
        "id": "bcd73302",
        "outputId": "dfa56ca5-2a54-49ee-f729-36219d61df49"
      },
      "outputs": [
        {
          "output_type": "execute_result",
          "data": {
            "text/plain": [
              "0                      Banashankari\n",
              "1                      Banashankari\n",
              "2                      Banashankari\n",
              "3                      Banashankari\n",
              "4                      Basavanagudi\n",
              "                    ...            \n",
              "51712                    Whitefield\n",
              "51713                    Whitefield\n",
              "51714                    Whitefield\n",
              "51715    ITPL Main Road, Whitefield\n",
              "51716    ITPL Main Road, Whitefield\n",
              "Name: location, Length: 51717, dtype: object"
            ]
          },
          "metadata": {},
          "execution_count": 89
        }
      ],
      "source": [
        "df[\"location\"]"
      ]
    },
    {
      "cell_type": "code",
      "execution_count": 89,
      "id": "e68e83a7",
      "metadata": {
        "id": "e68e83a7"
      },
      "outputs": [],
      "source": []
    },
    {
      "cell_type": "code",
      "execution_count": 92,
      "id": "33a437a6",
      "metadata": {
        "colab": {
          "base_uri": "https://localhost:8080/"
        },
        "id": "33a437a6",
        "outputId": "3cdc93f1-874f-493d-cddb-8632bc2e7f51"
      },
      "outputs": [
        {
          "output_type": "execute_result",
          "data": {
            "text/plain": [
              "array(['Banashankari', 'Basavanagudi', 'Mysore Road', 'Jayanagar',\n",
              "       'Kumaraswamy Layout', 'Rajarajeshwari Nagar', 'Vijay Nagar',\n",
              "       'Uttarahalli', 'JP Nagar', 'South Bangalore', 'City Market',\n",
              "       'Nagarbhavi', 'Bannerghatta Road', 'BTM', 'Kanakapura Road',\n",
              "       'Bommanahalli', None, 'CV Raman Nagar', 'Electronic City', 'HSR',\n",
              "       'Marathahalli', 'Sarjapur Road', 'Wilson Garden', 'Shanti Nagar',\n",
              "       'Koramangala 5th Block', 'Koramangala 8th Block', 'Richmond Road',\n",
              "       'Koramangala 7th Block', 'Jalahalli', 'Koramangala 4th Block',\n",
              "       'Bellandur', 'Whitefield', 'East Bangalore', 'Old Airport Road',\n",
              "       'Indiranagar', 'Koramangala 1st Block', 'Frazer Town', 'RT Nagar',\n",
              "       'MG Road', 'Brigade Road', 'Lavelle Road', 'Church Street',\n",
              "       'Ulsoor', 'Residency Road', 'Shivajinagar', 'Infantry Road',\n",
              "       'St. Marks Road', 'Cunningham Road', 'Race Course Road',\n",
              "       'Commercial Street', 'Vasanth Nagar', 'HBR Layout', 'Domlur',\n",
              "       'Ejipura', 'Jeevan Bhima Nagar', 'Old Madras Road', 'Malleshwaram',\n",
              "       'Seshadripuram', 'Kammanahalli', 'Koramangala 6th Block',\n",
              "       'Majestic', 'Langford Town', 'Central Bangalore', 'Sanjay Nagar',\n",
              "       'Brookefield', 'ITPL Main Road, Whitefield',\n",
              "       'Varthur Main Road, Whitefield', 'KR Puram',\n",
              "       'Koramangala 2nd Block', 'Koramangala 3rd Block', 'Koramangala',\n",
              "       'Hosur Road', 'Rajajinagar', 'Banaswadi', 'North Bangalore',\n",
              "       'Nagawara', 'Hennur', 'Kalyan Nagar', 'New BEL Road', 'Jakkur',\n",
              "       'Rammurthy Nagar', 'Thippasandra', 'Kaggadasapura', 'Hebbal',\n",
              "       'Kengeri', 'Sankey Road', 'Sadashiv Nagar', 'Basaveshwara Nagar',\n",
              "       'Yeshwantpur', 'West Bangalore', 'Magadi Road', 'Yelahanka',\n",
              "       'Sahakara Nagar', 'Peenya'], dtype=object)"
            ]
          },
          "metadata": {},
          "execution_count": 92
        }
      ],
      "source": [
        "df[\"location\"].unique()"
      ]
    },
    {
      "cell_type": "code",
      "execution_count": 92,
      "id": "7dc01b33",
      "metadata": {
        "id": "7dc01b33"
      },
      "outputs": [],
      "source": []
    },
    {
      "cell_type": "code",
      "execution_count": 93,
      "id": "b5baf56c",
      "metadata": {
        "colab": {
          "base_uri": "https://localhost:8080/"
        },
        "id": "b5baf56c",
        "outputId": "6c23545c-2444-45e8-c31e-26229c66f099"
      },
      "outputs": [
        {
          "output_type": "execute_result",
          "data": {
            "text/plain": [
              "94"
            ]
          },
          "metadata": {},
          "execution_count": 93
        }
      ],
      "source": [
        "len(df[\"location\"].unique())"
      ]
    },
    {
      "cell_type": "code",
      "execution_count": 93,
      "id": "e1dd21ef",
      "metadata": {
        "id": "e1dd21ef"
      },
      "outputs": [],
      "source": []
    },
    {
      "cell_type": "code",
      "execution_count": 94,
      "id": "78ddd645",
      "metadata": {
        "id": "78ddd645"
      },
      "outputs": [],
      "source": [
        "df[\"location\"] = df[\"location\"] + \" , Bangalore , Karnataka , India\""
      ]
    },
    {
      "cell_type": "code",
      "execution_count": 95,
      "id": "c61c2786",
      "metadata": {
        "colab": {
          "base_uri": "https://localhost:8080/"
        },
        "id": "c61c2786",
        "outputId": "1eda927c-b4db-48c9-b356-f67aadb4ca00"
      },
      "outputs": [
        {
          "output_type": "execute_result",
          "data": {
            "text/plain": [
              "0             Banashankari , Bangalore , Karnataka , India\n",
              "1             Banashankari , Bangalore , Karnataka , India\n",
              "2             Banashankari , Bangalore , Karnataka , India\n",
              "3             Banashankari , Bangalore , Karnataka , India\n",
              "4             Basavanagudi , Bangalore , Karnataka , India\n",
              "                               ...                        \n",
              "51712           Whitefield , Bangalore , Karnataka , India\n",
              "51713           Whitefield , Bangalore , Karnataka , India\n",
              "51714           Whitefield , Bangalore , Karnataka , India\n",
              "51715    ITPL Main Road, Whitefield , Bangalore , Karna...\n",
              "51716    ITPL Main Road, Whitefield , Bangalore , Karna...\n",
              "Name: location, Length: 51717, dtype: object"
            ]
          },
          "metadata": {},
          "execution_count": 95
        }
      ],
      "source": [
        "df[\"location\"]"
      ]
    },
    {
      "cell_type": "code",
      "execution_count": 95,
      "id": "ceb91cc6",
      "metadata": {
        "id": "ceb91cc6"
      },
      "outputs": [],
      "source": []
    },
    {
      "cell_type": "code",
      "execution_count": 96,
      "id": "63fee026",
      "metadata": {
        "colab": {
          "base_uri": "https://localhost:8080/"
        },
        "id": "63fee026",
        "outputId": "8f7ebf90-61df-4b21-b11d-0daad55308c8"
      },
      "outputs": [
        {
          "output_type": "execute_result",
          "data": {
            "text/plain": [
              "array(['Banashankari , Bangalore , Karnataka , India',\n",
              "       'Basavanagudi , Bangalore , Karnataka , India',\n",
              "       'Mysore Road , Bangalore , Karnataka , India',\n",
              "       'Jayanagar , Bangalore , Karnataka , India',\n",
              "       'Kumaraswamy Layout , Bangalore , Karnataka , India',\n",
              "       'Rajarajeshwari Nagar , Bangalore , Karnataka , India',\n",
              "       'Vijay Nagar , Bangalore , Karnataka , India',\n",
              "       'Uttarahalli , Bangalore , Karnataka , India',\n",
              "       'JP Nagar , Bangalore , Karnataka , India',\n",
              "       'South Bangalore , Bangalore , Karnataka , India',\n",
              "       'City Market , Bangalore , Karnataka , India',\n",
              "       'Nagarbhavi , Bangalore , Karnataka , India',\n",
              "       'Bannerghatta Road , Bangalore , Karnataka , India',\n",
              "       'BTM , Bangalore , Karnataka , India',\n",
              "       'Kanakapura Road , Bangalore , Karnataka , India',\n",
              "       'Bommanahalli , Bangalore , Karnataka , India', nan,\n",
              "       'CV Raman Nagar , Bangalore , Karnataka , India',\n",
              "       'Electronic City , Bangalore , Karnataka , India',\n",
              "       'HSR , Bangalore , Karnataka , India',\n",
              "       'Marathahalli , Bangalore , Karnataka , India',\n",
              "       'Sarjapur Road , Bangalore , Karnataka , India',\n",
              "       'Wilson Garden , Bangalore , Karnataka , India',\n",
              "       'Shanti Nagar , Bangalore , Karnataka , India',\n",
              "       'Koramangala 5th Block , Bangalore , Karnataka , India',\n",
              "       'Koramangala 8th Block , Bangalore , Karnataka , India',\n",
              "       'Richmond Road , Bangalore , Karnataka , India',\n",
              "       'Koramangala 7th Block , Bangalore , Karnataka , India',\n",
              "       'Jalahalli , Bangalore , Karnataka , India',\n",
              "       'Koramangala 4th Block , Bangalore , Karnataka , India',\n",
              "       'Bellandur , Bangalore , Karnataka , India',\n",
              "       'Whitefield , Bangalore , Karnataka , India',\n",
              "       'East Bangalore , Bangalore , Karnataka , India',\n",
              "       'Old Airport Road , Bangalore , Karnataka , India',\n",
              "       'Indiranagar , Bangalore , Karnataka , India',\n",
              "       'Koramangala 1st Block , Bangalore , Karnataka , India',\n",
              "       'Frazer Town , Bangalore , Karnataka , India',\n",
              "       'RT Nagar , Bangalore , Karnataka , India',\n",
              "       'MG Road , Bangalore , Karnataka , India',\n",
              "       'Brigade Road , Bangalore , Karnataka , India',\n",
              "       'Lavelle Road , Bangalore , Karnataka , India',\n",
              "       'Church Street , Bangalore , Karnataka , India',\n",
              "       'Ulsoor , Bangalore , Karnataka , India',\n",
              "       'Residency Road , Bangalore , Karnataka , India',\n",
              "       'Shivajinagar , Bangalore , Karnataka , India',\n",
              "       'Infantry Road , Bangalore , Karnataka , India',\n",
              "       'St. Marks Road , Bangalore , Karnataka , India',\n",
              "       'Cunningham Road , Bangalore , Karnataka , India',\n",
              "       'Race Course Road , Bangalore , Karnataka , India',\n",
              "       'Commercial Street , Bangalore , Karnataka , India',\n",
              "       'Vasanth Nagar , Bangalore , Karnataka , India',\n",
              "       'HBR Layout , Bangalore , Karnataka , India',\n",
              "       'Domlur , Bangalore , Karnataka , India',\n",
              "       'Ejipura , Bangalore , Karnataka , India',\n",
              "       'Jeevan Bhima Nagar , Bangalore , Karnataka , India',\n",
              "       'Old Madras Road , Bangalore , Karnataka , India',\n",
              "       'Malleshwaram , Bangalore , Karnataka , India',\n",
              "       'Seshadripuram , Bangalore , Karnataka , India',\n",
              "       'Kammanahalli , Bangalore , Karnataka , India',\n",
              "       'Koramangala 6th Block , Bangalore , Karnataka , India',\n",
              "       'Majestic , Bangalore , Karnataka , India',\n",
              "       'Langford Town , Bangalore , Karnataka , India',\n",
              "       'Central Bangalore , Bangalore , Karnataka , India',\n",
              "       'Sanjay Nagar , Bangalore , Karnataka , India',\n",
              "       'Brookefield , Bangalore , Karnataka , India',\n",
              "       'ITPL Main Road, Whitefield , Bangalore , Karnataka , India',\n",
              "       'Varthur Main Road, Whitefield , Bangalore , Karnataka , India',\n",
              "       'KR Puram , Bangalore , Karnataka , India',\n",
              "       'Koramangala 2nd Block , Bangalore , Karnataka , India',\n",
              "       'Koramangala 3rd Block , Bangalore , Karnataka , India',\n",
              "       'Koramangala , Bangalore , Karnataka , India',\n",
              "       'Hosur Road , Bangalore , Karnataka , India',\n",
              "       'Rajajinagar , Bangalore , Karnataka , India',\n",
              "       'Banaswadi , Bangalore , Karnataka , India',\n",
              "       'North Bangalore , Bangalore , Karnataka , India',\n",
              "       'Nagawara , Bangalore , Karnataka , India',\n",
              "       'Hennur , Bangalore , Karnataka , India',\n",
              "       'Kalyan Nagar , Bangalore , Karnataka , India',\n",
              "       'New BEL Road , Bangalore , Karnataka , India',\n",
              "       'Jakkur , Bangalore , Karnataka , India',\n",
              "       'Rammurthy Nagar , Bangalore , Karnataka , India',\n",
              "       'Thippasandra , Bangalore , Karnataka , India',\n",
              "       'Kaggadasapura , Bangalore , Karnataka , India',\n",
              "       'Hebbal , Bangalore , Karnataka , India',\n",
              "       'Kengeri , Bangalore , Karnataka , India',\n",
              "       'Sankey Road , Bangalore , Karnataka , India',\n",
              "       'Sadashiv Nagar , Bangalore , Karnataka , India',\n",
              "       'Basaveshwara Nagar , Bangalore , Karnataka , India',\n",
              "       'Yeshwantpur , Bangalore , Karnataka , India',\n",
              "       'West Bangalore , Bangalore , Karnataka , India',\n",
              "       'Magadi Road , Bangalore , Karnataka , India',\n",
              "       'Yelahanka , Bangalore , Karnataka , India',\n",
              "       'Sahakara Nagar , Bangalore , Karnataka , India',\n",
              "       'Peenya , Bangalore , Karnataka , India'], dtype=object)"
            ]
          },
          "metadata": {},
          "execution_count": 96
        }
      ],
      "source": [
        "df[\"location\"].unique()"
      ]
    },
    {
      "cell_type": "code",
      "execution_count": 96,
      "id": "2fee407d",
      "metadata": {
        "id": "2fee407d"
      },
      "outputs": [],
      "source": []
    },
    {
      "cell_type": "code",
      "execution_count": 96,
      "id": "289f73ba",
      "metadata": {
        "id": "289f73ba"
      },
      "outputs": [],
      "source": []
    },
    {
      "cell_type": "code",
      "execution_count": 97,
      "id": "027e5e5e",
      "metadata": {
        "id": "027e5e5e"
      },
      "outputs": [],
      "source": [
        "df_copy = df.copy()"
      ]
    },
    {
      "cell_type": "code",
      "execution_count": 98,
      "id": "fea68ad0",
      "metadata": {
        "colab": {
          "base_uri": "https://localhost:8080/"
        },
        "id": "fea68ad0",
        "outputId": "75f231c3-dd1c-490a-a23e-08bf2275f51f"
      },
      "outputs": [
        {
          "output_type": "execute_result",
          "data": {
            "text/plain": [
              "21"
            ]
          },
          "metadata": {},
          "execution_count": 98
        }
      ],
      "source": [
        "df_copy[\"location\"].isnull().sum()"
      ]
    },
    {
      "cell_type": "code",
      "execution_count": 98,
      "id": "d25fc844",
      "metadata": {
        "id": "d25fc844"
      },
      "outputs": [],
      "source": []
    },
    {
      "cell_type": "code",
      "execution_count": 99,
      "id": "598b5ffd",
      "metadata": {
        "id": "598b5ffd"
      },
      "outputs": [],
      "source": [
        "df_copy = df_copy.dropna(subset = [\"location\"])"
      ]
    },
    {
      "cell_type": "code",
      "execution_count": 100,
      "id": "f2ce0aeb",
      "metadata": {
        "colab": {
          "base_uri": "https://localhost:8080/"
        },
        "id": "f2ce0aeb",
        "outputId": "5e9955d6-774e-4c40-c6c3-e0f52c3f5daa"
      },
      "outputs": [
        {
          "output_type": "execute_result",
          "data": {
            "text/plain": [
              "0"
            ]
          },
          "metadata": {},
          "execution_count": 100
        }
      ],
      "source": [
        "df_copy[\"location\"].isnull().sum()"
      ]
    },
    {
      "cell_type": "code",
      "execution_count": 100,
      "id": "03bfe737",
      "metadata": {
        "id": "03bfe737"
      },
      "outputs": [],
      "source": []
    },
    {
      "cell_type": "code",
      "execution_count": 101,
      "id": "3726878a",
      "metadata": {
        "id": "3726878a"
      },
      "outputs": [],
      "source": [
        "locations = pd.DataFrame(df_copy[\"location\"].unique())"
      ]
    },
    {
      "cell_type": "code",
      "execution_count": 102,
      "id": "0bcde152",
      "metadata": {
        "id": "0bcde152"
      },
      "outputs": [],
      "source": [
        "locations.columns = [\"Name\"]"
      ]
    },
    {
      "cell_type": "code",
      "execution_count": 103,
      "id": "20d0f1a7",
      "metadata": {
        "colab": {
          "base_uri": "https://localhost:8080/",
          "height": 682
        },
        "id": "20d0f1a7",
        "outputId": "e42529f5-ce04-4c5e-d4f4-4fccabbab218"
      },
      "outputs": [
        {
          "output_type": "execute_result",
          "data": {
            "text/plain": [
              "                                                 Name\n",
              "0        Banashankari , Bangalore , Karnataka , India\n",
              "1        Basavanagudi , Bangalore , Karnataka , India\n",
              "2         Mysore Road , Bangalore , Karnataka , India\n",
              "3           Jayanagar , Bangalore , Karnataka , India\n",
              "4   Kumaraswamy Layout , Bangalore , Karnataka , I...\n",
              "..                                                ...\n",
              "88     West Bangalore , Bangalore , Karnataka , India\n",
              "89        Magadi Road , Bangalore , Karnataka , India\n",
              "90          Yelahanka , Bangalore , Karnataka , India\n",
              "91     Sahakara Nagar , Bangalore , Karnataka , India\n",
              "92             Peenya , Bangalore , Karnataka , India\n",
              "\n",
              "[93 rows x 1 columns]"
            ],
            "text/html": [
              "\n",
              "  <div id=\"df-76c6caf2-6bde-4a87-94f1-6a89d9aceabf\" class=\"colab-df-container\">\n",
              "    <div>\n",
              "<style scoped>\n",
              "    .dataframe tbody tr th:only-of-type {\n",
              "        vertical-align: middle;\n",
              "    }\n",
              "\n",
              "    .dataframe tbody tr th {\n",
              "        vertical-align: top;\n",
              "    }\n",
              "\n",
              "    .dataframe thead th {\n",
              "        text-align: right;\n",
              "    }\n",
              "</style>\n",
              "<table border=\"1\" class=\"dataframe\">\n",
              "  <thead>\n",
              "    <tr style=\"text-align: right;\">\n",
              "      <th></th>\n",
              "      <th>Name</th>\n",
              "    </tr>\n",
              "  </thead>\n",
              "  <tbody>\n",
              "    <tr>\n",
              "      <th>0</th>\n",
              "      <td>Banashankari , Bangalore , Karnataka , India</td>\n",
              "    </tr>\n",
              "    <tr>\n",
              "      <th>1</th>\n",
              "      <td>Basavanagudi , Bangalore , Karnataka , India</td>\n",
              "    </tr>\n",
              "    <tr>\n",
              "      <th>2</th>\n",
              "      <td>Mysore Road , Bangalore , Karnataka , India</td>\n",
              "    </tr>\n",
              "    <tr>\n",
              "      <th>3</th>\n",
              "      <td>Jayanagar , Bangalore , Karnataka , India</td>\n",
              "    </tr>\n",
              "    <tr>\n",
              "      <th>4</th>\n",
              "      <td>Kumaraswamy Layout , Bangalore , Karnataka , I...</td>\n",
              "    </tr>\n",
              "    <tr>\n",
              "      <th>...</th>\n",
              "      <td>...</td>\n",
              "    </tr>\n",
              "    <tr>\n",
              "      <th>88</th>\n",
              "      <td>West Bangalore , Bangalore , Karnataka , India</td>\n",
              "    </tr>\n",
              "    <tr>\n",
              "      <th>89</th>\n",
              "      <td>Magadi Road , Bangalore , Karnataka , India</td>\n",
              "    </tr>\n",
              "    <tr>\n",
              "      <th>90</th>\n",
              "      <td>Yelahanka , Bangalore , Karnataka , India</td>\n",
              "    </tr>\n",
              "    <tr>\n",
              "      <th>91</th>\n",
              "      <td>Sahakara Nagar , Bangalore , Karnataka , India</td>\n",
              "    </tr>\n",
              "    <tr>\n",
              "      <th>92</th>\n",
              "      <td>Peenya , Bangalore , Karnataka , India</td>\n",
              "    </tr>\n",
              "  </tbody>\n",
              "</table>\n",
              "<p>93 rows × 1 columns</p>\n",
              "</div>\n",
              "    <div class=\"colab-df-buttons\">\n",
              "\n",
              "  <div class=\"colab-df-container\">\n",
              "    <button class=\"colab-df-convert\" onclick=\"convertToInteractive('df-76c6caf2-6bde-4a87-94f1-6a89d9aceabf')\"\n",
              "            title=\"Convert this dataframe to an interactive table.\"\n",
              "            style=\"display:none;\">\n",
              "\n",
              "  <svg xmlns=\"http://www.w3.org/2000/svg\" height=\"24px\" viewBox=\"0 -960 960 960\">\n",
              "    <path d=\"M120-120v-720h720v720H120Zm60-500h600v-160H180v160Zm220 220h160v-160H400v160Zm0 220h160v-160H400v160ZM180-400h160v-160H180v160Zm440 0h160v-160H620v160ZM180-180h160v-160H180v160Zm440 0h160v-160H620v160Z\"/>\n",
              "  </svg>\n",
              "    </button>\n",
              "\n",
              "  <style>\n",
              "    .colab-df-container {\n",
              "      display:flex;\n",
              "      gap: 12px;\n",
              "    }\n",
              "\n",
              "    .colab-df-convert {\n",
              "      background-color: #E8F0FE;\n",
              "      border: none;\n",
              "      border-radius: 50%;\n",
              "      cursor: pointer;\n",
              "      display: none;\n",
              "      fill: #1967D2;\n",
              "      height: 32px;\n",
              "      padding: 0 0 0 0;\n",
              "      width: 32px;\n",
              "    }\n",
              "\n",
              "    .colab-df-convert:hover {\n",
              "      background-color: #E2EBFA;\n",
              "      box-shadow: 0px 1px 2px rgba(60, 64, 67, 0.3), 0px 1px 3px 1px rgba(60, 64, 67, 0.15);\n",
              "      fill: #174EA6;\n",
              "    }\n",
              "\n",
              "    .colab-df-buttons div {\n",
              "      margin-bottom: 4px;\n",
              "    }\n",
              "\n",
              "    [theme=dark] .colab-df-convert {\n",
              "      background-color: #3B4455;\n",
              "      fill: #D2E3FC;\n",
              "    }\n",
              "\n",
              "    [theme=dark] .colab-df-convert:hover {\n",
              "      background-color: #434B5C;\n",
              "      box-shadow: 0px 1px 3px 1px rgba(0, 0, 0, 0.15);\n",
              "      filter: drop-shadow(0px 1px 2px rgba(0, 0, 0, 0.3));\n",
              "      fill: #FFFFFF;\n",
              "    }\n",
              "  </style>\n",
              "\n",
              "    <script>\n",
              "      const buttonEl =\n",
              "        document.querySelector('#df-76c6caf2-6bde-4a87-94f1-6a89d9aceabf button.colab-df-convert');\n",
              "      buttonEl.style.display =\n",
              "        google.colab.kernel.accessAllowed ? 'block' : 'none';\n",
              "\n",
              "      async function convertToInteractive(key) {\n",
              "        const element = document.querySelector('#df-76c6caf2-6bde-4a87-94f1-6a89d9aceabf');\n",
              "        const dataTable =\n",
              "          await google.colab.kernel.invokeFunction('convertToInteractive',\n",
              "                                                    [key], {});\n",
              "        if (!dataTable) return;\n",
              "\n",
              "        const docLinkHtml = 'Like what you see? Visit the ' +\n",
              "          '<a target=\"_blank\" href=https://colab.research.google.com/notebooks/data_table.ipynb>data table notebook</a>'\n",
              "          + ' to learn more about interactive tables.';\n",
              "        element.innerHTML = '';\n",
              "        dataTable['output_type'] = 'display_data';\n",
              "        await google.colab.output.renderOutput(dataTable, element);\n",
              "        const docLink = document.createElement('div');\n",
              "        docLink.innerHTML = docLinkHtml;\n",
              "        element.appendChild(docLink);\n",
              "      }\n",
              "    </script>\n",
              "  </div>\n",
              "\n",
              "\n",
              "<div id=\"df-120ba6c6-047c-4877-b0bc-537dedd8c44e\">\n",
              "  <button class=\"colab-df-quickchart\" onclick=\"quickchart('df-120ba6c6-047c-4877-b0bc-537dedd8c44e')\"\n",
              "            title=\"Suggest charts.\"\n",
              "            style=\"display:none;\">\n",
              "\n",
              "<svg xmlns=\"http://www.w3.org/2000/svg\" height=\"24px\"viewBox=\"0 0 24 24\"\n",
              "     width=\"24px\">\n",
              "    <g>\n",
              "        <path d=\"M19 3H5c-1.1 0-2 .9-2 2v14c0 1.1.9 2 2 2h14c1.1 0 2-.9 2-2V5c0-1.1-.9-2-2-2zM9 17H7v-7h2v7zm4 0h-2V7h2v10zm4 0h-2v-4h2v4z\"/>\n",
              "    </g>\n",
              "</svg>\n",
              "  </button>\n",
              "\n",
              "<style>\n",
              "  .colab-df-quickchart {\n",
              "    background-color: #E8F0FE;\n",
              "    border: none;\n",
              "    border-radius: 50%;\n",
              "    cursor: pointer;\n",
              "    display: none;\n",
              "    fill: #1967D2;\n",
              "    height: 32px;\n",
              "    padding: 0 0 0 0;\n",
              "    width: 32px;\n",
              "  }\n",
              "\n",
              "  .colab-df-quickchart:hover {\n",
              "    background-color: #E2EBFA;\n",
              "    box-shadow: 0px 1px 2px rgba(60, 64, 67, 0.3), 0px 1px 3px 1px rgba(60, 64, 67, 0.15);\n",
              "    fill: #174EA6;\n",
              "  }\n",
              "\n",
              "  [theme=dark] .colab-df-quickchart {\n",
              "    background-color: #3B4455;\n",
              "    fill: #D2E3FC;\n",
              "  }\n",
              "\n",
              "  [theme=dark] .colab-df-quickchart:hover {\n",
              "    background-color: #434B5C;\n",
              "    box-shadow: 0px 1px 3px 1px rgba(0, 0, 0, 0.15);\n",
              "    filter: drop-shadow(0px 1px 2px rgba(0, 0, 0, 0.3));\n",
              "    fill: #FFFFFF;\n",
              "  }\n",
              "</style>\n",
              "\n",
              "  <script>\n",
              "    async function quickchart(key) {\n",
              "      const charts = await google.colab.kernel.invokeFunction(\n",
              "          'suggestCharts', [key], {});\n",
              "    }\n",
              "    (() => {\n",
              "      let quickchartButtonEl =\n",
              "        document.querySelector('#df-120ba6c6-047c-4877-b0bc-537dedd8c44e button');\n",
              "      quickchartButtonEl.style.display =\n",
              "        google.colab.kernel.accessAllowed ? 'block' : 'none';\n",
              "    })();\n",
              "  </script>\n",
              "</div>\n",
              "    </div>\n",
              "  </div>\n"
            ]
          },
          "metadata": {},
          "execution_count": 103
        }
      ],
      "source": [
        "locations"
      ]
    },
    {
      "cell_type": "code",
      "execution_count": 103,
      "id": "e63be3be",
      "metadata": {
        "id": "e63be3be"
      },
      "outputs": [],
      "source": []
    },
    {
      "cell_type": "code",
      "execution_count": 103,
      "id": "d6b7da90",
      "metadata": {
        "id": "d6b7da90"
      },
      "outputs": [],
      "source": []
    },
    {
      "cell_type": "code",
      "execution_count": 104,
      "id": "64f984b5",
      "metadata": {
        "id": "64f984b5"
      },
      "outputs": [],
      "source": [
        "from geopy.geocoders import Nominatim"
      ]
    },
    {
      "cell_type": "code",
      "execution_count": 105,
      "id": "49e9ffa9",
      "metadata": {
        "id": "49e9ffa9"
      },
      "outputs": [],
      "source": [
        "geolocator = Nominatim(user_agent=\"app\", timeout=None)\n",
        "# \"app\" is used to establish connection with Nominatim\n",
        "# Just to avoid timeout error ...timeout =  None is done"
      ]
    },
    {
      "cell_type": "code",
      "execution_count": 106,
      "id": "a3ae7bc7",
      "metadata": {
        "id": "a3ae7bc7"
      },
      "outputs": [],
      "source": [
        "lat = []\n",
        "lon = []\n",
        "\n",
        "for location in locations[\"Name\"]:\n",
        "    location = geolocator.geocode(location)\n",
        "    if location is None:\n",
        "        lat.append(np.nan)\n",
        "        lon.append(np.nan)\n",
        "    else:\n",
        "        lat.append(location.latitude)\n",
        "        lon.append(location.longitude)"
      ]
    },
    {
      "cell_type": "code",
      "execution_count": 106,
      "id": "7ae69956",
      "metadata": {
        "id": "7ae69956"
      },
      "outputs": [],
      "source": []
    },
    {
      "cell_type": "code",
      "execution_count": 107,
      "id": "00233d88",
      "metadata": {
        "id": "00233d88"
      },
      "outputs": [],
      "source": [
        "locations[\"latitude\"] = lat\n",
        "locations[\"longitude\"] = lon"
      ]
    },
    {
      "cell_type": "code",
      "execution_count": 108,
      "id": "5ed31781",
      "metadata": {
        "colab": {
          "base_uri": "https://localhost:8080/",
          "height": 682
        },
        "id": "5ed31781",
        "outputId": "d6d699b0-53fd-43b2-a7cb-7ae387990921"
      },
      "outputs": [
        {
          "output_type": "execute_result",
          "data": {
            "text/plain": [
              "                                                 Name   latitude  longitude\n",
              "0        Banashankari , Bangalore , Karnataka , India  12.915221  77.573598\n",
              "1        Basavanagudi , Bangalore , Karnataka , India  12.941726  77.575502\n",
              "2         Mysore Road , Bangalore , Karnataka , India  12.946703  77.530070\n",
              "3           Jayanagar , Bangalore , Karnataka , India  12.929273  77.582423\n",
              "4   Kumaraswamy Layout , Bangalore , Karnataka , I...  12.908149  77.555318\n",
              "..                                                ...        ...        ...\n",
              "88     West Bangalore , Bangalore , Karnataka , India  13.022235  77.567183\n",
              "89        Magadi Road , Bangalore , Karnataka , India  12.975608  77.555356\n",
              "90          Yelahanka , Bangalore , Karnataka , India  13.100698  77.596345\n",
              "91     Sahakara Nagar , Bangalore , Karnataka , India  13.062147  77.580061\n",
              "92             Peenya , Bangalore , Karnataka , India  13.032942  77.527325\n",
              "\n",
              "[93 rows x 3 columns]"
            ],
            "text/html": [
              "\n",
              "  <div id=\"df-eb6ad32d-c64e-4f91-8f2b-a3274dd3a709\" class=\"colab-df-container\">\n",
              "    <div>\n",
              "<style scoped>\n",
              "    .dataframe tbody tr th:only-of-type {\n",
              "        vertical-align: middle;\n",
              "    }\n",
              "\n",
              "    .dataframe tbody tr th {\n",
              "        vertical-align: top;\n",
              "    }\n",
              "\n",
              "    .dataframe thead th {\n",
              "        text-align: right;\n",
              "    }\n",
              "</style>\n",
              "<table border=\"1\" class=\"dataframe\">\n",
              "  <thead>\n",
              "    <tr style=\"text-align: right;\">\n",
              "      <th></th>\n",
              "      <th>Name</th>\n",
              "      <th>latitude</th>\n",
              "      <th>longitude</th>\n",
              "    </tr>\n",
              "  </thead>\n",
              "  <tbody>\n",
              "    <tr>\n",
              "      <th>0</th>\n",
              "      <td>Banashankari , Bangalore , Karnataka , India</td>\n",
              "      <td>12.915221</td>\n",
              "      <td>77.573598</td>\n",
              "    </tr>\n",
              "    <tr>\n",
              "      <th>1</th>\n",
              "      <td>Basavanagudi , Bangalore , Karnataka , India</td>\n",
              "      <td>12.941726</td>\n",
              "      <td>77.575502</td>\n",
              "    </tr>\n",
              "    <tr>\n",
              "      <th>2</th>\n",
              "      <td>Mysore Road , Bangalore , Karnataka , India</td>\n",
              "      <td>12.946703</td>\n",
              "      <td>77.530070</td>\n",
              "    </tr>\n",
              "    <tr>\n",
              "      <th>3</th>\n",
              "      <td>Jayanagar , Bangalore , Karnataka , India</td>\n",
              "      <td>12.929273</td>\n",
              "      <td>77.582423</td>\n",
              "    </tr>\n",
              "    <tr>\n",
              "      <th>4</th>\n",
              "      <td>Kumaraswamy Layout , Bangalore , Karnataka , I...</td>\n",
              "      <td>12.908149</td>\n",
              "      <td>77.555318</td>\n",
              "    </tr>\n",
              "    <tr>\n",
              "      <th>...</th>\n",
              "      <td>...</td>\n",
              "      <td>...</td>\n",
              "      <td>...</td>\n",
              "    </tr>\n",
              "    <tr>\n",
              "      <th>88</th>\n",
              "      <td>West Bangalore , Bangalore , Karnataka , India</td>\n",
              "      <td>13.022235</td>\n",
              "      <td>77.567183</td>\n",
              "    </tr>\n",
              "    <tr>\n",
              "      <th>89</th>\n",
              "      <td>Magadi Road , Bangalore , Karnataka , India</td>\n",
              "      <td>12.975608</td>\n",
              "      <td>77.555356</td>\n",
              "    </tr>\n",
              "    <tr>\n",
              "      <th>90</th>\n",
              "      <td>Yelahanka , Bangalore , Karnataka , India</td>\n",
              "      <td>13.100698</td>\n",
              "      <td>77.596345</td>\n",
              "    </tr>\n",
              "    <tr>\n",
              "      <th>91</th>\n",
              "      <td>Sahakara Nagar , Bangalore , Karnataka , India</td>\n",
              "      <td>13.062147</td>\n",
              "      <td>77.580061</td>\n",
              "    </tr>\n",
              "    <tr>\n",
              "      <th>92</th>\n",
              "      <td>Peenya , Bangalore , Karnataka , India</td>\n",
              "      <td>13.032942</td>\n",
              "      <td>77.527325</td>\n",
              "    </tr>\n",
              "  </tbody>\n",
              "</table>\n",
              "<p>93 rows × 3 columns</p>\n",
              "</div>\n",
              "    <div class=\"colab-df-buttons\">\n",
              "\n",
              "  <div class=\"colab-df-container\">\n",
              "    <button class=\"colab-df-convert\" onclick=\"convertToInteractive('df-eb6ad32d-c64e-4f91-8f2b-a3274dd3a709')\"\n",
              "            title=\"Convert this dataframe to an interactive table.\"\n",
              "            style=\"display:none;\">\n",
              "\n",
              "  <svg xmlns=\"http://www.w3.org/2000/svg\" height=\"24px\" viewBox=\"0 -960 960 960\">\n",
              "    <path d=\"M120-120v-720h720v720H120Zm60-500h600v-160H180v160Zm220 220h160v-160H400v160Zm0 220h160v-160H400v160ZM180-400h160v-160H180v160Zm440 0h160v-160H620v160ZM180-180h160v-160H180v160Zm440 0h160v-160H620v160Z\"/>\n",
              "  </svg>\n",
              "    </button>\n",
              "\n",
              "  <style>\n",
              "    .colab-df-container {\n",
              "      display:flex;\n",
              "      gap: 12px;\n",
              "    }\n",
              "\n",
              "    .colab-df-convert {\n",
              "      background-color: #E8F0FE;\n",
              "      border: none;\n",
              "      border-radius: 50%;\n",
              "      cursor: pointer;\n",
              "      display: none;\n",
              "      fill: #1967D2;\n",
              "      height: 32px;\n",
              "      padding: 0 0 0 0;\n",
              "      width: 32px;\n",
              "    }\n",
              "\n",
              "    .colab-df-convert:hover {\n",
              "      background-color: #E2EBFA;\n",
              "      box-shadow: 0px 1px 2px rgba(60, 64, 67, 0.3), 0px 1px 3px 1px rgba(60, 64, 67, 0.15);\n",
              "      fill: #174EA6;\n",
              "    }\n",
              "\n",
              "    .colab-df-buttons div {\n",
              "      margin-bottom: 4px;\n",
              "    }\n",
              "\n",
              "    [theme=dark] .colab-df-convert {\n",
              "      background-color: #3B4455;\n",
              "      fill: #D2E3FC;\n",
              "    }\n",
              "\n",
              "    [theme=dark] .colab-df-convert:hover {\n",
              "      background-color: #434B5C;\n",
              "      box-shadow: 0px 1px 3px 1px rgba(0, 0, 0, 0.15);\n",
              "      filter: drop-shadow(0px 1px 2px rgba(0, 0, 0, 0.3));\n",
              "      fill: #FFFFFF;\n",
              "    }\n",
              "  </style>\n",
              "\n",
              "    <script>\n",
              "      const buttonEl =\n",
              "        document.querySelector('#df-eb6ad32d-c64e-4f91-8f2b-a3274dd3a709 button.colab-df-convert');\n",
              "      buttonEl.style.display =\n",
              "        google.colab.kernel.accessAllowed ? 'block' : 'none';\n",
              "\n",
              "      async function convertToInteractive(key) {\n",
              "        const element = document.querySelector('#df-eb6ad32d-c64e-4f91-8f2b-a3274dd3a709');\n",
              "        const dataTable =\n",
              "          await google.colab.kernel.invokeFunction('convertToInteractive',\n",
              "                                                    [key], {});\n",
              "        if (!dataTable) return;\n",
              "\n",
              "        const docLinkHtml = 'Like what you see? Visit the ' +\n",
              "          '<a target=\"_blank\" href=https://colab.research.google.com/notebooks/data_table.ipynb>data table notebook</a>'\n",
              "          + ' to learn more about interactive tables.';\n",
              "        element.innerHTML = '';\n",
              "        dataTable['output_type'] = 'display_data';\n",
              "        await google.colab.output.renderOutput(dataTable, element);\n",
              "        const docLink = document.createElement('div');\n",
              "        docLink.innerHTML = docLinkHtml;\n",
              "        element.appendChild(docLink);\n",
              "      }\n",
              "    </script>\n",
              "  </div>\n",
              "\n",
              "\n",
              "<div id=\"df-112342ad-838d-4711-8f68-432603c4abca\">\n",
              "  <button class=\"colab-df-quickchart\" onclick=\"quickchart('df-112342ad-838d-4711-8f68-432603c4abca')\"\n",
              "            title=\"Suggest charts.\"\n",
              "            style=\"display:none;\">\n",
              "\n",
              "<svg xmlns=\"http://www.w3.org/2000/svg\" height=\"24px\"viewBox=\"0 0 24 24\"\n",
              "     width=\"24px\">\n",
              "    <g>\n",
              "        <path d=\"M19 3H5c-1.1 0-2 .9-2 2v14c0 1.1.9 2 2 2h14c1.1 0 2-.9 2-2V5c0-1.1-.9-2-2-2zM9 17H7v-7h2v7zm4 0h-2V7h2v10zm4 0h-2v-4h2v4z\"/>\n",
              "    </g>\n",
              "</svg>\n",
              "  </button>\n",
              "\n",
              "<style>\n",
              "  .colab-df-quickchart {\n",
              "    background-color: #E8F0FE;\n",
              "    border: none;\n",
              "    border-radius: 50%;\n",
              "    cursor: pointer;\n",
              "    display: none;\n",
              "    fill: #1967D2;\n",
              "    height: 32px;\n",
              "    padding: 0 0 0 0;\n",
              "    width: 32px;\n",
              "  }\n",
              "\n",
              "  .colab-df-quickchart:hover {\n",
              "    background-color: #E2EBFA;\n",
              "    box-shadow: 0px 1px 2px rgba(60, 64, 67, 0.3), 0px 1px 3px 1px rgba(60, 64, 67, 0.15);\n",
              "    fill: #174EA6;\n",
              "  }\n",
              "\n",
              "  [theme=dark] .colab-df-quickchart {\n",
              "    background-color: #3B4455;\n",
              "    fill: #D2E3FC;\n",
              "  }\n",
              "\n",
              "  [theme=dark] .colab-df-quickchart:hover {\n",
              "    background-color: #434B5C;\n",
              "    box-shadow: 0px 1px 3px 1px rgba(0, 0, 0, 0.15);\n",
              "    filter: drop-shadow(0px 1px 2px rgba(0, 0, 0, 0.3));\n",
              "    fill: #FFFFFF;\n",
              "  }\n",
              "</style>\n",
              "\n",
              "  <script>\n",
              "    async function quickchart(key) {\n",
              "      const charts = await google.colab.kernel.invokeFunction(\n",
              "          'suggestCharts', [key], {});\n",
              "    }\n",
              "    (() => {\n",
              "      let quickchartButtonEl =\n",
              "        document.querySelector('#df-112342ad-838d-4711-8f68-432603c4abca button');\n",
              "      quickchartButtonEl.style.display =\n",
              "        google.colab.kernel.accessAllowed ? 'block' : 'none';\n",
              "    })();\n",
              "  </script>\n",
              "</div>\n",
              "    </div>\n",
              "  </div>\n"
            ]
          },
          "metadata": {},
          "execution_count": 108
        }
      ],
      "source": [
        "locations"
      ]
    },
    {
      "cell_type": "code",
      "execution_count": 108,
      "id": "4da12dda",
      "metadata": {
        "id": "4da12dda"
      },
      "outputs": [],
      "source": []
    },
    {
      "cell_type": "code",
      "execution_count": 108,
      "id": "e0d1349a",
      "metadata": {
        "id": "e0d1349a"
      },
      "outputs": [],
      "source": []
    },
    {
      "cell_type": "code",
      "execution_count": 108,
      "id": "a8fc3857",
      "metadata": {
        "id": "a8fc3857"
      },
      "outputs": [],
      "source": []
    },
    {
      "cell_type": "markdown",
      "id": "c44b456f",
      "metadata": {
        "id": "c44b456f"
      },
      "source": [
        "### Let's build the geographhical Heat-Maps"
      ]
    },
    {
      "cell_type": "code",
      "execution_count": 109,
      "id": "2f5216b7",
      "metadata": {
        "colab": {
          "base_uri": "https://localhost:8080/"
        },
        "id": "2f5216b7",
        "outputId": "01d29c2c-5824-4957-9477-54cd0b92135e"
      },
      "outputs": [
        {
          "output_type": "execute_result",
          "data": {
            "text/plain": [
              "Name         0\n",
              "latitude     2\n",
              "longitude    2\n",
              "dtype: int64"
            ]
          },
          "metadata": {},
          "execution_count": 109
        }
      ],
      "source": [
        "locations.isnull().sum()"
      ]
    },
    {
      "cell_type": "code",
      "execution_count": 109,
      "id": "2a09d154",
      "metadata": {
        "id": "2a09d154"
      },
      "outputs": [],
      "source": []
    },
    {
      "cell_type": "code",
      "execution_count": 110,
      "id": "7d5fac8b",
      "metadata": {
        "colab": {
          "base_uri": "https://localhost:8080/",
          "height": 181
        },
        "id": "7d5fac8b",
        "outputId": "bee7311f-6126-4f0c-9858-80f18b22534e"
      },
      "outputs": [
        {
          "output_type": "execute_result",
          "data": {
            "text/plain": [
              "                                               Name  latitude  longitude\n",
              "79  Rammurthy Nagar , Bangalore , Karnataka , India       NaN        NaN\n",
              "85   Sadashiv Nagar , Bangalore , Karnataka , India       NaN        NaN"
            ],
            "text/html": [
              "\n",
              "  <div id=\"df-8a434475-9515-44cb-9c52-f49d5ddbc74e\" class=\"colab-df-container\">\n",
              "    <div>\n",
              "<style scoped>\n",
              "    .dataframe tbody tr th:only-of-type {\n",
              "        vertical-align: middle;\n",
              "    }\n",
              "\n",
              "    .dataframe tbody tr th {\n",
              "        vertical-align: top;\n",
              "    }\n",
              "\n",
              "    .dataframe thead th {\n",
              "        text-align: right;\n",
              "    }\n",
              "</style>\n",
              "<table border=\"1\" class=\"dataframe\">\n",
              "  <thead>\n",
              "    <tr style=\"text-align: right;\">\n",
              "      <th></th>\n",
              "      <th>Name</th>\n",
              "      <th>latitude</th>\n",
              "      <th>longitude</th>\n",
              "    </tr>\n",
              "  </thead>\n",
              "  <tbody>\n",
              "    <tr>\n",
              "      <th>79</th>\n",
              "      <td>Rammurthy Nagar , Bangalore , Karnataka , India</td>\n",
              "      <td>NaN</td>\n",
              "      <td>NaN</td>\n",
              "    </tr>\n",
              "    <tr>\n",
              "      <th>85</th>\n",
              "      <td>Sadashiv Nagar , Bangalore , Karnataka , India</td>\n",
              "      <td>NaN</td>\n",
              "      <td>NaN</td>\n",
              "    </tr>\n",
              "  </tbody>\n",
              "</table>\n",
              "</div>\n",
              "    <div class=\"colab-df-buttons\">\n",
              "\n",
              "  <div class=\"colab-df-container\">\n",
              "    <button class=\"colab-df-convert\" onclick=\"convertToInteractive('df-8a434475-9515-44cb-9c52-f49d5ddbc74e')\"\n",
              "            title=\"Convert this dataframe to an interactive table.\"\n",
              "            style=\"display:none;\">\n",
              "\n",
              "  <svg xmlns=\"http://www.w3.org/2000/svg\" height=\"24px\" viewBox=\"0 -960 960 960\">\n",
              "    <path d=\"M120-120v-720h720v720H120Zm60-500h600v-160H180v160Zm220 220h160v-160H400v160Zm0 220h160v-160H400v160ZM180-400h160v-160H180v160Zm440 0h160v-160H620v160ZM180-180h160v-160H180v160Zm440 0h160v-160H620v160Z\"/>\n",
              "  </svg>\n",
              "    </button>\n",
              "\n",
              "  <style>\n",
              "    .colab-df-container {\n",
              "      display:flex;\n",
              "      gap: 12px;\n",
              "    }\n",
              "\n",
              "    .colab-df-convert {\n",
              "      background-color: #E8F0FE;\n",
              "      border: none;\n",
              "      border-radius: 50%;\n",
              "      cursor: pointer;\n",
              "      display: none;\n",
              "      fill: #1967D2;\n",
              "      height: 32px;\n",
              "      padding: 0 0 0 0;\n",
              "      width: 32px;\n",
              "    }\n",
              "\n",
              "    .colab-df-convert:hover {\n",
              "      background-color: #E2EBFA;\n",
              "      box-shadow: 0px 1px 2px rgba(60, 64, 67, 0.3), 0px 1px 3px 1px rgba(60, 64, 67, 0.15);\n",
              "      fill: #174EA6;\n",
              "    }\n",
              "\n",
              "    .colab-df-buttons div {\n",
              "      margin-bottom: 4px;\n",
              "    }\n",
              "\n",
              "    [theme=dark] .colab-df-convert {\n",
              "      background-color: #3B4455;\n",
              "      fill: #D2E3FC;\n",
              "    }\n",
              "\n",
              "    [theme=dark] .colab-df-convert:hover {\n",
              "      background-color: #434B5C;\n",
              "      box-shadow: 0px 1px 3px 1px rgba(0, 0, 0, 0.15);\n",
              "      filter: drop-shadow(0px 1px 2px rgba(0, 0, 0, 0.3));\n",
              "      fill: #FFFFFF;\n",
              "    }\n",
              "  </style>\n",
              "\n",
              "    <script>\n",
              "      const buttonEl =\n",
              "        document.querySelector('#df-8a434475-9515-44cb-9c52-f49d5ddbc74e button.colab-df-convert');\n",
              "      buttonEl.style.display =\n",
              "        google.colab.kernel.accessAllowed ? 'block' : 'none';\n",
              "\n",
              "      async function convertToInteractive(key) {\n",
              "        const element = document.querySelector('#df-8a434475-9515-44cb-9c52-f49d5ddbc74e');\n",
              "        const dataTable =\n",
              "          await google.colab.kernel.invokeFunction('convertToInteractive',\n",
              "                                                    [key], {});\n",
              "        if (!dataTable) return;\n",
              "\n",
              "        const docLinkHtml = 'Like what you see? Visit the ' +\n",
              "          '<a target=\"_blank\" href=https://colab.research.google.com/notebooks/data_table.ipynb>data table notebook</a>'\n",
              "          + ' to learn more about interactive tables.';\n",
              "        element.innerHTML = '';\n",
              "        dataTable['output_type'] = 'display_data';\n",
              "        await google.colab.output.renderOutput(dataTable, element);\n",
              "        const docLink = document.createElement('div');\n",
              "        docLink.innerHTML = docLinkHtml;\n",
              "        element.appendChild(docLink);\n",
              "      }\n",
              "    </script>\n",
              "  </div>\n",
              "\n",
              "    </div>\n",
              "  </div>\n"
            ]
          },
          "metadata": {},
          "execution_count": 110
        }
      ],
      "source": [
        "locations[locations[\"latitude\"].isnull()]"
      ]
    },
    {
      "cell_type": "code",
      "execution_count": 111,
      "id": "96327ab5",
      "metadata": {
        "id": "96327ab5"
      },
      "outputs": [],
      "source": [
        "from warnings import filterwarnings\n",
        "filterwarnings(\"ignore\")"
      ]
    },
    {
      "cell_type": "code",
      "execution_count": 112,
      "id": "3a847772",
      "metadata": {
        "scrolled": true,
        "colab": {
          "base_uri": "https://localhost:8080/"
        },
        "id": "3a847772",
        "outputId": "07b888fc-724c-4eb5-cc54-db3b674f35be"
      },
      "outputs": [
        {
          "output_type": "execute_result",
          "data": {
            "text/plain": [
              "Name         St. Marks Road , Bangalore , Karnataka , India\n",
              "latitude                                          12.974426\n",
              "longitude                                         77.601539\n",
              "Name: 45, dtype: object"
            ]
          },
          "metadata": {},
          "execution_count": 112
        }
      ],
      "source": [
        "locations.loc[45]"
      ]
    },
    {
      "cell_type": "code",
      "execution_count": 113,
      "id": "f09b6797",
      "metadata": {
        "id": "f09b6797"
      },
      "outputs": [],
      "source": [
        "locations[\"latitude\"][79] = 13.0163\n",
        "locations[\"longitude\"][79] = 77.6785\n",
        "\n",
        "locations[\"latitude\"][85] = 13.0068\n",
        "locations[\"longitude\"][85] = 77.5813"
      ]
    },
    {
      "cell_type": "code",
      "execution_count": 113,
      "id": "83477fe7",
      "metadata": {
        "id": "83477fe7"
      },
      "outputs": [],
      "source": []
    },
    {
      "cell_type": "code",
      "execution_count": 114,
      "id": "25f3629e",
      "metadata": {
        "colab": {
          "base_uri": "https://localhost:8080/"
        },
        "id": "25f3629e",
        "outputId": "7b380e96-9788-438e-8038-64fcd2ea3d0f"
      },
      "outputs": [
        {
          "output_type": "execute_result",
          "data": {
            "text/plain": [
              "Name         0\n",
              "latitude     0\n",
              "longitude    0\n",
              "dtype: int64"
            ]
          },
          "metadata": {},
          "execution_count": 114
        }
      ],
      "source": [
        "locations.isnull().sum()"
      ]
    },
    {
      "cell_type": "code",
      "execution_count": 114,
      "id": "08afcfd9",
      "metadata": {
        "id": "08afcfd9"
      },
      "outputs": [],
      "source": []
    },
    {
      "cell_type": "code",
      "execution_count": 114,
      "id": "1a0fe5b2",
      "metadata": {
        "id": "1a0fe5b2"
      },
      "outputs": [],
      "source": []
    },
    {
      "cell_type": "code",
      "execution_count": 114,
      "id": "0c17ec4d",
      "metadata": {
        "id": "0c17ec4d"
      },
      "outputs": [],
      "source": []
    },
    {
      "cell_type": "code",
      "execution_count": 115,
      "id": "dd6a5ea1",
      "metadata": {
        "colab": {
          "base_uri": "https://localhost:8080/"
        },
        "id": "dd6a5ea1",
        "outputId": "5a52ca9c-cb9c-4023-f5d6-827f551294ec"
      },
      "outputs": [
        {
          "output_type": "execute_result",
          "data": {
            "text/plain": [
              "0                North Indian, Mughlai, Chinese\n",
              "1                   Chinese, North Indian, Thai\n",
              "2                        Cafe, Mexican, Italian\n",
              "3                    South Indian, North Indian\n",
              "4                      North Indian, Rajasthani\n",
              "                          ...                  \n",
              "51712                               Continental\n",
              "51713                               Finger Food\n",
              "51714                               Finger Food\n",
              "51715                               Finger Food\n",
              "51716    Finger Food, North Indian, Continental\n",
              "Name: cuisines, Length: 51717, dtype: object"
            ]
          },
          "metadata": {},
          "execution_count": 115
        }
      ],
      "source": [
        "df[\"cuisines\"]"
      ]
    },
    {
      "cell_type": "code",
      "execution_count": 116,
      "id": "42816b2d",
      "metadata": {
        "colab": {
          "base_uri": "https://localhost:8080/"
        },
        "id": "42816b2d",
        "outputId": "be9c325e-4294-49c8-9aa0-4d82752e7c44"
      },
      "outputs": [
        {
          "output_type": "execute_result",
          "data": {
            "text/plain": [
              "0         True\n",
              "1         True\n",
              "2        False\n",
              "3         True\n",
              "4         True\n",
              "         ...  \n",
              "51712    False\n",
              "51713    False\n",
              "51714    False\n",
              "51715    False\n",
              "51716     True\n",
              "Name: cuisines, Length: 51717, dtype: object"
            ]
          },
          "metadata": {},
          "execution_count": 116
        }
      ],
      "source": [
        "df[\"cuisines\"].str.contains(\"North Indian\")"
      ]
    },
    {
      "cell_type": "code",
      "execution_count": 116,
      "id": "b42514fe",
      "metadata": {
        "id": "b42514fe"
      },
      "outputs": [],
      "source": []
    },
    {
      "cell_type": "code",
      "execution_count": 117,
      "id": "1052fc6c",
      "metadata": {
        "colab": {
          "base_uri": "https://localhost:8080/"
        },
        "id": "1052fc6c",
        "outputId": "3de1265d-097d-4d4d-8ea0-26c2f478e115"
      },
      "outputs": [
        {
          "output_type": "execute_result",
          "data": {
            "text/plain": [
              "45"
            ]
          },
          "metadata": {},
          "execution_count": 117
        }
      ],
      "source": [
        "df[\"cuisines\"].str.contains(\"North Indian\").isnull().sum()"
      ]
    },
    {
      "cell_type": "code",
      "execution_count": 118,
      "id": "6911d679",
      "metadata": {
        "id": "6911d679"
      },
      "outputs": [],
      "source": [
        "df = df.dropna(subset = [\"cuisines\"])"
      ]
    },
    {
      "cell_type": "code",
      "execution_count": 118,
      "id": "bfd21fcc",
      "metadata": {
        "id": "bfd21fcc"
      },
      "outputs": [],
      "source": []
    },
    {
      "cell_type": "code",
      "execution_count": 119,
      "id": "3d250293",
      "metadata": {
        "id": "3d250293"
      },
      "outputs": [],
      "source": [
        "north_india = df[df[\"cuisines\"].str.contains(\"North Indian\")]"
      ]
    },
    {
      "cell_type": "code",
      "execution_count": 120,
      "id": "4fc0c2e2",
      "metadata": {
        "colab": {
          "base_uri": "https://localhost:8080/"
        },
        "id": "4fc0c2e2",
        "outputId": "fee45af5-910d-4318-c0da-683cc369a16f"
      },
      "outputs": [
        {
          "output_type": "execute_result",
          "data": {
            "text/plain": [
              "(21085, 18)"
            ]
          },
          "metadata": {},
          "execution_count": 120
        }
      ],
      "source": [
        "north_india.shape"
      ]
    },
    {
      "cell_type": "code",
      "execution_count": 121,
      "id": "f548ccf4",
      "metadata": {
        "colab": {
          "base_uri": "https://localhost:8080/",
          "height": 340
        },
        "id": "f548ccf4",
        "outputId": "770b6cb8-ce46-4706-8fd4-47b929760868"
      },
      "outputs": [
        {
          "output_type": "execute_result",
          "data": {
            "text/plain": [
              "   index                                                url  \\\n",
              "0      0  https://www.zomato.com/bangalore/jalsa-banasha...   \n",
              "1      1  https://www.zomato.com/bangalore/spice-elephan...   \n",
              "\n",
              "                                             address            name  \\\n",
              "0  942, 21st Main Road, 2nd Stage, Banashankari, ...           Jalsa   \n",
              "1  2nd Floor, 80 Feet Road, Near Big Bazaar, 6th ...  Spice Elephant   \n",
              "\n",
              "  online_order book_table  rate  votes                           phone  \\\n",
              "0          Yes        Yes   4.1    775  080 42297555\\r\\n+91 9743772233   \n",
              "1          Yes         No   4.1    787                    080 41714161   \n",
              "\n",
              "                                       location      rest_type  \\\n",
              "0  Banashankari , Bangalore , Karnataka , India  Casual Dining   \n",
              "1  Banashankari , Bangalore , Karnataka , India  Casual Dining   \n",
              "\n",
              "                                          dish_liked  \\\n",
              "0  Pasta, Lunch Buffet, Masala Papad, Paneer Laja...   \n",
              "1  Momos, Lunch Buffet, Chocolate Nirvana, Thai G...   \n",
              "\n",
              "                         cuisines approx_cost(for two people)  \\\n",
              "0  North Indian, Mughlai, Chinese                         800   \n",
              "1     Chinese, North Indian, Thai                         800   \n",
              "\n",
              "                                        reviews_list menu_item  \\\n",
              "0  [('Rated 4.0', 'RATED\\n  A beautiful place to ...        []   \n",
              "1  [('Rated 4.0', 'RATED\\n  Had been here for din...        []   \n",
              "\n",
              "  listed_in(type) listed_in(city)  \n",
              "0          Buffet    Banashankari  \n",
              "1          Buffet    Banashankari  "
            ],
            "text/html": [
              "\n",
              "  <div id=\"df-f9ce53b7-78e5-4fa6-bd0d-a102849f7b41\" class=\"colab-df-container\">\n",
              "    <div>\n",
              "<style scoped>\n",
              "    .dataframe tbody tr th:only-of-type {\n",
              "        vertical-align: middle;\n",
              "    }\n",
              "\n",
              "    .dataframe tbody tr th {\n",
              "        vertical-align: top;\n",
              "    }\n",
              "\n",
              "    .dataframe thead th {\n",
              "        text-align: right;\n",
              "    }\n",
              "</style>\n",
              "<table border=\"1\" class=\"dataframe\">\n",
              "  <thead>\n",
              "    <tr style=\"text-align: right;\">\n",
              "      <th></th>\n",
              "      <th>index</th>\n",
              "      <th>url</th>\n",
              "      <th>address</th>\n",
              "      <th>name</th>\n",
              "      <th>online_order</th>\n",
              "      <th>book_table</th>\n",
              "      <th>rate</th>\n",
              "      <th>votes</th>\n",
              "      <th>phone</th>\n",
              "      <th>location</th>\n",
              "      <th>rest_type</th>\n",
              "      <th>dish_liked</th>\n",
              "      <th>cuisines</th>\n",
              "      <th>approx_cost(for two people)</th>\n",
              "      <th>reviews_list</th>\n",
              "      <th>menu_item</th>\n",
              "      <th>listed_in(type)</th>\n",
              "      <th>listed_in(city)</th>\n",
              "    </tr>\n",
              "  </thead>\n",
              "  <tbody>\n",
              "    <tr>\n",
              "      <th>0</th>\n",
              "      <td>0</td>\n",
              "      <td>https://www.zomato.com/bangalore/jalsa-banasha...</td>\n",
              "      <td>942, 21st Main Road, 2nd Stage, Banashankari, ...</td>\n",
              "      <td>Jalsa</td>\n",
              "      <td>Yes</td>\n",
              "      <td>Yes</td>\n",
              "      <td>4.1</td>\n",
              "      <td>775</td>\n",
              "      <td>080 42297555\\r\\n+91 9743772233</td>\n",
              "      <td>Banashankari , Bangalore , Karnataka , India</td>\n",
              "      <td>Casual Dining</td>\n",
              "      <td>Pasta, Lunch Buffet, Masala Papad, Paneer Laja...</td>\n",
              "      <td>North Indian, Mughlai, Chinese</td>\n",
              "      <td>800</td>\n",
              "      <td>[('Rated 4.0', 'RATED\\n  A beautiful place to ...</td>\n",
              "      <td>[]</td>\n",
              "      <td>Buffet</td>\n",
              "      <td>Banashankari</td>\n",
              "    </tr>\n",
              "    <tr>\n",
              "      <th>1</th>\n",
              "      <td>1</td>\n",
              "      <td>https://www.zomato.com/bangalore/spice-elephan...</td>\n",
              "      <td>2nd Floor, 80 Feet Road, Near Big Bazaar, 6th ...</td>\n",
              "      <td>Spice Elephant</td>\n",
              "      <td>Yes</td>\n",
              "      <td>No</td>\n",
              "      <td>4.1</td>\n",
              "      <td>787</td>\n",
              "      <td>080 41714161</td>\n",
              "      <td>Banashankari , Bangalore , Karnataka , India</td>\n",
              "      <td>Casual Dining</td>\n",
              "      <td>Momos, Lunch Buffet, Chocolate Nirvana, Thai G...</td>\n",
              "      <td>Chinese, North Indian, Thai</td>\n",
              "      <td>800</td>\n",
              "      <td>[('Rated 4.0', 'RATED\\n  Had been here for din...</td>\n",
              "      <td>[]</td>\n",
              "      <td>Buffet</td>\n",
              "      <td>Banashankari</td>\n",
              "    </tr>\n",
              "  </tbody>\n",
              "</table>\n",
              "</div>\n",
              "    <div class=\"colab-df-buttons\">\n",
              "\n",
              "  <div class=\"colab-df-container\">\n",
              "    <button class=\"colab-df-convert\" onclick=\"convertToInteractive('df-f9ce53b7-78e5-4fa6-bd0d-a102849f7b41')\"\n",
              "            title=\"Convert this dataframe to an interactive table.\"\n",
              "            style=\"display:none;\">\n",
              "\n",
              "  <svg xmlns=\"http://www.w3.org/2000/svg\" height=\"24px\" viewBox=\"0 -960 960 960\">\n",
              "    <path d=\"M120-120v-720h720v720H120Zm60-500h600v-160H180v160Zm220 220h160v-160H400v160Zm0 220h160v-160H400v160ZM180-400h160v-160H180v160Zm440 0h160v-160H620v160ZM180-180h160v-160H180v160Zm440 0h160v-160H620v160Z\"/>\n",
              "  </svg>\n",
              "    </button>\n",
              "\n",
              "  <style>\n",
              "    .colab-df-container {\n",
              "      display:flex;\n",
              "      gap: 12px;\n",
              "    }\n",
              "\n",
              "    .colab-df-convert {\n",
              "      background-color: #E8F0FE;\n",
              "      border: none;\n",
              "      border-radius: 50%;\n",
              "      cursor: pointer;\n",
              "      display: none;\n",
              "      fill: #1967D2;\n",
              "      height: 32px;\n",
              "      padding: 0 0 0 0;\n",
              "      width: 32px;\n",
              "    }\n",
              "\n",
              "    .colab-df-convert:hover {\n",
              "      background-color: #E2EBFA;\n",
              "      box-shadow: 0px 1px 2px rgba(60, 64, 67, 0.3), 0px 1px 3px 1px rgba(60, 64, 67, 0.15);\n",
              "      fill: #174EA6;\n",
              "    }\n",
              "\n",
              "    .colab-df-buttons div {\n",
              "      margin-bottom: 4px;\n",
              "    }\n",
              "\n",
              "    [theme=dark] .colab-df-convert {\n",
              "      background-color: #3B4455;\n",
              "      fill: #D2E3FC;\n",
              "    }\n",
              "\n",
              "    [theme=dark] .colab-df-convert:hover {\n",
              "      background-color: #434B5C;\n",
              "      box-shadow: 0px 1px 3px 1px rgba(0, 0, 0, 0.15);\n",
              "      filter: drop-shadow(0px 1px 2px rgba(0, 0, 0, 0.3));\n",
              "      fill: #FFFFFF;\n",
              "    }\n",
              "  </style>\n",
              "\n",
              "    <script>\n",
              "      const buttonEl =\n",
              "        document.querySelector('#df-f9ce53b7-78e5-4fa6-bd0d-a102849f7b41 button.colab-df-convert');\n",
              "      buttonEl.style.display =\n",
              "        google.colab.kernel.accessAllowed ? 'block' : 'none';\n",
              "\n",
              "      async function convertToInteractive(key) {\n",
              "        const element = document.querySelector('#df-f9ce53b7-78e5-4fa6-bd0d-a102849f7b41');\n",
              "        const dataTable =\n",
              "          await google.colab.kernel.invokeFunction('convertToInteractive',\n",
              "                                                    [key], {});\n",
              "        if (!dataTable) return;\n",
              "\n",
              "        const docLinkHtml = 'Like what you see? Visit the ' +\n",
              "          '<a target=\"_blank\" href=https://colab.research.google.com/notebooks/data_table.ipynb>data table notebook</a>'\n",
              "          + ' to learn more about interactive tables.';\n",
              "        element.innerHTML = '';\n",
              "        dataTable['output_type'] = 'display_data';\n",
              "        await google.colab.output.renderOutput(dataTable, element);\n",
              "        const docLink = document.createElement('div');\n",
              "        docLink.innerHTML = docLinkHtml;\n",
              "        element.appendChild(docLink);\n",
              "      }\n",
              "    </script>\n",
              "  </div>\n",
              "\n",
              "    </div>\n",
              "  </div>\n"
            ]
          },
          "metadata": {},
          "execution_count": 121
        }
      ],
      "source": [
        "north_india.head(2)"
      ]
    },
    {
      "cell_type": "code",
      "execution_count": 121,
      "id": "9c784dd4",
      "metadata": {
        "id": "9c784dd4"
      },
      "outputs": [],
      "source": []
    },
    {
      "cell_type": "code",
      "execution_count": 122,
      "id": "95c19c0b",
      "metadata": {
        "colab": {
          "base_uri": "https://localhost:8080/"
        },
        "id": "95c19c0b",
        "outputId": "9261008e-940c-4208-ef17-5895f7a21671"
      },
      "outputs": [
        {
          "output_type": "execute_result",
          "data": {
            "text/plain": [
              "BTM , Bangalore , Karnataka , India                  2469\n",
              "HSR , Bangalore , Karnataka , India                  1123\n",
              "Whitefield , Bangalore , Karnataka , India           1059\n",
              "Marathahalli , Bangalore , Karnataka , India         1038\n",
              "JP Nagar , Bangalore , Karnataka , India              958\n",
              "                                                     ... \n",
              "Hebbal , Bangalore , Karnataka , India                  4\n",
              "Jakkur , Bangalore , Karnataka , India                  3\n",
              "Central Bangalore , Bangalore , Karnataka , India       2\n",
              "West Bangalore , Bangalore , Karnataka , India          1\n",
              "Peenya , Bangalore , Karnataka , India                  1\n",
              "Name: location, Length: 90, dtype: int64"
            ]
          },
          "metadata": {},
          "execution_count": 122
        }
      ],
      "source": [
        "north_india[\"location\"].value_counts()"
      ]
    },
    {
      "cell_type": "code",
      "execution_count": 122,
      "id": "303e174e",
      "metadata": {
        "id": "303e174e"
      },
      "outputs": [],
      "source": []
    },
    {
      "cell_type": "code",
      "execution_count": 123,
      "id": "f81826ba",
      "metadata": {
        "id": "f81826ba"
      },
      "outputs": [],
      "source": [
        "north_india_rest_count = north_india[\"location\"].value_counts().reset_index().rename(columns = {\"index\":\"Name\",\"location\":\"Count\"})"
      ]
    },
    {
      "cell_type": "code",
      "execution_count": 124,
      "id": "356f4a82",
      "metadata": {
        "colab": {
          "base_uri": "https://localhost:8080/",
          "height": 682
        },
        "id": "356f4a82",
        "outputId": "f075b30c-8a1a-4d8d-a2ef-670bb6fcd580"
      },
      "outputs": [
        {
          "output_type": "execute_result",
          "data": {
            "text/plain": [
              "                                                 Name  Count\n",
              "0                 BTM , Bangalore , Karnataka , India   2469\n",
              "1                 HSR , Bangalore , Karnataka , India   1123\n",
              "2          Whitefield , Bangalore , Karnataka , India   1059\n",
              "3        Marathahalli , Bangalore , Karnataka , India   1038\n",
              "4            JP Nagar , Bangalore , Karnataka , India    958\n",
              "..                                                ...    ...\n",
              "85             Hebbal , Bangalore , Karnataka , India      4\n",
              "86             Jakkur , Bangalore , Karnataka , India      3\n",
              "87  Central Bangalore , Bangalore , Karnataka , India      2\n",
              "88     West Bangalore , Bangalore , Karnataka , India      1\n",
              "89             Peenya , Bangalore , Karnataka , India      1\n",
              "\n",
              "[90 rows x 2 columns]"
            ],
            "text/html": [
              "\n",
              "  <div id=\"df-787117dd-0751-4af7-84e6-195c26e6df74\" class=\"colab-df-container\">\n",
              "    <div>\n",
              "<style scoped>\n",
              "    .dataframe tbody tr th:only-of-type {\n",
              "        vertical-align: middle;\n",
              "    }\n",
              "\n",
              "    .dataframe tbody tr th {\n",
              "        vertical-align: top;\n",
              "    }\n",
              "\n",
              "    .dataframe thead th {\n",
              "        text-align: right;\n",
              "    }\n",
              "</style>\n",
              "<table border=\"1\" class=\"dataframe\">\n",
              "  <thead>\n",
              "    <tr style=\"text-align: right;\">\n",
              "      <th></th>\n",
              "      <th>Name</th>\n",
              "      <th>Count</th>\n",
              "    </tr>\n",
              "  </thead>\n",
              "  <tbody>\n",
              "    <tr>\n",
              "      <th>0</th>\n",
              "      <td>BTM , Bangalore , Karnataka , India</td>\n",
              "      <td>2469</td>\n",
              "    </tr>\n",
              "    <tr>\n",
              "      <th>1</th>\n",
              "      <td>HSR , Bangalore , Karnataka , India</td>\n",
              "      <td>1123</td>\n",
              "    </tr>\n",
              "    <tr>\n",
              "      <th>2</th>\n",
              "      <td>Whitefield , Bangalore , Karnataka , India</td>\n",
              "      <td>1059</td>\n",
              "    </tr>\n",
              "    <tr>\n",
              "      <th>3</th>\n",
              "      <td>Marathahalli , Bangalore , Karnataka , India</td>\n",
              "      <td>1038</td>\n",
              "    </tr>\n",
              "    <tr>\n",
              "      <th>4</th>\n",
              "      <td>JP Nagar , Bangalore , Karnataka , India</td>\n",
              "      <td>958</td>\n",
              "    </tr>\n",
              "    <tr>\n",
              "      <th>...</th>\n",
              "      <td>...</td>\n",
              "      <td>...</td>\n",
              "    </tr>\n",
              "    <tr>\n",
              "      <th>85</th>\n",
              "      <td>Hebbal , Bangalore , Karnataka , India</td>\n",
              "      <td>4</td>\n",
              "    </tr>\n",
              "    <tr>\n",
              "      <th>86</th>\n",
              "      <td>Jakkur , Bangalore , Karnataka , India</td>\n",
              "      <td>3</td>\n",
              "    </tr>\n",
              "    <tr>\n",
              "      <th>87</th>\n",
              "      <td>Central Bangalore , Bangalore , Karnataka , India</td>\n",
              "      <td>2</td>\n",
              "    </tr>\n",
              "    <tr>\n",
              "      <th>88</th>\n",
              "      <td>West Bangalore , Bangalore , Karnataka , India</td>\n",
              "      <td>1</td>\n",
              "    </tr>\n",
              "    <tr>\n",
              "      <th>89</th>\n",
              "      <td>Peenya , Bangalore , Karnataka , India</td>\n",
              "      <td>1</td>\n",
              "    </tr>\n",
              "  </tbody>\n",
              "</table>\n",
              "<p>90 rows × 2 columns</p>\n",
              "</div>\n",
              "    <div class=\"colab-df-buttons\">\n",
              "\n",
              "  <div class=\"colab-df-container\">\n",
              "    <button class=\"colab-df-convert\" onclick=\"convertToInteractive('df-787117dd-0751-4af7-84e6-195c26e6df74')\"\n",
              "            title=\"Convert this dataframe to an interactive table.\"\n",
              "            style=\"display:none;\">\n",
              "\n",
              "  <svg xmlns=\"http://www.w3.org/2000/svg\" height=\"24px\" viewBox=\"0 -960 960 960\">\n",
              "    <path d=\"M120-120v-720h720v720H120Zm60-500h600v-160H180v160Zm220 220h160v-160H400v160Zm0 220h160v-160H400v160ZM180-400h160v-160H180v160Zm440 0h160v-160H620v160ZM180-180h160v-160H180v160Zm440 0h160v-160H620v160Z\"/>\n",
              "  </svg>\n",
              "    </button>\n",
              "\n",
              "  <style>\n",
              "    .colab-df-container {\n",
              "      display:flex;\n",
              "      gap: 12px;\n",
              "    }\n",
              "\n",
              "    .colab-df-convert {\n",
              "      background-color: #E8F0FE;\n",
              "      border: none;\n",
              "      border-radius: 50%;\n",
              "      cursor: pointer;\n",
              "      display: none;\n",
              "      fill: #1967D2;\n",
              "      height: 32px;\n",
              "      padding: 0 0 0 0;\n",
              "      width: 32px;\n",
              "    }\n",
              "\n",
              "    .colab-df-convert:hover {\n",
              "      background-color: #E2EBFA;\n",
              "      box-shadow: 0px 1px 2px rgba(60, 64, 67, 0.3), 0px 1px 3px 1px rgba(60, 64, 67, 0.15);\n",
              "      fill: #174EA6;\n",
              "    }\n",
              "\n",
              "    .colab-df-buttons div {\n",
              "      margin-bottom: 4px;\n",
              "    }\n",
              "\n",
              "    [theme=dark] .colab-df-convert {\n",
              "      background-color: #3B4455;\n",
              "      fill: #D2E3FC;\n",
              "    }\n",
              "\n",
              "    [theme=dark] .colab-df-convert:hover {\n",
              "      background-color: #434B5C;\n",
              "      box-shadow: 0px 1px 3px 1px rgba(0, 0, 0, 0.15);\n",
              "      filter: drop-shadow(0px 1px 2px rgba(0, 0, 0, 0.3));\n",
              "      fill: #FFFFFF;\n",
              "    }\n",
              "  </style>\n",
              "\n",
              "    <script>\n",
              "      const buttonEl =\n",
              "        document.querySelector('#df-787117dd-0751-4af7-84e6-195c26e6df74 button.colab-df-convert');\n",
              "      buttonEl.style.display =\n",
              "        google.colab.kernel.accessAllowed ? 'block' : 'none';\n",
              "\n",
              "      async function convertToInteractive(key) {\n",
              "        const element = document.querySelector('#df-787117dd-0751-4af7-84e6-195c26e6df74');\n",
              "        const dataTable =\n",
              "          await google.colab.kernel.invokeFunction('convertToInteractive',\n",
              "                                                    [key], {});\n",
              "        if (!dataTable) return;\n",
              "\n",
              "        const docLinkHtml = 'Like what you see? Visit the ' +\n",
              "          '<a target=\"_blank\" href=https://colab.research.google.com/notebooks/data_table.ipynb>data table notebook</a>'\n",
              "          + ' to learn more about interactive tables.';\n",
              "        element.innerHTML = '';\n",
              "        dataTable['output_type'] = 'display_data';\n",
              "        await google.colab.output.renderOutput(dataTable, element);\n",
              "        const docLink = document.createElement('div');\n",
              "        docLink.innerHTML = docLinkHtml;\n",
              "        element.appendChild(docLink);\n",
              "      }\n",
              "    </script>\n",
              "  </div>\n",
              "\n",
              "\n",
              "<div id=\"df-44daf8c1-b332-4a6c-a2e3-0be3b2281d7c\">\n",
              "  <button class=\"colab-df-quickchart\" onclick=\"quickchart('df-44daf8c1-b332-4a6c-a2e3-0be3b2281d7c')\"\n",
              "            title=\"Suggest charts.\"\n",
              "            style=\"display:none;\">\n",
              "\n",
              "<svg xmlns=\"http://www.w3.org/2000/svg\" height=\"24px\"viewBox=\"0 0 24 24\"\n",
              "     width=\"24px\">\n",
              "    <g>\n",
              "        <path d=\"M19 3H5c-1.1 0-2 .9-2 2v14c0 1.1.9 2 2 2h14c1.1 0 2-.9 2-2V5c0-1.1-.9-2-2-2zM9 17H7v-7h2v7zm4 0h-2V7h2v10zm4 0h-2v-4h2v4z\"/>\n",
              "    </g>\n",
              "</svg>\n",
              "  </button>\n",
              "\n",
              "<style>\n",
              "  .colab-df-quickchart {\n",
              "    background-color: #E8F0FE;\n",
              "    border: none;\n",
              "    border-radius: 50%;\n",
              "    cursor: pointer;\n",
              "    display: none;\n",
              "    fill: #1967D2;\n",
              "    height: 32px;\n",
              "    padding: 0 0 0 0;\n",
              "    width: 32px;\n",
              "  }\n",
              "\n",
              "  .colab-df-quickchart:hover {\n",
              "    background-color: #E2EBFA;\n",
              "    box-shadow: 0px 1px 2px rgba(60, 64, 67, 0.3), 0px 1px 3px 1px rgba(60, 64, 67, 0.15);\n",
              "    fill: #174EA6;\n",
              "  }\n",
              "\n",
              "  [theme=dark] .colab-df-quickchart {\n",
              "    background-color: #3B4455;\n",
              "    fill: #D2E3FC;\n",
              "  }\n",
              "\n",
              "  [theme=dark] .colab-df-quickchart:hover {\n",
              "    background-color: #434B5C;\n",
              "    box-shadow: 0px 1px 3px 1px rgba(0, 0, 0, 0.15);\n",
              "    filter: drop-shadow(0px 1px 2px rgba(0, 0, 0, 0.3));\n",
              "    fill: #FFFFFF;\n",
              "  }\n",
              "</style>\n",
              "\n",
              "  <script>\n",
              "    async function quickchart(key) {\n",
              "      const charts = await google.colab.kernel.invokeFunction(\n",
              "          'suggestCharts', [key], {});\n",
              "    }\n",
              "    (() => {\n",
              "      let quickchartButtonEl =\n",
              "        document.querySelector('#df-44daf8c1-b332-4a6c-a2e3-0be3b2281d7c button');\n",
              "      quickchartButtonEl.style.display =\n",
              "        google.colab.kernel.accessAllowed ? 'block' : 'none';\n",
              "    })();\n",
              "  </script>\n",
              "</div>\n",
              "    </div>\n",
              "  </div>\n"
            ]
          },
          "metadata": {},
          "execution_count": 124
        }
      ],
      "source": [
        "north_india_rest_count"
      ]
    },
    {
      "cell_type": "code",
      "execution_count": 124,
      "id": "8a81e9d6",
      "metadata": {
        "id": "8a81e9d6"
      },
      "outputs": [],
      "source": []
    },
    {
      "cell_type": "code",
      "execution_count": 124,
      "id": "c4156f3c",
      "metadata": {
        "id": "c4156f3c"
      },
      "outputs": [],
      "source": []
    },
    {
      "cell_type": "code",
      "execution_count": 125,
      "id": "fbe04850",
      "metadata": {
        "scrolled": true,
        "id": "fbe04850"
      },
      "outputs": [],
      "source": [
        "heatmap_df = north_india_rest_count.merge(locations, on = \"Name\",how = \"left\")"
      ]
    },
    {
      "cell_type": "code",
      "execution_count": 126,
      "id": "247f09b9",
      "metadata": {
        "colab": {
          "base_uri": "https://localhost:8080/",
          "height": 423
        },
        "id": "247f09b9",
        "outputId": "346b2241-3c45-4ae2-b55e-fdb2fdda618d"
      },
      "outputs": [
        {
          "output_type": "execute_result",
          "data": {
            "text/plain": [
              "                                                 Name  Count   latitude  \\\n",
              "0                 BTM , Bangalore , Karnataka , India   2469  12.911276   \n",
              "1                 HSR , Bangalore , Karnataka , India   1123  12.911623   \n",
              "2          Whitefield , Bangalore , Karnataka , India   1059  12.969637   \n",
              "3        Marathahalli , Bangalore , Karnataka , India   1038  12.955257   \n",
              "4            JP Nagar , Bangalore , Karnataka , India    958  12.912076   \n",
              "..                                                ...    ...        ...   \n",
              "85             Hebbal , Bangalore , Karnataka , India      4  13.038218   \n",
              "86             Jakkur , Bangalore , Karnataka , India      3  13.078474   \n",
              "87  Central Bangalore , Bangalore , Karnataka , India      2  12.973037   \n",
              "88     West Bangalore , Bangalore , Karnataka , India      1  13.022235   \n",
              "89             Peenya , Bangalore , Karnataka , India      1  13.032942   \n",
              "\n",
              "    longitude  \n",
              "0   77.604565  \n",
              "1   77.638862  \n",
              "2   77.749745  \n",
              "3   77.698416  \n",
              "4   77.579393  \n",
              "..        ...  \n",
              "85  77.591900  \n",
              "86  77.606894  \n",
              "87  77.538238  \n",
              "88  77.567183  \n",
              "89  77.527325  \n",
              "\n",
              "[90 rows x 4 columns]"
            ],
            "text/html": [
              "\n",
              "  <div id=\"df-62145ba5-ac78-42c1-ae10-0bb9b0c06db4\" class=\"colab-df-container\">\n",
              "    <div>\n",
              "<style scoped>\n",
              "    .dataframe tbody tr th:only-of-type {\n",
              "        vertical-align: middle;\n",
              "    }\n",
              "\n",
              "    .dataframe tbody tr th {\n",
              "        vertical-align: top;\n",
              "    }\n",
              "\n",
              "    .dataframe thead th {\n",
              "        text-align: right;\n",
              "    }\n",
              "</style>\n",
              "<table border=\"1\" class=\"dataframe\">\n",
              "  <thead>\n",
              "    <tr style=\"text-align: right;\">\n",
              "      <th></th>\n",
              "      <th>Name</th>\n",
              "      <th>Count</th>\n",
              "      <th>latitude</th>\n",
              "      <th>longitude</th>\n",
              "    </tr>\n",
              "  </thead>\n",
              "  <tbody>\n",
              "    <tr>\n",
              "      <th>0</th>\n",
              "      <td>BTM , Bangalore , Karnataka , India</td>\n",
              "      <td>2469</td>\n",
              "      <td>12.911276</td>\n",
              "      <td>77.604565</td>\n",
              "    </tr>\n",
              "    <tr>\n",
              "      <th>1</th>\n",
              "      <td>HSR , Bangalore , Karnataka , India</td>\n",
              "      <td>1123</td>\n",
              "      <td>12.911623</td>\n",
              "      <td>77.638862</td>\n",
              "    </tr>\n",
              "    <tr>\n",
              "      <th>2</th>\n",
              "      <td>Whitefield , Bangalore , Karnataka , India</td>\n",
              "      <td>1059</td>\n",
              "      <td>12.969637</td>\n",
              "      <td>77.749745</td>\n",
              "    </tr>\n",
              "    <tr>\n",
              "      <th>3</th>\n",
              "      <td>Marathahalli , Bangalore , Karnataka , India</td>\n",
              "      <td>1038</td>\n",
              "      <td>12.955257</td>\n",
              "      <td>77.698416</td>\n",
              "    </tr>\n",
              "    <tr>\n",
              "      <th>4</th>\n",
              "      <td>JP Nagar , Bangalore , Karnataka , India</td>\n",
              "      <td>958</td>\n",
              "      <td>12.912076</td>\n",
              "      <td>77.579393</td>\n",
              "    </tr>\n",
              "    <tr>\n",
              "      <th>...</th>\n",
              "      <td>...</td>\n",
              "      <td>...</td>\n",
              "      <td>...</td>\n",
              "      <td>...</td>\n",
              "    </tr>\n",
              "    <tr>\n",
              "      <th>85</th>\n",
              "      <td>Hebbal , Bangalore , Karnataka , India</td>\n",
              "      <td>4</td>\n",
              "      <td>13.038218</td>\n",
              "      <td>77.591900</td>\n",
              "    </tr>\n",
              "    <tr>\n",
              "      <th>86</th>\n",
              "      <td>Jakkur , Bangalore , Karnataka , India</td>\n",
              "      <td>3</td>\n",
              "      <td>13.078474</td>\n",
              "      <td>77.606894</td>\n",
              "    </tr>\n",
              "    <tr>\n",
              "      <th>87</th>\n",
              "      <td>Central Bangalore , Bangalore , Karnataka , India</td>\n",
              "      <td>2</td>\n",
              "      <td>12.973037</td>\n",
              "      <td>77.538238</td>\n",
              "    </tr>\n",
              "    <tr>\n",
              "      <th>88</th>\n",
              "      <td>West Bangalore , Bangalore , Karnataka , India</td>\n",
              "      <td>1</td>\n",
              "      <td>13.022235</td>\n",
              "      <td>77.567183</td>\n",
              "    </tr>\n",
              "    <tr>\n",
              "      <th>89</th>\n",
              "      <td>Peenya , Bangalore , Karnataka , India</td>\n",
              "      <td>1</td>\n",
              "      <td>13.032942</td>\n",
              "      <td>77.527325</td>\n",
              "    </tr>\n",
              "  </tbody>\n",
              "</table>\n",
              "<p>90 rows × 4 columns</p>\n",
              "</div>\n",
              "    <div class=\"colab-df-buttons\">\n",
              "\n",
              "  <div class=\"colab-df-container\">\n",
              "    <button class=\"colab-df-convert\" onclick=\"convertToInteractive('df-62145ba5-ac78-42c1-ae10-0bb9b0c06db4')\"\n",
              "            title=\"Convert this dataframe to an interactive table.\"\n",
              "            style=\"display:none;\">\n",
              "\n",
              "  <svg xmlns=\"http://www.w3.org/2000/svg\" height=\"24px\" viewBox=\"0 -960 960 960\">\n",
              "    <path d=\"M120-120v-720h720v720H120Zm60-500h600v-160H180v160Zm220 220h160v-160H400v160Zm0 220h160v-160H400v160ZM180-400h160v-160H180v160Zm440 0h160v-160H620v160ZM180-180h160v-160H180v160Zm440 0h160v-160H620v160Z\"/>\n",
              "  </svg>\n",
              "    </button>\n",
              "\n",
              "  <style>\n",
              "    .colab-df-container {\n",
              "      display:flex;\n",
              "      gap: 12px;\n",
              "    }\n",
              "\n",
              "    .colab-df-convert {\n",
              "      background-color: #E8F0FE;\n",
              "      border: none;\n",
              "      border-radius: 50%;\n",
              "      cursor: pointer;\n",
              "      display: none;\n",
              "      fill: #1967D2;\n",
              "      height: 32px;\n",
              "      padding: 0 0 0 0;\n",
              "      width: 32px;\n",
              "    }\n",
              "\n",
              "    .colab-df-convert:hover {\n",
              "      background-color: #E2EBFA;\n",
              "      box-shadow: 0px 1px 2px rgba(60, 64, 67, 0.3), 0px 1px 3px 1px rgba(60, 64, 67, 0.15);\n",
              "      fill: #174EA6;\n",
              "    }\n",
              "\n",
              "    .colab-df-buttons div {\n",
              "      margin-bottom: 4px;\n",
              "    }\n",
              "\n",
              "    [theme=dark] .colab-df-convert {\n",
              "      background-color: #3B4455;\n",
              "      fill: #D2E3FC;\n",
              "    }\n",
              "\n",
              "    [theme=dark] .colab-df-convert:hover {\n",
              "      background-color: #434B5C;\n",
              "      box-shadow: 0px 1px 3px 1px rgba(0, 0, 0, 0.15);\n",
              "      filter: drop-shadow(0px 1px 2px rgba(0, 0, 0, 0.3));\n",
              "      fill: #FFFFFF;\n",
              "    }\n",
              "  </style>\n",
              "\n",
              "    <script>\n",
              "      const buttonEl =\n",
              "        document.querySelector('#df-62145ba5-ac78-42c1-ae10-0bb9b0c06db4 button.colab-df-convert');\n",
              "      buttonEl.style.display =\n",
              "        google.colab.kernel.accessAllowed ? 'block' : 'none';\n",
              "\n",
              "      async function convertToInteractive(key) {\n",
              "        const element = document.querySelector('#df-62145ba5-ac78-42c1-ae10-0bb9b0c06db4');\n",
              "        const dataTable =\n",
              "          await google.colab.kernel.invokeFunction('convertToInteractive',\n",
              "                                                    [key], {});\n",
              "        if (!dataTable) return;\n",
              "\n",
              "        const docLinkHtml = 'Like what you see? Visit the ' +\n",
              "          '<a target=\"_blank\" href=https://colab.research.google.com/notebooks/data_table.ipynb>data table notebook</a>'\n",
              "          + ' to learn more about interactive tables.';\n",
              "        element.innerHTML = '';\n",
              "        dataTable['output_type'] = 'display_data';\n",
              "        await google.colab.output.renderOutput(dataTable, element);\n",
              "        const docLink = document.createElement('div');\n",
              "        docLink.innerHTML = docLinkHtml;\n",
              "        element.appendChild(docLink);\n",
              "      }\n",
              "    </script>\n",
              "  </div>\n",
              "\n",
              "\n",
              "<div id=\"df-8b7d2b66-6431-4f7b-94c6-4337ae189e92\">\n",
              "  <button class=\"colab-df-quickchart\" onclick=\"quickchart('df-8b7d2b66-6431-4f7b-94c6-4337ae189e92')\"\n",
              "            title=\"Suggest charts.\"\n",
              "            style=\"display:none;\">\n",
              "\n",
              "<svg xmlns=\"http://www.w3.org/2000/svg\" height=\"24px\"viewBox=\"0 0 24 24\"\n",
              "     width=\"24px\">\n",
              "    <g>\n",
              "        <path d=\"M19 3H5c-1.1 0-2 .9-2 2v14c0 1.1.9 2 2 2h14c1.1 0 2-.9 2-2V5c0-1.1-.9-2-2-2zM9 17H7v-7h2v7zm4 0h-2V7h2v10zm4 0h-2v-4h2v4z\"/>\n",
              "    </g>\n",
              "</svg>\n",
              "  </button>\n",
              "\n",
              "<style>\n",
              "  .colab-df-quickchart {\n",
              "    background-color: #E8F0FE;\n",
              "    border: none;\n",
              "    border-radius: 50%;\n",
              "    cursor: pointer;\n",
              "    display: none;\n",
              "    fill: #1967D2;\n",
              "    height: 32px;\n",
              "    padding: 0 0 0 0;\n",
              "    width: 32px;\n",
              "  }\n",
              "\n",
              "  .colab-df-quickchart:hover {\n",
              "    background-color: #E2EBFA;\n",
              "    box-shadow: 0px 1px 2px rgba(60, 64, 67, 0.3), 0px 1px 3px 1px rgba(60, 64, 67, 0.15);\n",
              "    fill: #174EA6;\n",
              "  }\n",
              "\n",
              "  [theme=dark] .colab-df-quickchart {\n",
              "    background-color: #3B4455;\n",
              "    fill: #D2E3FC;\n",
              "  }\n",
              "\n",
              "  [theme=dark] .colab-df-quickchart:hover {\n",
              "    background-color: #434B5C;\n",
              "    box-shadow: 0px 1px 3px 1px rgba(0, 0, 0, 0.15);\n",
              "    filter: drop-shadow(0px 1px 2px rgba(0, 0, 0, 0.3));\n",
              "    fill: #FFFFFF;\n",
              "  }\n",
              "</style>\n",
              "\n",
              "  <script>\n",
              "    async function quickchart(key) {\n",
              "      const charts = await google.colab.kernel.invokeFunction(\n",
              "          'suggestCharts', [key], {});\n",
              "    }\n",
              "    (() => {\n",
              "      let quickchartButtonEl =\n",
              "        document.querySelector('#df-8b7d2b66-6431-4f7b-94c6-4337ae189e92 button');\n",
              "      quickchartButtonEl.style.display =\n",
              "        google.colab.kernel.accessAllowed ? 'block' : 'none';\n",
              "    })();\n",
              "  </script>\n",
              "</div>\n",
              "    </div>\n",
              "  </div>\n"
            ]
          },
          "metadata": {},
          "execution_count": 126
        }
      ],
      "source": [
        "heatmap_df"
      ]
    },
    {
      "cell_type": "code",
      "execution_count": 126,
      "id": "b9fe78f4",
      "metadata": {
        "id": "b9fe78f4"
      },
      "outputs": [],
      "source": []
    },
    {
      "cell_type": "code",
      "execution_count": 126,
      "id": "d3eb5fd7",
      "metadata": {
        "id": "d3eb5fd7"
      },
      "outputs": [],
      "source": []
    },
    {
      "cell_type": "code",
      "execution_count": 127,
      "id": "f1d9a822",
      "metadata": {
        "colab": {
          "base_uri": "https://localhost:8080/"
        },
        "id": "f1d9a822",
        "outputId": "0c1ead60-21c9-426f-f2a3-c778c33d2d66"
      },
      "outputs": [
        {
          "output_type": "stream",
          "name": "stdout",
          "text": [
            "Requirement already satisfied: folium in /usr/local/lib/python3.10/dist-packages (0.14.0)\n",
            "Requirement already satisfied: branca>=0.6.0 in /usr/local/lib/python3.10/dist-packages (from folium) (0.6.0)\n",
            "Requirement already satisfied: jinja2>=2.9 in /usr/local/lib/python3.10/dist-packages (from folium) (3.1.2)\n",
            "Requirement already satisfied: numpy in /usr/local/lib/python3.10/dist-packages (from folium) (1.23.5)\n",
            "Requirement already satisfied: requests in /usr/local/lib/python3.10/dist-packages (from folium) (2.31.0)\n",
            "Requirement already satisfied: MarkupSafe>=2.0 in /usr/local/lib/python3.10/dist-packages (from jinja2>=2.9->folium) (2.1.3)\n",
            "Requirement already satisfied: charset-normalizer<4,>=2 in /usr/local/lib/python3.10/dist-packages (from requests->folium) (3.2.0)\n",
            "Requirement already satisfied: idna<4,>=2.5 in /usr/local/lib/python3.10/dist-packages (from requests->folium) (3.4)\n",
            "Requirement already satisfied: urllib3<3,>=1.21.1 in /usr/local/lib/python3.10/dist-packages (from requests->folium) (2.0.4)\n",
            "Requirement already satisfied: certifi>=2017.4.17 in /usr/local/lib/python3.10/dist-packages (from requests->folium) (2023.7.22)\n"
          ]
        }
      ],
      "source": [
        "!pip install folium"
      ]
    },
    {
      "cell_type": "code",
      "execution_count": 128,
      "id": "4a930536",
      "metadata": {
        "id": "4a930536"
      },
      "outputs": [],
      "source": [
        "import folium"
      ]
    },
    {
      "cell_type": "code",
      "execution_count": 129,
      "id": "4b1111d0",
      "metadata": {
        "id": "4b1111d0"
      },
      "outputs": [],
      "source": [
        "basemap = folium.Map()"
      ]
    },
    {
      "cell_type": "code",
      "execution_count": 130,
      "id": "a62ec79c",
      "metadata": {
        "colab": {
          "base_uri": "https://localhost:8080/",
          "height": 866
        },
        "id": "a62ec79c",
        "outputId": "13900f23-dab1-411d-891a-9b7646764006"
      },
      "outputs": [
        {
          "output_type": "execute_result",
          "data": {
            "text/plain": [
              "<folium.folium.Map at 0x7a13b605b760>"
            ],
            "text/html": [
              "<div style=\"width:100%;\"><div style=\"position:relative;width:100%;height:0;padding-bottom:60%;\"><span style=\"color:#565656\">Make this Notebook Trusted to load map: File -> Trust Notebook</span><iframe srcdoc=\"&lt;!DOCTYPE html&gt;\n",
              "&lt;html&gt;\n",
              "&lt;head&gt;\n",
              "    \n",
              "    &lt;meta http-equiv=&quot;content-type&quot; content=&quot;text/html; charset=UTF-8&quot; /&gt;\n",
              "    \n",
              "        &lt;script&gt;\n",
              "            L_NO_TOUCH = false;\n",
              "            L_DISABLE_3D = false;\n",
              "        &lt;/script&gt;\n",
              "    \n",
              "    &lt;style&gt;html, body {width: 100%;height: 100%;margin: 0;padding: 0;}&lt;/style&gt;\n",
              "    &lt;style&gt;#map {position:absolute;top:0;bottom:0;right:0;left:0;}&lt;/style&gt;\n",
              "    &lt;script src=&quot;https://cdn.jsdelivr.net/npm/leaflet@1.9.3/dist/leaflet.js&quot;&gt;&lt;/script&gt;\n",
              "    &lt;script src=&quot;https://code.jquery.com/jquery-1.12.4.min.js&quot;&gt;&lt;/script&gt;\n",
              "    &lt;script src=&quot;https://cdn.jsdelivr.net/npm/bootstrap@5.2.2/dist/js/bootstrap.bundle.min.js&quot;&gt;&lt;/script&gt;\n",
              "    &lt;script src=&quot;https://cdnjs.cloudflare.com/ajax/libs/Leaflet.awesome-markers/2.0.2/leaflet.awesome-markers.js&quot;&gt;&lt;/script&gt;\n",
              "    &lt;link rel=&quot;stylesheet&quot; href=&quot;https://cdn.jsdelivr.net/npm/leaflet@1.9.3/dist/leaflet.css&quot;/&gt;\n",
              "    &lt;link rel=&quot;stylesheet&quot; href=&quot;https://cdn.jsdelivr.net/npm/bootstrap@5.2.2/dist/css/bootstrap.min.css&quot;/&gt;\n",
              "    &lt;link rel=&quot;stylesheet&quot; href=&quot;https://netdna.bootstrapcdn.com/bootstrap/3.0.0/css/bootstrap.min.css&quot;/&gt;\n",
              "    &lt;link rel=&quot;stylesheet&quot; href=&quot;https://cdn.jsdelivr.net/npm/@fortawesome/fontawesome-free@6.2.0/css/all.min.css&quot;/&gt;\n",
              "    &lt;link rel=&quot;stylesheet&quot; href=&quot;https://cdnjs.cloudflare.com/ajax/libs/Leaflet.awesome-markers/2.0.2/leaflet.awesome-markers.css&quot;/&gt;\n",
              "    &lt;link rel=&quot;stylesheet&quot; href=&quot;https://cdn.jsdelivr.net/gh/python-visualization/folium/folium/templates/leaflet.awesome.rotate.min.css&quot;/&gt;\n",
              "    \n",
              "            &lt;meta name=&quot;viewport&quot; content=&quot;width=device-width,\n",
              "                initial-scale=1.0, maximum-scale=1.0, user-scalable=no&quot; /&gt;\n",
              "            &lt;style&gt;\n",
              "                #map_8f1ed2c38c51b0f4f7d98241a6075c71 {\n",
              "                    position: relative;\n",
              "                    width: 100.0%;\n",
              "                    height: 100.0%;\n",
              "                    left: 0.0%;\n",
              "                    top: 0.0%;\n",
              "                }\n",
              "                .leaflet-container { font-size: 1rem; }\n",
              "            &lt;/style&gt;\n",
              "        \n",
              "&lt;/head&gt;\n",
              "&lt;body&gt;\n",
              "    \n",
              "    \n",
              "            &lt;div class=&quot;folium-map&quot; id=&quot;map_8f1ed2c38c51b0f4f7d98241a6075c71&quot; &gt;&lt;/div&gt;\n",
              "        \n",
              "&lt;/body&gt;\n",
              "&lt;script&gt;\n",
              "    \n",
              "    \n",
              "            var map_8f1ed2c38c51b0f4f7d98241a6075c71 = L.map(\n",
              "                &quot;map_8f1ed2c38c51b0f4f7d98241a6075c71&quot;,\n",
              "                {\n",
              "                    center: [0, 0],\n",
              "                    crs: L.CRS.EPSG3857,\n",
              "                    zoom: 1,\n",
              "                    zoomControl: true,\n",
              "                    preferCanvas: false,\n",
              "                }\n",
              "            );\n",
              "\n",
              "            \n",
              "\n",
              "        \n",
              "    \n",
              "            var tile_layer_2706ec10e0b97d5d065a0031615472d6 = L.tileLayer(\n",
              "                &quot;https://{s}.tile.openstreetmap.org/{z}/{x}/{y}.png&quot;,\n",
              "                {&quot;attribution&quot;: &quot;Data by \\u0026copy; \\u003ca target=\\&quot;_blank\\&quot; href=\\&quot;http://openstreetmap.org\\&quot;\\u003eOpenStreetMap\\u003c/a\\u003e, under \\u003ca target=\\&quot;_blank\\&quot; href=\\&quot;http://www.openstreetmap.org/copyright\\&quot;\\u003eODbL\\u003c/a\\u003e.&quot;, &quot;detectRetina&quot;: false, &quot;maxNativeZoom&quot;: 18, &quot;maxZoom&quot;: 18, &quot;minZoom&quot;: 0, &quot;noWrap&quot;: false, &quot;opacity&quot;: 1, &quot;subdomains&quot;: &quot;abc&quot;, &quot;tms&quot;: false}\n",
              "            ).addTo(map_8f1ed2c38c51b0f4f7d98241a6075c71);\n",
              "        \n",
              "&lt;/script&gt;\n",
              "&lt;/html&gt;\" style=\"position:absolute;width:100%;height:100%;left:0;top:0;border:none !important;\" allowfullscreen webkitallowfullscreen mozallowfullscreen></iframe></div></div>"
            ]
          },
          "metadata": {},
          "execution_count": 130
        }
      ],
      "source": [
        "basemap"
      ]
    },
    {
      "cell_type": "code",
      "execution_count": 130,
      "id": "a43690bb",
      "metadata": {
        "id": "a43690bb"
      },
      "outputs": [],
      "source": []
    },
    {
      "cell_type": "code",
      "execution_count": 131,
      "id": "f2569af7",
      "metadata": {
        "colab": {
          "base_uri": "https://localhost:8080/"
        },
        "id": "f2569af7",
        "outputId": "0c9e4959-ee20-46cf-c8b0-31bcc98b69c5"
      },
      "outputs": [
        {
          "output_type": "execute_result",
          "data": {
            "text/plain": [
              "Index(['Name', 'Count', 'latitude', 'longitude'], dtype='object')"
            ]
          },
          "metadata": {},
          "execution_count": 131
        }
      ],
      "source": [
        "heatmap_df.columns"
      ]
    },
    {
      "cell_type": "code",
      "execution_count": 131,
      "id": "74e18e47",
      "metadata": {
        "id": "74e18e47"
      },
      "outputs": [],
      "source": []
    },
    {
      "cell_type": "code",
      "execution_count": 132,
      "id": "c3d1b8b5",
      "metadata": {
        "id": "c3d1b8b5"
      },
      "outputs": [],
      "source": [
        "from folium.plugins import HeatMap"
      ]
    },
    {
      "cell_type": "code",
      "execution_count": 133,
      "id": "612db920",
      "metadata": {
        "colab": {
          "base_uri": "https://localhost:8080/"
        },
        "id": "612db920",
        "outputId": "216ecfba-6c3e-4280-c1e2-5385886a5a6c"
      },
      "outputs": [
        {
          "output_type": "execute_result",
          "data": {
            "text/plain": [
              "<folium.plugins.heat_map.HeatMap at 0x7a13b5edc970>"
            ]
          },
          "metadata": {},
          "execution_count": 133
        }
      ],
      "source": [
        "HeatMap(heatmap_df[['latitude', 'longitude', \"Count\"]]).add_to(basemap)"
      ]
    },
    {
      "cell_type": "code",
      "execution_count": 133,
      "id": "d23ae122",
      "metadata": {
        "id": "d23ae122"
      },
      "outputs": [],
      "source": []
    },
    {
      "cell_type": "code",
      "execution_count": 134,
      "id": "f8d65983",
      "metadata": {
        "colab": {
          "base_uri": "https://localhost:8080/",
          "height": 866
        },
        "id": "f8d65983",
        "outputId": "4e6f8b73-dbde-458e-c159-ef5dfd8c2438"
      },
      "outputs": [
        {
          "output_type": "execute_result",
          "data": {
            "text/plain": [
              "<folium.folium.Map at 0x7a13b605b760>"
            ],
            "text/html": [
              "<div style=\"width:100%;\"><div style=\"position:relative;width:100%;height:0;padding-bottom:60%;\"><span style=\"color:#565656\">Make this Notebook Trusted to load map: File -> Trust Notebook</span><iframe srcdoc=\"&lt;!DOCTYPE html&gt;\n",
              "&lt;html&gt;\n",
              "&lt;head&gt;\n",
              "    \n",
              "    &lt;meta http-equiv=&quot;content-type&quot; content=&quot;text/html; charset=UTF-8&quot; /&gt;\n",
              "    \n",
              "        &lt;script&gt;\n",
              "            L_NO_TOUCH = false;\n",
              "            L_DISABLE_3D = false;\n",
              "        &lt;/script&gt;\n",
              "    \n",
              "    &lt;style&gt;html, body {width: 100%;height: 100%;margin: 0;padding: 0;}&lt;/style&gt;\n",
              "    &lt;style&gt;#map {position:absolute;top:0;bottom:0;right:0;left:0;}&lt;/style&gt;\n",
              "    &lt;script src=&quot;https://cdn.jsdelivr.net/npm/leaflet@1.9.3/dist/leaflet.js&quot;&gt;&lt;/script&gt;\n",
              "    &lt;script src=&quot;https://code.jquery.com/jquery-1.12.4.min.js&quot;&gt;&lt;/script&gt;\n",
              "    &lt;script src=&quot;https://cdn.jsdelivr.net/npm/bootstrap@5.2.2/dist/js/bootstrap.bundle.min.js&quot;&gt;&lt;/script&gt;\n",
              "    &lt;script src=&quot;https://cdnjs.cloudflare.com/ajax/libs/Leaflet.awesome-markers/2.0.2/leaflet.awesome-markers.js&quot;&gt;&lt;/script&gt;\n",
              "    &lt;link rel=&quot;stylesheet&quot; href=&quot;https://cdn.jsdelivr.net/npm/leaflet@1.9.3/dist/leaflet.css&quot;/&gt;\n",
              "    &lt;link rel=&quot;stylesheet&quot; href=&quot;https://cdn.jsdelivr.net/npm/bootstrap@5.2.2/dist/css/bootstrap.min.css&quot;/&gt;\n",
              "    &lt;link rel=&quot;stylesheet&quot; href=&quot;https://netdna.bootstrapcdn.com/bootstrap/3.0.0/css/bootstrap.min.css&quot;/&gt;\n",
              "    &lt;link rel=&quot;stylesheet&quot; href=&quot;https://cdn.jsdelivr.net/npm/@fortawesome/fontawesome-free@6.2.0/css/all.min.css&quot;/&gt;\n",
              "    &lt;link rel=&quot;stylesheet&quot; href=&quot;https://cdnjs.cloudflare.com/ajax/libs/Leaflet.awesome-markers/2.0.2/leaflet.awesome-markers.css&quot;/&gt;\n",
              "    &lt;link rel=&quot;stylesheet&quot; href=&quot;https://cdn.jsdelivr.net/gh/python-visualization/folium/folium/templates/leaflet.awesome.rotate.min.css&quot;/&gt;\n",
              "    \n",
              "            &lt;meta name=&quot;viewport&quot; content=&quot;width=device-width,\n",
              "                initial-scale=1.0, maximum-scale=1.0, user-scalable=no&quot; /&gt;\n",
              "            &lt;style&gt;\n",
              "                #map_8f1ed2c38c51b0f4f7d98241a6075c71 {\n",
              "                    position: relative;\n",
              "                    width: 100.0%;\n",
              "                    height: 100.0%;\n",
              "                    left: 0.0%;\n",
              "                    top: 0.0%;\n",
              "                }\n",
              "                .leaflet-container { font-size: 1rem; }\n",
              "            &lt;/style&gt;\n",
              "        \n",
              "    &lt;script src=&quot;https://cdn.jsdelivr.net/gh/python-visualization/folium@main/folium/templates/leaflet_heat.min.js&quot;&gt;&lt;/script&gt;\n",
              "&lt;/head&gt;\n",
              "&lt;body&gt;\n",
              "    \n",
              "    \n",
              "            &lt;div class=&quot;folium-map&quot; id=&quot;map_8f1ed2c38c51b0f4f7d98241a6075c71&quot; &gt;&lt;/div&gt;\n",
              "        \n",
              "&lt;/body&gt;\n",
              "&lt;script&gt;\n",
              "    \n",
              "    \n",
              "            var map_8f1ed2c38c51b0f4f7d98241a6075c71 = L.map(\n",
              "                &quot;map_8f1ed2c38c51b0f4f7d98241a6075c71&quot;,\n",
              "                {\n",
              "                    center: [0, 0],\n",
              "                    crs: L.CRS.EPSG3857,\n",
              "                    zoom: 1,\n",
              "                    zoomControl: true,\n",
              "                    preferCanvas: false,\n",
              "                }\n",
              "            );\n",
              "\n",
              "            \n",
              "\n",
              "        \n",
              "    \n",
              "            var tile_layer_2706ec10e0b97d5d065a0031615472d6 = L.tileLayer(\n",
              "                &quot;https://{s}.tile.openstreetmap.org/{z}/{x}/{y}.png&quot;,\n",
              "                {&quot;attribution&quot;: &quot;Data by \\u0026copy; \\u003ca target=\\&quot;_blank\\&quot; href=\\&quot;http://openstreetmap.org\\&quot;\\u003eOpenStreetMap\\u003c/a\\u003e, under \\u003ca target=\\&quot;_blank\\&quot; href=\\&quot;http://www.openstreetmap.org/copyright\\&quot;\\u003eODbL\\u003c/a\\u003e.&quot;, &quot;detectRetina&quot;: false, &quot;maxNativeZoom&quot;: 18, &quot;maxZoom&quot;: 18, &quot;minZoom&quot;: 0, &quot;noWrap&quot;: false, &quot;opacity&quot;: 1, &quot;subdomains&quot;: &quot;abc&quot;, &quot;tms&quot;: false}\n",
              "            ).addTo(map_8f1ed2c38c51b0f4f7d98241a6075c71);\n",
              "        \n",
              "    \n",
              "            var heat_map_1c6861e773a68bfe2ac45b3eb9a1dea9 = L.heatLayer(\n",
              "                [[12.911275849999999, 77.60456543431182, 2469.0], [12.9116225, 77.6388622, 1123.0], [12.9696365, 77.7497448, 1059.0], [12.9552572, 77.6984163, 1038.0], [12.9120761, 77.57939318031076, 958.0], [12.9348429, 77.6189768, 755.0], [12.8721497, 77.5938626, 701.0], [12.9732913, 77.6404672, 678.0], [12.848759900000001, 77.64825295827616, 675.0], [12.9292731, 77.5824229, 664.0], [12.93103185, 77.6782471, 659.0], [12.9277245, 77.6327822, 601.0], [12.9242269, 77.6518529, 529.0], [12.9390255, 77.6238477, 408.0], [12.9364846, 77.6134783, 390.0], [12.9778793, 77.6246697, 376.0], [12.9755264, 77.6067902, 359.0], [12.9327778, 77.6294052, 351.0], [12.9750849, 77.6079337, 323.0], [12.9657739, 77.6038697, 312.0], [12.9152208, 77.573598, 309.0], [12.957434549999999, 77.71470815294066, 282.0], [12.986391, 77.6075416, 272.0], [13.0243476, 77.5720015, 267.0], [13.0221416, 77.6403368, 262.0], [12.9882338, 77.554883, 230.0], [13.0141618, 77.6518539, 227.0], [12.9830573, 77.5986159, 224.0], [12.9575547, 77.5979099, 223.0], [13.0027353, 77.5703253, 215.0], [12.9718074, 77.6067816, 214.0], [12.9591862, 77.6572247, 214.0], [12.945245, 77.6269144, 202.0], [12.9986827, 77.615525, 201.0], [12.9624669, 77.6381958, 199.0], [12.9417261, 77.5755021, 189.0], [13.0093455, 77.6377094, 175.0], [12.9755764, 77.6025727, 173.0], [12.9489339, 77.5968273, 132.0], [12.9089453, 77.6239038, 129.0], [12.9720412, 77.5985228, 128.0], [12.988721250000001, 77.58516877601824, 127.0], [12.9744255, 77.6015388, 121.0], [12.9678074, 77.6568367, 117.0], [12.9408685, 77.617338, 103.0], [12.9081487, 77.5553179, 98.0], [13.0422794, 77.6248577, 96.0], [12.9282918, 77.6254034, 84.0], [12.9931876, 77.5753419, 83.0], [12.973936, 77.6509982, 78.0], [12.9822323, 77.6082954, 76.0], [12.9830667, 77.5768071, 76.0], [12.9390803, 77.6098663, 73.0], [13.02383, 77.5529215, 72.0], [12.9756601, 77.5731558, 69.0], [13.0258087, 77.6305067, 68.0], [12.9933829, 77.5389467, 65.0], [12.9802639, 77.6042636, 61.0], [12.965717999999999, 77.5762705372058, 58.0], [12.9243692, 77.6242433, 58.0], [13.0227204, 77.595715, 51.0], [13.0358698, 77.6323597, 51.0], [12.9864828, 77.7315457, 50.0], [12.9846713, 77.6790908, 47.0], [12.9413238, 77.7471103, 47.0], [12.9658625, 77.6124731531352, 35.0], [12.9578658, 77.6958748, 34.0], [12.9287596, 77.6287122, 31.0], [12.985098650000001, 77.66311735, 30.0], [12.957998, 77.6037312, 22.0], [13.0068, 77.5813, 20.0], [12.9340114, 77.6222304, 19.0], [13.0464531, 77.5483803, 19.0], [12.9993929, 77.5842337, 17.0], [12.9124938, 77.5730592, 16.0], [13.0163, 77.6785, 14.0], [13.008835099999999, 77.66514810398235, 14.0], [13.0621474, 77.58006135480495, 13.0], [12.9055682, 77.5455438, 13.0], [12.975608, 77.5553564, 12.0], [13.007516, 77.695935, 12.0], [12.9467026, 77.5300705, 11.0], [13.0076091, 77.6900228, 7.0], [13.022234699999998, 77.56718324768107, 6.0], [13.00196975, 77.52883895255425, 5.0], [13.0382184, 77.5919, 4.0], [13.0784743, 77.6068938, 3.0], [12.9730367, 77.5382383, 2.0], [13.022234699999998, 77.56718324768107, 1.0], [13.0329419, 77.5273253, 1.0]],\n",
              "                {&quot;blur&quot;: 15, &quot;maxZoom&quot;: 18, &quot;minOpacity&quot;: 0.5, &quot;radius&quot;: 25}\n",
              "            ).addTo(map_8f1ed2c38c51b0f4f7d98241a6075c71);\n",
              "        \n",
              "&lt;/script&gt;\n",
              "&lt;/html&gt;\" style=\"position:absolute;width:100%;height:100%;left:0;top:0;border:none !important;\" allowfullscreen webkitallowfullscreen mozallowfullscreen></iframe></div></div>"
            ]
          },
          "metadata": {},
          "execution_count": 134
        }
      ],
      "source": [
        "basemap"
      ]
    },
    {
      "cell_type": "code",
      "execution_count": 134,
      "id": "b00d09aa",
      "metadata": {
        "id": "b00d09aa"
      },
      "outputs": [],
      "source": []
    },
    {
      "cell_type": "code",
      "execution_count": 134,
      "id": "a3c91010",
      "metadata": {
        "id": "a3c91010"
      },
      "outputs": [],
      "source": []
    },
    {
      "cell_type": "code",
      "execution_count": 134,
      "id": "de3af9ea",
      "metadata": {
        "id": "de3af9ea"
      },
      "outputs": [],
      "source": []
    },
    {
      "cell_type": "code",
      "execution_count": 134,
      "id": "90c4d2ec",
      "metadata": {
        "id": "90c4d2ec"
      },
      "outputs": [],
      "source": []
    },
    {
      "cell_type": "markdown",
      "id": "3f0f58ec",
      "metadata": {
        "id": "3f0f58ec"
      },
      "source": [
        "### How to automate your task : i.e. Perform Automation"
      ]
    },
    {
      "cell_type": "code",
      "execution_count": 134,
      "id": "5e714aa0",
      "metadata": {
        "id": "5e714aa0"
      },
      "outputs": [],
      "source": []
    },
    {
      "cell_type": "code",
      "execution_count": 134,
      "id": "1f868eb3",
      "metadata": {
        "id": "1f868eb3"
      },
      "outputs": [],
      "source": []
    },
    {
      "cell_type": "code",
      "execution_count": 135,
      "id": "a17815da",
      "metadata": {
        "id": "a17815da"
      },
      "outputs": [],
      "source": [
        "def get_heatmap(cuisine):\n",
        "    cuisine_df = df[df[\"cuisines\"].str.contains(cuisine)]\n",
        "    cuisine_rest_count = cuisine_df[\"location\"].value_counts().reset_index().rename(columns = {\"index\":\"Name\",\"location\":\"Count\"})\n",
        "    heatmap_df = cuisine_rest_count.merge(locations, on = \"Name\",how = \"left\")\n",
        "    print(heatmap_df.head(4))\n",
        "\n",
        "    basemap = folium.Map()\n",
        "    HeatMap(heatmap_df[['latitude', 'longitude', \"Count\"]]).add_to(basemap)\n",
        "    return basemap"
      ]
    },
    {
      "cell_type": "code",
      "execution_count": 135,
      "id": "c58f217f",
      "metadata": {
        "id": "c58f217f"
      },
      "outputs": [],
      "source": []
    },
    {
      "cell_type": "code",
      "execution_count": 136,
      "id": "97644cab",
      "metadata": {
        "colab": {
          "base_uri": "https://localhost:8080/",
          "height": 952
        },
        "id": "97644cab",
        "outputId": "87b0f373-d312-4c8a-9213-6506af008660"
      },
      "outputs": [
        {
          "output_type": "stream",
          "name": "stdout",
          "text": [
            "                                        Name  Count   latitude  longitude\n",
            "0        BTM , Bangalore , Karnataka , India    815  12.911276  77.604565\n",
            "1   JP Nagar , Bangalore , Karnataka , India    437  12.912076  77.579393\n",
            "2        HSR , Bangalore , Karnataka , India    436  12.911623  77.638862\n",
            "3  Jayanagar , Bangalore , Karnataka , India    416  12.929273  77.582423\n"
          ]
        },
        {
          "output_type": "execute_result",
          "data": {
            "text/plain": [
              "<folium.folium.Map at 0x7a13b5ea7700>"
            ],
            "text/html": [
              "<div style=\"width:100%;\"><div style=\"position:relative;width:100%;height:0;padding-bottom:60%;\"><span style=\"color:#565656\">Make this Notebook Trusted to load map: File -> Trust Notebook</span><iframe srcdoc=\"&lt;!DOCTYPE html&gt;\n",
              "&lt;html&gt;\n",
              "&lt;head&gt;\n",
              "    \n",
              "    &lt;meta http-equiv=&quot;content-type&quot; content=&quot;text/html; charset=UTF-8&quot; /&gt;\n",
              "    \n",
              "        &lt;script&gt;\n",
              "            L_NO_TOUCH = false;\n",
              "            L_DISABLE_3D = false;\n",
              "        &lt;/script&gt;\n",
              "    \n",
              "    &lt;style&gt;html, body {width: 100%;height: 100%;margin: 0;padding: 0;}&lt;/style&gt;\n",
              "    &lt;style&gt;#map {position:absolute;top:0;bottom:0;right:0;left:0;}&lt;/style&gt;\n",
              "    &lt;script src=&quot;https://cdn.jsdelivr.net/npm/leaflet@1.9.3/dist/leaflet.js&quot;&gt;&lt;/script&gt;\n",
              "    &lt;script src=&quot;https://code.jquery.com/jquery-1.12.4.min.js&quot;&gt;&lt;/script&gt;\n",
              "    &lt;script src=&quot;https://cdn.jsdelivr.net/npm/bootstrap@5.2.2/dist/js/bootstrap.bundle.min.js&quot;&gt;&lt;/script&gt;\n",
              "    &lt;script src=&quot;https://cdnjs.cloudflare.com/ajax/libs/Leaflet.awesome-markers/2.0.2/leaflet.awesome-markers.js&quot;&gt;&lt;/script&gt;\n",
              "    &lt;link rel=&quot;stylesheet&quot; href=&quot;https://cdn.jsdelivr.net/npm/leaflet@1.9.3/dist/leaflet.css&quot;/&gt;\n",
              "    &lt;link rel=&quot;stylesheet&quot; href=&quot;https://cdn.jsdelivr.net/npm/bootstrap@5.2.2/dist/css/bootstrap.min.css&quot;/&gt;\n",
              "    &lt;link rel=&quot;stylesheet&quot; href=&quot;https://netdna.bootstrapcdn.com/bootstrap/3.0.0/css/bootstrap.min.css&quot;/&gt;\n",
              "    &lt;link rel=&quot;stylesheet&quot; href=&quot;https://cdn.jsdelivr.net/npm/@fortawesome/fontawesome-free@6.2.0/css/all.min.css&quot;/&gt;\n",
              "    &lt;link rel=&quot;stylesheet&quot; href=&quot;https://cdnjs.cloudflare.com/ajax/libs/Leaflet.awesome-markers/2.0.2/leaflet.awesome-markers.css&quot;/&gt;\n",
              "    &lt;link rel=&quot;stylesheet&quot; href=&quot;https://cdn.jsdelivr.net/gh/python-visualization/folium/folium/templates/leaflet.awesome.rotate.min.css&quot;/&gt;\n",
              "    \n",
              "            &lt;meta name=&quot;viewport&quot; content=&quot;width=device-width,\n",
              "                initial-scale=1.0, maximum-scale=1.0, user-scalable=no&quot; /&gt;\n",
              "            &lt;style&gt;\n",
              "                #map_48bfbf823286020de9566d8cfa55ad00 {\n",
              "                    position: relative;\n",
              "                    width: 100.0%;\n",
              "                    height: 100.0%;\n",
              "                    left: 0.0%;\n",
              "                    top: 0.0%;\n",
              "                }\n",
              "                .leaflet-container { font-size: 1rem; }\n",
              "            &lt;/style&gt;\n",
              "        \n",
              "    &lt;script src=&quot;https://cdn.jsdelivr.net/gh/python-visualization/folium@main/folium/templates/leaflet_heat.min.js&quot;&gt;&lt;/script&gt;\n",
              "&lt;/head&gt;\n",
              "&lt;body&gt;\n",
              "    \n",
              "    \n",
              "            &lt;div class=&quot;folium-map&quot; id=&quot;map_48bfbf823286020de9566d8cfa55ad00&quot; &gt;&lt;/div&gt;\n",
              "        \n",
              "&lt;/body&gt;\n",
              "&lt;script&gt;\n",
              "    \n",
              "    \n",
              "            var map_48bfbf823286020de9566d8cfa55ad00 = L.map(\n",
              "                &quot;map_48bfbf823286020de9566d8cfa55ad00&quot;,\n",
              "                {\n",
              "                    center: [0, 0],\n",
              "                    crs: L.CRS.EPSG3857,\n",
              "                    zoom: 1,\n",
              "                    zoomControl: true,\n",
              "                    preferCanvas: false,\n",
              "                }\n",
              "            );\n",
              "\n",
              "            \n",
              "\n",
              "        \n",
              "    \n",
              "            var tile_layer_f6957a412b49b5c0603cefea933437f8 = L.tileLayer(\n",
              "                &quot;https://{s}.tile.openstreetmap.org/{z}/{x}/{y}.png&quot;,\n",
              "                {&quot;attribution&quot;: &quot;Data by \\u0026copy; \\u003ca target=\\&quot;_blank\\&quot; href=\\&quot;http://openstreetmap.org\\&quot;\\u003eOpenStreetMap\\u003c/a\\u003e, under \\u003ca target=\\&quot;_blank\\&quot; href=\\&quot;http://www.openstreetmap.org/copyright\\&quot;\\u003eODbL\\u003c/a\\u003e.&quot;, &quot;detectRetina&quot;: false, &quot;maxNativeZoom&quot;: 18, &quot;maxZoom&quot;: 18, &quot;minZoom&quot;: 0, &quot;noWrap&quot;: false, &quot;opacity&quot;: 1, &quot;subdomains&quot;: &quot;abc&quot;, &quot;tms&quot;: false}\n",
              "            ).addTo(map_48bfbf823286020de9566d8cfa55ad00);\n",
              "        \n",
              "    \n",
              "            var heat_map_c519eb81770768db30faac4325c8dd3e = L.heatLayer(\n",
              "                [[12.911275849999999, 77.60456543431182, 815.0], [12.9120761, 77.57939318031076, 437.0], [12.9116225, 77.6388622, 436.0], [12.9292731, 77.5824229, 416.0], [12.9696365, 77.7497448, 308.0], [12.848759900000001, 77.64825295827616, 308.0], [12.8721497, 77.5938626, 302.0], [12.9552572, 77.6984163, 293.0], [12.9152208, 77.573598, 242.0], [12.9732913, 77.6404672, 235.0], [12.9417261, 77.5755021, 218.0], [12.9882338, 77.554883, 217.0], [12.9750849, 77.6079337, 211.0], [12.9277245, 77.6327822, 187.0], [12.93103185, 77.6782471, 183.0], [12.9778793, 77.6246697, 182.0], [12.9242269, 77.6518529, 180.0], [12.9390255, 77.6238477, 164.0], [13.0027353, 77.5703253, 160.0], [12.986391, 77.6075416, 160.0], [12.9348429, 77.6189768, 155.0], [13.0141618, 77.6518539, 155.0], [12.9575547, 77.5979099, 153.0], [12.9657739, 77.6038697, 149.0], [12.957434549999999, 77.71470815294066, 133.0], [13.0093455, 77.6377094, 117.0], [12.9364846, 77.6134783, 102.0], [12.9327778, 77.6294052, 102.0], [12.9830573, 77.5986159, 99.0], [13.0243476, 77.5720015, 92.0], [12.9986827, 77.615525, 92.0], [12.9756601, 77.5731558, 88.0], [13.0221416, 77.6403368, 85.0], [12.9718074, 77.6067816, 85.0], [12.9755264, 77.6067902, 82.0], [12.9591862, 77.6572247, 69.0], [12.9624669, 77.6381958, 65.0], [12.9408685, 77.617338, 62.0], [12.988721250000001, 77.58516877601824, 59.0], [12.965717999999999, 77.5762705372058, 56.0], [12.9830667, 77.5768071, 51.0], [12.9089453, 77.6239038, 48.0], [12.9755764, 77.6025727, 46.0], [12.9678074, 77.6568367, 46.0], [12.9489339, 77.5968273, 44.0], [12.9822323, 77.6082954, 44.0], [12.9933829, 77.5389467, 41.0], [12.945245, 77.6269144, 40.0], [12.9081487, 77.5553179, 38.0], [12.973936, 77.6509982, 37.0], [12.9744255, 77.6015388, 37.0], [13.02383, 77.5529215, 35.0], [12.9658625, 77.6124731531352, 35.0], [12.9802639, 77.6042636, 33.0], [12.9390803, 77.6098663, 32.0], [13.0422794, 77.6248577, 31.0], [13.0358698, 77.6323597, 29.0], [12.9413238, 77.7471103, 26.0], [13.0258087, 77.6305067, 25.0], [12.9846713, 77.6790908, 22.0], [12.9931876, 77.5753419, 22.0], [12.9243692, 77.6242433, 18.0], [13.0227204, 77.595715, 18.0], [12.975608, 77.5553564, 17.0], [12.9467026, 77.5300705, 17.0], [12.9282918, 77.6254034, 16.0], [12.9720412, 77.5985228, 16.0], [12.985098650000001, 77.66311735, 14.0], [13.0464531, 77.5483803, 13.0], [13.0621474, 77.58006135480495, 13.0], [12.9124938, 77.5730592, 12.0], [12.9578658, 77.6958748, 10.0], [12.9864828, 77.7315457, 10.0], [13.0068, 77.5813, 9.0], [13.00196975, 77.52883895255425, 8.0], [13.0163, 77.6785, 7.0], [13.007516, 77.695935, 6.0], [12.9993929, 77.5842337, 5.0], [13.1006982, 77.5963454, 4.0], [12.9055682, 77.5455438, 4.0], [13.0784743, 77.6068938, 3.0], [13.008835099999999, 77.66514810398235, 3.0], [13.0076091, 77.6900228, 2.0], [13.022234699999998, 77.56718324768107, 1.0], [12.9287596, 77.6287122, 1.0], [13.0382184, 77.5919, 1.0]],\n",
              "                {&quot;blur&quot;: 15, &quot;maxZoom&quot;: 18, &quot;minOpacity&quot;: 0.5, &quot;radius&quot;: 25}\n",
              "            ).addTo(map_48bfbf823286020de9566d8cfa55ad00);\n",
              "        \n",
              "&lt;/script&gt;\n",
              "&lt;/html&gt;\" style=\"position:absolute;width:100%;height:100%;left:0;top:0;border:none !important;\" allowfullscreen webkitallowfullscreen mozallowfullscreen></iframe></div></div>"
            ]
          },
          "metadata": {},
          "execution_count": 136
        }
      ],
      "source": [
        "get_heatmap(\"South Indian\")"
      ]
    },
    {
      "cell_type": "code",
      "execution_count": 136,
      "id": "be1981a5",
      "metadata": {
        "id": "be1981a5"
      },
      "outputs": [],
      "source": []
    },
    {
      "cell_type": "code",
      "execution_count": 137,
      "id": "2fdddcef",
      "metadata": {
        "colab": {
          "base_uri": "https://localhost:8080/"
        },
        "id": "2fdddcef",
        "outputId": "2969dd02-f2b0-47e3-840c-e646b5ef5645"
      },
      "outputs": [
        {
          "output_type": "execute_result",
          "data": {
            "text/plain": [
              "array(['North Indian, Mughlai, Chinese', 'Chinese, North Indian, Thai',\n",
              "       'Cafe, Mexican, Italian', ...,\n",
              "       'North Indian, Street Food, Biryani', 'Chinese, Mughlai',\n",
              "       'North Indian, Chinese, Arabian, Momos'], dtype=object)"
            ]
          },
          "metadata": {},
          "execution_count": 137
        }
      ],
      "source": [
        "df[\"cuisines\"].unique()"
      ]
    }
  ],
  "metadata": {
    "kernelspec": {
      "display_name": "Python 3 (ipykernel)",
      "language": "python",
      "name": "python3"
    },
    "language_info": {
      "codemirror_mode": {
        "name": "ipython",
        "version": 3
      },
      "file_extension": ".py",
      "mimetype": "text/x-python",
      "name": "python",
      "nbconvert_exporter": "python",
      "pygments_lexer": "ipython3",
      "version": "3.11.3"
    },
    "colab": {
      "provenance": [],
      "include_colab_link": true
    }
  },
  "nbformat": 4,
  "nbformat_minor": 5
}